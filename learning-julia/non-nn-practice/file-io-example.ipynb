{
 "cells": [
  {
   "cell_type": "code",
   "execution_count": 2,
   "id": "8b93a218",
   "metadata": {},
   "outputs": [],
   "source": [
    "pwd();\n",
    "#= open an entire csv file, it seems readcsv does not work any more =#\n",
    "using DelimitedFiles;\n",
    "data1 = readdlm(\"./test-data-set/Magic/magic04.csv\"); \n",
    "\n"
   ]
  },
  {
   "cell_type": "code",
   "execution_count": 3,
   "id": "c96b8700",
   "metadata": {},
   "outputs": [],
   "source": [
    "#= open an entire texd file with IO =#\n",
    "f = open(\"test-data-set/Magic/magic04.csv\", \"r\");\n",
    "data2 = readlines(f);\n",
    "close(f)"
   ]
  },
  {
   "cell_type": "code",
   "execution_count": 5,
   "id": "f9868a87",
   "metadata": {},
   "outputs": [],
   "source": [
    "#= open and read all =#\n",
    "f = open(\"test-data-set/Magic/magic04.csv\", \"r\");\n",
    "data3 = read(f,String);\n",
    "close(f);\n",
    "\n",
    "#= so readall() does not work anymore as well =#\n",
    "#= difference between this and cell above: it add a \\n at the end =#\n",
    "\n",
    "#= for write, replace \"r\" with \"w\" and use write() =#"
   ]
  }
 ],
 "metadata": {
  "kernelspec": {
   "display_name": "Julia 1.4.1",
   "language": "julia",
   "name": "julia-1.4"
  },
  "language_info": {
   "file_extension": ".jl",
   "mimetype": "application/julia",
   "name": "julia",
   "version": "1.4.1"
  }
 },
 "nbformat": 4,
 "nbformat_minor": 5
}
