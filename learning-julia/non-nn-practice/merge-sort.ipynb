{
 "cells": [
  {
   "cell_type": "code",
   "execution_count": 58,
   "id": "036f1d49",
   "metadata": {},
   "outputs": [
    {
     "data": {
      "text/plain": [
       "merge (generic function with 1 method)"
      ]
     },
     "execution_count": 58,
     "metadata": {},
     "output_type": "execute_result"
    }
   ],
   "source": [
    "# Merge function to sort the input in order\n",
    "function merge(arr, left, mid, right)\n",
    "    # temp array to store sorted index, from start point to end point\n",
    "    temp = zeros(right-left+1)\n",
    "    i = left\n",
    "    j = mid+1\n",
    "    k = 1\n",
    "    \n",
    "    # compare both part of the input index by index, w.r.t the mid point\n",
    "    # store the smaller index into the temp array and increment that index\n",
    "    while i <= mid && j <= right\n",
    "        if arr[i] <= arr[j]\n",
    "            temp[k] = arr[i]\n",
    "            k += 1\n",
    "            i += 1\n",
    "        else \n",
    "            temp[k] = arr[j]\n",
    "            k += 1\n",
    "            j += 1\n",
    "        end\n",
    "    end\n",
    "    \n",
    "    # after the comparison, copy whatever's left in both part\n",
    "    while i <= mid\n",
    "        temp[k] = arr[i]\n",
    "        k += 1\n",
    "        i += 1\n",
    "    end\n",
    "    \n",
    "    while j <= right\n",
    "        temp[k] = arr[j]\n",
    "        k += 1\n",
    "        j += 1\n",
    "    end\n",
    "    \n",
    "    # copy everything in the temp array into the original\n",
    "    for m in left:right\n",
    "        arr[m] = temp[m-left + 1]\n",
    "    end\n",
    "    \n",
    "    return arr\n",
    "end"
   ]
  },
  {
   "cell_type": "code",
   "execution_count": 59,
   "id": "dc67e94d",
   "metadata": {},
   "outputs": [
    {
     "data": {
      "text/plain": [
       "merge_sort (generic function with 1 method)"
      ]
     },
     "execution_count": 59,
     "metadata": {},
     "output_type": "execute_result"
    }
   ],
   "source": [
    "# A recursion function, break the array in to parts and merge with comparison\n",
    "function merge_sort(arr, left, right) \n",
    "    # terminate condition\n",
    "    if right > left \n",
    "        # get the mid point to break the array into 2 parts\n",
    "        mid = div(left+right, 2)\n",
    "        # recurse on the left\n",
    "        merge_sort(arr, left, mid)\n",
    "        # recurse on the right\n",
    "        merge_sort(arr, mid+1, right)\n",
    "        # merge the array by comparison\n",
    "        merge(arr, left, mid, right)\n",
    "    end\n",
    "   \n",
    "end"
   ]
  },
  {
   "cell_type": "code",
   "execution_count": 60,
   "id": "158358ec",
   "metadata": {},
   "outputs": [
    {
     "name": "stdout",
     "output_type": "stream",
     "text": [
      "Sorted int array by self-defined mergeSort function: [1, 2, 4, 4, 6, 7, 9, 12, 12, 34, 42, 42, 136]\n",
      "Sorted double array by self-defined mergeSort function: [0.2, 2.55, 3.14159, 4.356, 6.8, 9.882, 12.4, 114.514]\n"
     ]
    }
   ],
   "source": [
    "#= MergeSort is a very sophisticated sorting algorithm, with relatively good \n",
    "   Complexity O(nlogn) and is very stable. I believe the sort!() function \n",
    "   implemented in Julia used MergeSort as well. I wrote this to test out how \n",
    "   function calling and recursion works in Julia, and also practice debuggin \n",
    "   in Julia, as recursion naturally introduces bugs. A very good aspect of \n",
    "   Julia is that it's very generic compare to those traditional programming \n",
    "   language, I do not even have to define type for each function-it works for all!=#\n",
    "\n",
    "# an int array and a double array ready to be sorted\n",
    "int_arr = Int64[42,12,4,6,42,12,7,4,9,136,2, 34,1]\n",
    "double_arr = Float64[0.2, 12.4, 2.55, 6.8, 4.356, 3.14159, 114.514, 9.882]\n",
    "# get the result from MergeSort\n",
    "int_out = merge_sort(int_arr,1,length(int_arr))\n",
    "double_out = merge_sort(double_arr,1,length(double_arr))\n",
    "# check if the algo works properly\n",
    "println(\"Sorted int array by self-defined mergeSort function: \", int_out)\n",
    "println(\"Sorted double array by self-defined mergeSort function: \", double_out)"
   ]
  }
 ],
 "metadata": {
  "kernelspec": {
   "display_name": "Julia 1.4.1",
   "language": "julia",
   "name": "julia-1.4"
  },
  "language_info": {
   "file_extension": ".jl",
   "mimetype": "application/julia",
   "name": "julia",
   "version": "1.4.1"
  }
 },
 "nbformat": 4,
 "nbformat_minor": 5
}
