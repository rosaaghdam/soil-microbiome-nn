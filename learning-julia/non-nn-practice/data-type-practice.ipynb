{
 "cells": [
  {
   "cell_type": "code",
   "execution_count": 7,
   "id": "805449de",
   "metadata": {},
   "outputs": [
    {
     "name": "stdout",
     "output_type": "stream",
     "text": [
      "Int64\n",
      "Int64\n",
      "Int8\n"
     ]
    }
   ],
   "source": [
    "#Integer\n",
    "x=1;\n",
    "println(typeof(x));\n",
    "y=11451499828;\n",
    "println(typeof(y));\n",
    "# it seems all numbers are set to default in Int64\n",
    "z=Int8(x);\n",
    "println(typeof(z));\n",
    "# so the int type is based on bits"
   ]
  },
  {
   "cell_type": "code",
   "execution_count": 12,
   "id": "cc3c733b",
   "metadata": {},
   "outputs": [
    {
     "name": "stdout",
     "output_type": "stream",
     "text": [
      "Float64\n",
      "Bool\n",
      "Char\n",
      "String\n",
      "Int128\n",
      "Float64\n",
      "Array{Any,1}\n"
     ]
    }
   ],
   "source": [
    "#Other simple data type\n",
    "x=114.514;\n",
    "y=false;   #must be lower case\n",
    "z='c';\n",
    "l=\"String\";  #single '' for char and double \"\" for String, same as Java\n",
    "k=BigInt(); #better practice to declear before define if using BigInt of BigFloat\n",
    "k=987654324567890098768765456789000;\n",
    "m=98765432345678909876543567890987.654345;\n",
    "p=[x,y,z,l]; # array does not have to contain same data type elements\n",
    "\n",
    "println(typeof(x));\n",
    "println(typeof(y));\n",
    "println(typeof(z));\n",
    "println(typeof(l));\n",
    "println(typeof(k)); # appearently BigInt/float is outdated....\n",
    "println(typeof(m)); # make sense as 2^128 are quite large, handles 31 significant value\n",
    "println(typeof(p));"
   ]
  },
  {
   "cell_type": "code",
   "execution_count": 30,
   "id": "e1d0d86d",
   "metadata": {},
   "outputs": [
    {
     "name": "stdout",
     "output_type": "stream",
     "text": [
      "1\n",
      "pie\n",
      "Any[1, 3.1415, false, 'c', \"pie\"]\n",
      "Any[1, 3.1415, false]\n",
      "Any[3.1415, \"pie\"]\n",
      "[1 3 5; 2 4 6]\n"
     ]
    }
   ],
   "source": [
    "# more on array\n",
    "arr = [1,3.1415,false,'c',\"pie\"];\n",
    "println(arr[1]);    # so Julia's array start at index 1\n",
    "println(arr[end]);  # it could directly access the last index, no need to know the length of array\n",
    "println(arr); # able to directly print an entire array with no for loop\n",
    "# array is mutable in Julia, so its ok to declare and populate\n",
    "# arr2 = Array(Int64, 5); appearently this is also outdated\n",
    "data1 = Array{Int64}(undef, 2, 3);   # int64 array with 2 rows and 3 cols\n",
    "data2 = Array{Float64}(undef, 4);  # a four element vector\n",
    "data3 = Array{Union{Nothing, String}}(nothing, 2); # nothing is like null or void in other languages\n",
    "# more functions on array at: https://docs.julialang.org/en/v1/base/arrays/#Core.Array\n",
    "# access multiple element in arr\n",
    "println(arr[1:3]);\n",
    "println(arr[[2,5]]);\n",
    "# init muli dim array\n",
    "data1[:] = 1:6;\n",
    "println(data1);"
   ]
  }
 ],
 "metadata": {
  "kernelspec": {
   "display_name": "Julia 1.4.1",
   "language": "julia",
   "name": "julia-1.4"
  },
  "language_info": {
   "file_extension": ".jl",
   "mimetype": "application/julia",
   "name": "julia",
   "version": "1.4.1"
  }
 },
 "nbformat": 4,
 "nbformat_minor": 5
}
