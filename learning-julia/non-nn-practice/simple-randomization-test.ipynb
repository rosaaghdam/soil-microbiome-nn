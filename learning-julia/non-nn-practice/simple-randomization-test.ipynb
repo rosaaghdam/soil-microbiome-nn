{
 "cells": [
  {
   "cell_type": "code",
   "execution_count": 18,
   "id": "fabd7578",
   "metadata": {},
   "outputs": [
    {
     "data": {
      "text/plain": [
       "square (generic function with 2 methods)"
      ]
     },
     "execution_count": 18,
     "metadata": {},
     "output_type": "execute_result"
    }
   ],
   "source": [
    "# a helper function that calculate the square\n",
    "function square(x::Float64)\n",
    "    return x*x\n",
    "end"
   ]
  },
  {
   "cell_type": "code",
   "execution_count": 19,
   "id": "e421654f",
   "metadata": {},
   "outputs": [
    {
     "data": {
      "text/plain": [
       "square_sum (generic function with 1 method)"
      ]
     },
     "execution_count": 19,
     "metadata": {},
     "output_type": "execute_result"
    }
   ],
   "source": [
    "# input an array of 24 samples and return its SSE\n",
    "function square_sum(x::Array{Int64})\n",
    "    sum1 = 0\n",
    "    sum2 = 0\n",
    "    sum3 = 0\n",
    "    sum4 = 0\n",
    "    # assign each sample into one of the 4 treatment\n",
    "    for i in 1:24 \n",
    "        if i <= 4\n",
    "            sum1 += x[i]\n",
    "        elseif i <= 10\n",
    "            sum2 += x[i]\n",
    "        elseif i <= 16\n",
    "            sum3 += x[i]\n",
    "        elseif i <= 24\n",
    "            sum4 += x[i]\n",
    "        end\n",
    "    end\n",
    "    # calculate the SSE, the sample mean here is always 64\n",
    "    sq_sum = square(sum1/4 - 64)*4 + square(sum2/6 - 64)*6 + square(sum3/6 - 64)*6 + square(sum4/8 - 64)*8\n",
    "    return sq_sum\n",
    "end"
   ]
  },
  {
   "cell_type": "code",
   "execution_count": 60,
   "id": "add2af5a",
   "metadata": {},
   "outputs": [
    {
     "data": {
      "text/plain": [
       "main (generic function with 1 method)"
      ]
     },
     "execution_count": 60,
     "metadata": {},
     "output_type": "execute_result"
    }
   ],
   "source": [
    "#= get the original observation and number of simulation\n",
    ", return the p value=#\n",
    "function main(x::Array{Int64},y::Int64)\n",
    "    # number of simulations which has a larger SSE than the original\n",
    "    f_count = 0\n",
    "    # run y simulations\n",
    "    for i in 1:y\n",
    "        # shuffle the original observation randomly\n",
    "        rand_arr = rand(x, 24)\n",
    "        # if SSE is larger than 228 (original SSE), increment count\n",
    "        if square_sum(rand_arr) > 228\n",
    "            f_count+=1\n",
    "        end\n",
    "    end\n",
    "    # return the p-value\n",
    "    return f_count / y\n",
    "end"
   ]
  },
  {
   "cell_type": "code",
   "execution_count": 62,
   "id": "beb870cb",
   "metadata": {},
   "outputs": [
    {
     "data": {
      "text/plain": [
       "0.0020447627674003645"
      ]
     },
     "execution_count": 62,
     "metadata": {},
     "output_type": "execute_result"
    }
   ],
   "source": [
    "#= A simple randomization test I wrote for a homework in STAT 602\n",
    "   The original program was written in C, I wrote this to practice\n",
    "   and also compare the speed of Julia and C, as there are claim \n",
    "   that Julia is almost as fast as C =#\n",
    "\n",
    "# The original observed 24 subjects grouped into 4 treatment\n",
    "# The number of each treatment is 4,6,6,8\n",
    "arr = Int64[62, 60, 63, 59, 63, 67, 71, 64, 65, 66, 68, \n",
    "    66, 71, 67, 68, 68, 56, 62, 60, 61, 63, 64, 63, 59]\n",
    "# get a p-value of 130 million simulations from the algorithm\n",
    "out = main(arr, 134451294)\n",
    "\n",
    "#= Julia runs surprisingly fast, almost the same as C. However, the \n",
    "   result of the simulation is vastly different from C, possibly due\n",
    "   to the improper use of rand() function. I wrote the randomization \n",
    "   function of all samples by myself in C wheara here I used the rand() \n",
    "   function directly, I'll dig further into that =#"
   ]
  }
 ],
 "metadata": {
  "kernelspec": {
   "display_name": "Julia 1.4.1",
   "language": "julia",
   "name": "julia-1.4"
  },
  "language_info": {
   "file_extension": ".jl",
   "mimetype": "application/julia",
   "name": "julia",
   "version": "1.4.1"
  }
 },
 "nbformat": 4,
 "nbformat_minor": 5
}
