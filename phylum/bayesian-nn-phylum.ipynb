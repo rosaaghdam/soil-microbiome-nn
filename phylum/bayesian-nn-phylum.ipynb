{
 "cells": [
  {
   "cell_type": "code",
   "execution_count": 1,
   "id": "78776274",
   "metadata": {},
   "outputs": [
    {
     "name": "stderr",
     "output_type": "stream",
     "text": [
      "┌ Info: [Turing]: progress logging is disabled globally\n",
      "└ @ Turing C:\\Users\\XudongT\\.julia\\packages\\Turing\\S4Y4B\\src\\Turing.jl:22\n",
      "┌ Info: [AdvancedVI]: global PROGRESS is set as false\n",
      "└ @ AdvancedVI C:\\Users\\XudongT\\.julia\\packages\\AdvancedVI\\W2zsz\\src\\AdvancedVI.jl:15\n"
     ]
    },
    {
     "data": {
      "text/plain": [
       ":reversediff"
      ]
     },
     "execution_count": 1,
     "metadata": {},
     "output_type": "execute_result"
    }
   ],
   "source": [
    "using Flux, Statistics\n",
    "using Flux: onehotbatch, onecold, crossentropy, throttle, params \n",
    "using Base.Iterators: repeated, partition\n",
    "using Printf, BSON\n",
    "using CSV\n",
    "using DataFrames\n",
    "using Tables\n",
    "using Random\n",
    "using Plots\n",
    "using Turing, ReverseDiff\n",
    "\n",
    "Turing.setprogress!(false);\n",
    "Turing.setadbackend(:reversediff)"
   ]
  },
  {
   "cell_type": "code",
   "execution_count": 2,
   "id": "74d4fd09",
   "metadata": {},
   "outputs": [],
   "source": [
    "BSON.@load \"AENN.bson\" model"
   ]
  },
  {
   "cell_type": "code",
   "execution_count": 3,
   "id": "528fbca7",
   "metadata": {},
   "outputs": [],
   "source": [
    "original_dat = CSV.read(\"../processed-data/otu-yield-per-plant.csv\", header=true, DataFrame)\n",
    "generated_dat = CSV.read(\"../processed-data/generated-data.csv\", header=false, DataFrame)\n",
    "\n",
    "original = Matrix(original_dat)\n",
    "generated = Matrix(generated_dat)\n",
    "full_data = vcat(original, generated)\n",
    "\n",
    "otu = full_data[:,2:60]\n",
    "label = full_data[:,62];"
   ]
  },
  {
   "cell_type": "code",
   "execution_count": 4,
   "id": "1c84dd42",
   "metadata": {},
   "outputs": [],
   "source": [
    "code = Array{Float32}(undef, size(otu)[1], 5)\n",
    "for i in 1:size(otu)[1]\n",
    "    code[i,:] .= model[1](otu[i,:])\n",
    "end"
   ]
  },
  {
   "cell_type": "code",
   "execution_count": 19,
   "id": "65d97e72",
   "metadata": {},
   "outputs": [],
   "source": [
    "code_vec = Array([[code[i,1];code[i,2];code[i,3];code[i,4];code[i,5]] for i in 1:size(otu)[1]])\n",
    "label = convert(Array{Float64,1}, label);"
   ]
  },
  {
   "cell_type": "code",
   "execution_count": 20,
   "id": "d0239bb4",
   "metadata": {},
   "outputs": [
    {
     "data": {
      "text/plain": [
       "Chain(\n",
       "  Dense(5 => 3, tanh),                  \u001b[90m# 18 parameters\u001b[39m\n",
       "  Dense(3 => 1, σ),                     \u001b[90m# 4 parameters\u001b[39m\n",
       ") \u001b[90m                  # Total: 4 arrays, \u001b[39m22 parameters, 344 bytes."
      ]
     },
     "execution_count": 20,
     "metadata": {},
     "output_type": "execute_result"
    }
   ],
   "source": [
    "# construct the nn\n",
    "nn_initial = Chain(Dense(5, 3, tanh), Dense(3, 1, σ))"
   ]
  },
  {
   "cell_type": "code",
   "execution_count": 22,
   "id": "f5da4c77",
   "metadata": {},
   "outputs": [
    {
     "data": {
      "text/plain": [
       "22"
      ]
     },
     "execution_count": 22,
     "metadata": {},
     "output_type": "execute_result"
    }
   ],
   "source": [
    "parameters_initial, reconstruct = Flux.destructure(nn_initial);\n",
    "length(parameters_initial)"
   ]
  },
  {
   "cell_type": "code",
   "execution_count": 23,
   "id": "80ed531e",
   "metadata": {},
   "outputs": [
    {
     "data": {
      "text/plain": [
       "bayes_nn (generic function with 2 methods)"
      ]
     },
     "execution_count": 23,
     "metadata": {},
     "output_type": "execute_result"
    }
   ],
   "source": [
    "# now create a parameter variable that has IID Gaussian Distribution\n",
    "alpha = 0.09\n",
    "# variance for the gaussian prior\n",
    "sig = sqrt(1.0 / alpha)\n",
    "\n",
    "# Specify the probabilistic model.\n",
    "@model function bayes_nn(xs, ts, nparameters, reconstruct)\n",
    "    # Create the weight and bias vector.\n",
    "    parameters ~ MvNormal(zeros(nparameters), sig .* ones(nparameters))\n",
    "\n",
    "    # Construct NN from parameters\n",
    "    nn = reconstruct(parameters)\n",
    "    # Forward NN to make predictions\n",
    "    preds = nn(xs)\n",
    "\n",
    "    # Observe each prediction.\n",
    "    for i in 1:length(ts)\n",
    "        ts[i] ~ Bernoulli(preds[i])\n",
    "    end\n",
    "end"
   ]
  },
  {
   "cell_type": "code",
   "execution_count": 24,
   "id": "7821e247",
   "metadata": {},
   "outputs": [
    {
     "data": {
      "text/plain": [
       "Chains MCMC chain (5000×31×1 Array{Float64, 3}):\n",
       "\n",
       "Iterations        = 1:1:5000\n",
       "Number of chains  = 1\n",
       "Samples per chain = 5000\n",
       "Wall duration     = 320.67 seconds\n",
       "Compute duration  = 320.67 seconds\n",
       "parameters        = parameters[1], parameters[2], parameters[3], parameters[4], parameters[5], parameters[6], parameters[7], parameters[8], parameters[9], parameters[10], parameters[11], parameters[12], parameters[13], parameters[14], parameters[15], parameters[16], parameters[17], parameters[18], parameters[19], parameters[20], parameters[21], parameters[22]\n",
       "internals         = lp, n_steps, is_accept, acceptance_rate, log_density, hamiltonian_energy, hamiltonian_energy_error, step_size, nom_step_size\n",
       "\n",
       "Summary Statistics\n",
       " \u001b[1m     parameters \u001b[0m \u001b[1m    mean \u001b[0m \u001b[1m     std \u001b[0m \u001b[1m naive_se \u001b[0m \u001b[1m    mcse \u001b[0m \u001b[1m     ess \u001b[0m \u001b[1m    rhat \u001b[0m ⋯\n",
       " \u001b[90m         Symbol \u001b[0m \u001b[90m Float64 \u001b[0m \u001b[90m Float64 \u001b[0m \u001b[90m  Float64 \u001b[0m \u001b[90m Float64 \u001b[0m \u001b[90m Float64 \u001b[0m \u001b[90m Float64 \u001b[0m ⋯\n",
       "\n",
       "   parameters[1]   -3.9434    2.4684     0.0349    0.2889   11.7280    1.3585  ⋯\n",
       "   parameters[2]    4.6076    4.3697     0.0618    0.5205   10.7501    1.5165  ⋯\n",
       "   parameters[3]    3.9147    3.3155     0.0469    0.3926   11.9932    1.0788  ⋯\n",
       "   parameters[4]    0.0946    1.6759     0.0237    0.1940   14.9862    1.0822  ⋯\n",
       "   parameters[5]   -1.2059    3.2588     0.0461    0.3874   11.1618    1.2833  ⋯\n",
       "   parameters[6]   -1.0361    4.4533     0.0630    0.5300   11.3119    1.2091  ⋯\n",
       "   parameters[7]   -1.9972    1.7891     0.0253    0.2056   14.8650    1.0795  ⋯\n",
       "   parameters[8]   -1.0733    1.4116     0.0200    0.1620   14.8672    1.0045  ⋯\n",
       "   parameters[9]    3.6347    2.0140     0.0285    0.2320   14.4451    1.0434  ⋯\n",
       "  parameters[10]    3.1384    2.4681     0.0349    0.2891   11.3637    1.6007  ⋯\n",
       "  parameters[11]    0.2613    4.1696     0.0590    0.4958   10.6336    1.9495  ⋯\n",
       "  parameters[12]    1.0280    2.0087     0.0284    0.2294   15.2319    1.2184  ⋯\n",
       "  parameters[13]    5.5453    3.1137     0.0440    0.3652   11.4365    1.3647  ⋯\n",
       "  parameters[14]   -5.0389    2.4015     0.0340    0.2806   12.0818    1.6976  ⋯\n",
       "  parameters[15]   -3.5014    2.7104     0.0383    0.3186   12.0648    1.2283  ⋯\n",
       "  parameters[16]    2.6297    2.2995     0.0325    0.2672   14.7043    1.0041  ⋯\n",
       "  parameters[17]    0.3175    1.9149     0.0271    0.2221   14.0480    1.0004  ⋯\n",
       "  parameters[18]   -0.1997    2.7576     0.0390    0.3245   12.4360    1.1561  ⋯\n",
       "  parameters[19]    3.5741    1.5505     0.0219    0.1792   14.6705    1.0926  ⋯\n",
       "  parameters[20]    2.4691    1.4383     0.0203    0.1646   13.4286    1.1440  ⋯\n",
       "  parameters[21]   -0.8289    2.5276     0.0357    0.2960   11.5377    1.3825  ⋯\n",
       "  parameters[22]    1.9678    2.8001     0.0396    0.3312   10.6036    2.6879  ⋯\n",
       "\u001b[36m                                                                1 column omitted\u001b[0m\n",
       "\n",
       "Quantiles\n",
       " \u001b[1m     parameters \u001b[0m \u001b[1m    2.5% \u001b[0m \u001b[1m   25.0% \u001b[0m \u001b[1m   50.0% \u001b[0m \u001b[1m   75.0% \u001b[0m \u001b[1m   97.5% \u001b[0m\n",
       " \u001b[90m         Symbol \u001b[0m \u001b[90m Float64 \u001b[0m \u001b[90m Float64 \u001b[0m \u001b[90m Float64 \u001b[0m \u001b[90m Float64 \u001b[0m \u001b[90m Float64 \u001b[0m\n",
       "\n",
       "   parameters[1]   -9.3659   -5.5967   -3.4073   -2.2260   -0.5114\n",
       "   parameters[2]   -4.6191    1.5542    6.3461    7.7698    9.5137\n",
       "   parameters[3]   -2.6314    1.8671    4.8277    6.2994    9.2795\n",
       "   parameters[4]   -2.2608   -1.1284   -0.5182    1.5499    3.5820\n",
       "   parameters[5]   -4.5422   -3.2967   -2.4726   -0.8675    7.0953\n",
       "   parameters[6]   -7.0593   -5.2497   -1.5996    2.8778    7.5469\n",
       "   parameters[7]   -5.3349   -3.7019   -1.3601   -0.7595    0.8335\n",
       "   parameters[8]   -3.9861   -1.8579   -1.2900   -0.1908    2.0243\n",
       "   parameters[9]   -0.2505    2.2424    3.8665    4.5466    8.2039\n",
       "  parameters[10]   -2.2743    1.9564    3.2619    4.5418    7.5532\n",
       "  parameters[11]   -3.8856   -3.0579   -1.7566    4.3016    8.1183\n",
       "  parameters[12]   -1.8722   -0.5265    0.5724    2.6315    5.3639\n",
       "  parameters[13]   -1.6387    5.1177    5.7935    7.2549   11.1172\n",
       "  parameters[14]   -8.7305   -6.9750   -5.7444   -3.0420   -0.3880\n",
       "  parameters[15]   -7.7917   -5.0744   -4.3545   -1.6556    2.1815\n",
       "  parameters[16]   -1.7913    1.2052    2.7891    3.9004    7.5892\n",
       "  parameters[17]   -2.9675   -1.1267    0.2935    1.4201    4.4105\n",
       "  parameters[18]   -6.7838   -1.4810   -0.0049    1.7561    4.1105\n",
       "  parameters[19]    0.9549    2.4839    3.3314    4.5340    6.2251\n",
       "  parameters[20]    0.6877    1.4896    2.1418    2.7979    6.1566\n",
       "  parameters[21]   -5.3164   -2.9438   -0.5406    0.9702    3.7850\n",
       "  parameters[22]   -2.6331   -0.6158    2.8990    4.0999    6.7713\n"
      ]
     },
     "execution_count": 24,
     "metadata": {},
     "output_type": "execute_result"
    }
   ],
   "source": [
    "# Perform inference.\n",
    "N = 5000\n",
    "ch = sample(\n",
    "    bayes_nn(hcat(code_vec...), label, length(parameters_initial), reconstruct), HMC(0.05, 4), N\n",
    ")"
   ]
  },
  {
   "cell_type": "code",
   "execution_count": 26,
   "id": "8c30f1d7",
   "metadata": {},
   "outputs": [],
   "source": [
    "theta = MCMCChains.group(ch, :parameters).value;"
   ]
  },
  {
   "cell_type": "code",
   "execution_count": 28,
   "id": "7dc441a5",
   "metadata": {},
   "outputs": [],
   "source": [
    "nn_forward(x, theta) = reconstruct(theta)(x)\n",
    "function nn_predict(x, theta, num)\n",
    "    return mean([nn_forward(x, theta[i, :])[1] for i in 1:10:num])\n",
    "end;"
   ]
  }
 ],
 "metadata": {
  "kernelspec": {
   "display_name": "Julia 1.7.3",
   "language": "julia",
   "name": "julia-1.7"
  },
  "language_info": {
   "file_extension": ".jl",
   "mimetype": "application/julia",
   "name": "julia",
   "version": "1.7.3"
  }
 },
 "nbformat": 4,
 "nbformat_minor": 5
}
