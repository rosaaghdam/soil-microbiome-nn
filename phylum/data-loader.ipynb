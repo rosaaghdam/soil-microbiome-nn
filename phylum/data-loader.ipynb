{
 "cells": [
  {
   "cell_type": "code",
   "execution_count": 2,
   "id": "dca925be",
   "metadata": {},
   "outputs": [],
   "source": [
    "using CSV\n",
    "using DataFrames\n",
    "using XLSX\n",
    "using Statistics"
   ]
  },
  {
   "cell_type": "code",
   "execution_count": 44,
   "id": "1905a4f7",
   "metadata": {},
   "outputs": [
    {
     "name": "stderr",
     "output_type": "stream",
     "text": [
      "┌ Info: Finish cleansing the missing data...\n",
      "└ @ Main In[44]:14\n"
     ]
    }
   ],
   "source": [
    "phylum = CSV.read(\"../raw-data/SCMP_Y1_phylum.csv\", DataFrame)\n",
    "phylum = phylum[:, Not(2:6)]\n",
    "\n",
    "outcome = DataFrame(XLSX.readtable(\"../raw-data/SCMP_Y1.xlsx\", \"SCMP_Y1\")...)\n",
    "outcome = outcome[:, Not(2:10)]\n",
    "outcome = outcome[:, Not(3:20)]\n",
    "outcome = outcome[:,1:3]\n",
    "\n",
    "yield_per_plant = innerjoin(phylum, outcome, on = :Link_ID)\n",
    "yield_per_plant = filter(row -> !(row.Proteobacteria == \"NA\"), yield_per_plant)\n",
    "yield_per_plant = dropmissing(yield_per_plant)\n",
    "yield_per_plant = filter(row -> !(row.Yield_per_plant == \"NA\"), yield_per_plant)\n",
    "\n",
    "@info(\"Finish cleansing the missing data...\")"
   ]
  },
  {
   "cell_type": "code",
   "execution_count": 45,
   "id": "96cc3d57",
   "metadata": {},
   "outputs": [
    {
     "name": "stdout",
     "output_type": "stream",
     "text": [
      "Percentage of low-yield label: 0.21\n"
     ]
    }
   ],
   "source": [
    "# find the median of red_little and yellow_little\n",
    "sample_size = size(yield_per_plant)[1]\n",
    "label_idx = size(yield_per_plant)[2]\n",
    "var_idx = label_idx - 1\n",
    "red_little = zeros(0)\n",
    "yellow_little = zeros(0)\n",
    "\n",
    "\n",
    "for i in 1:sample_size\n",
    "    if yield_per_plant[i,var_idx] == \"RedLittle\"\n",
    "        append!(red_little, yield_per_plant[i, label_idx])\n",
    "    end\n",
    "    if yield_per_plant[i,var_idx] == \"YellowLittle\"\n",
    "        append!(yellow_little, yield_per_plant[i, label_idx])\n",
    "    end \n",
    "end\n",
    "\n",
    "# set the label with respect to the variety2\n",
    "for i in 1:sample_size\n",
    "    # threshold: 600\n",
    "    if yield_per_plant[i,var_idx] == \"Red\" || yield_per_plant[i,var_idx] == \"White\" || yield_per_plant[i,var_idx] == \"Yellow\"\n",
    "        if yield_per_plant[i,label_idx] >= 600\n",
    "            yield_per_plant[i,label_idx] = 1\n",
    "        else\n",
    "            yield_per_plant[i,label_idx] = 0\n",
    "        end\n",
    "    elseif yield_per_plant[i,var_idx] == \"Russet\"\n",
    "        if yield_per_plant[i,label_idx] >= 900\n",
    "            yield_per_plant[i,label_idx] = 1\n",
    "        else\n",
    "            yield_per_plant[i,label_idx] = 0\n",
    "        end\n",
    "    elseif yield_per_plant[i,var_idx] == \"RedLittle\"\n",
    "        if yield_per_plant[i,label_idx] >= median(red_little)\n",
    "            yield_per_plant[i,label_idx] = 1\n",
    "        else\n",
    "            yield_per_plant[i,label_idx] = 0\n",
    "        end\n",
    "    else \n",
    "        if yield_per_plant[i,label_idx] >= median(yellow_little)\n",
    "            yield_per_plant[i,label_idx] = 1\n",
    "        else\n",
    "            yield_per_plant[i,label_idx] = 0\n",
    "        end\n",
    "    end\n",
    "end\n",
    "percentage = [(i, count(==(i), yield_per_plant[:,label_idx])) for i in unique(yield_per_plant[:,label_idx])]\n",
    "println(\"Percentage of low-yield label: \", round(percentage[1][2] / sample_size, digits = 2))"
   ]
  },
  {
   "cell_type": "code",
   "execution_count": 46,
   "id": "9ccdff02",
   "metadata": {},
   "outputs": [
    {
     "data": {
      "text/plain": [
       "\"../processed-data/otu-yield-per-plant.csv\""
      ]
     },
     "execution_count": 46,
     "metadata": {},
     "output_type": "execute_result"
    }
   ],
   "source": [
    "# Write to CSV\n",
    "CSV.write(\"../processed-data/otu-yield-per-plant.csv\", yield_per_plant)"
   ]
  }
 ],
 "metadata": {
  "kernelspec": {
   "display_name": "Julia 1.7.3",
   "language": "julia",
   "name": "julia-1.7"
  },
  "language_info": {
   "file_extension": ".jl",
   "mimetype": "application/julia",
   "name": "julia",
   "version": "1.7.3"
  }
 },
 "nbformat": 4,
 "nbformat_minor": 5
}
