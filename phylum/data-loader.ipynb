{
 "cells": [
  {
   "cell_type": "code",
   "execution_count": 415,
   "id": "dca925be",
   "metadata": {},
   "outputs": [],
   "source": [
    "using CSV\n",
    "using DataFrames\n",
    "using XLSX\n",
    "using Statistics"
   ]
  },
  {
   "cell_type": "code",
   "execution_count": 416,
   "id": "5804844b",
   "metadata": {},
   "outputs": [],
   "source": [
    "phylum = CSV.read(\"../raw-data/Y1_F_Phylum.csv\", DataFrame)\n",
    "rename!(phylum,:Column1\t => :Link_ID)\n",
    "outcome = CSV.read(\"../raw-data/metadata.csv\", DataFrame)\n",
    "rename!(outcome,:Column1\t => :Link_ID)\n",
    "outcome = outcome[:, Not(2:10)]\n",
    "outcome = outcome[:, Not(3:34)]\n",
    "outcome = outcome[:,1:3];"
   ]
  },
  {
   "cell_type": "code",
   "execution_count": 417,
   "id": "1aa0bc7b",
   "metadata": {},
   "outputs": [],
   "source": [
    "outcome = filter(row -> !(row.Yield_per_plant == \"NA\"), outcome)\n",
    "outcome.Yield_per_plant = parse.(Float64, outcome.Yield_per_plant)\n",
    "outcome = filter(row -> !(row.Yield_per_plant == 0), outcome);"
   ]
  },
  {
   "cell_type": "code",
   "execution_count": 418,
   "id": "aa8f0763",
   "metadata": {},
   "outputs": [],
   "source": [
    "yield_per_plant = innerjoin(phylum, outcome, on = :Link_ID)\n",
    "count_binary = innerjoin(phylum, outcome, on = :Link_ID)\n",
    "count_std = innerjoin(phylum, outcome, on = :Link_ID);"
   ]
  },
  {
   "cell_type": "code",
   "execution_count": 419,
   "id": "70620ec4",
   "metadata": {},
   "outputs": [],
   "source": [
    "sample_size = size(yield_per_plant)[1]\n",
    "label_idx = size(yield_per_plant)[2]\n",
    "var_idx = label_idx - 1;"
   ]
  },
  {
   "cell_type": "code",
   "execution_count": 420,
   "id": "ac76eb46",
   "metadata": {},
   "outputs": [
    {
     "name": "stdout",
     "output_type": "stream",
     "text": [
      "Number of red variety: 56, with median: 865.75, and SD: 395.60415787066097\n",
      "Number of yellow variety: 13, with median: 1066.33333, and SD: 952.7536729725182\n",
      "Number of russet variety: 110, with median: 1278.958335, and SD: 653.778000027347\n",
      "Number of white variety: 26, with median: 844.33333, and SD: 342.6390455087539\n",
      "Number of mixed variety: 7, with median: 770.83333, and SD: 243.61123235206549\n",
      "Number of red_little variety: 1, with median: 2506.0, and SD: NaN\n",
      "Number of yellow_little variety: 6, with median: 259.79167, and SD: 122.18017414660997\n"
     ]
    }
   ],
   "source": [
    "red = zeros(0)\n",
    "yellow = zeros(0)\n",
    "russet = zeros(0)\n",
    "white = zeros(0)\n",
    "mixed = zeros(0)\n",
    "red_little = zeros(0)\n",
    "yellow_little = zeros(0);\n",
    "\n",
    "for i in 1:sample_size\n",
    "    if yield_per_plant[i,var_idx] == \"RedLittle\"\n",
    "        append!(red_little, yield_per_plant[i, label_idx])\n",
    "    elseif yield_per_plant[i,var_idx] == \"YellowLittle\"\n",
    "        append!(yellow_little, yield_per_plant[i, label_idx])\n",
    "    elseif yield_per_plant[i,var_idx] == \"Red\"\n",
    "        append!(red, yield_per_plant[i, label_idx]) \n",
    "    elseif yield_per_plant[i,var_idx] == \"Yellow\"\n",
    "        append!(yellow, yield_per_plant[i, label_idx])\n",
    "    elseif yield_per_plant[i,var_idx] == \"Russet\"\n",
    "        append!(russet, yield_per_plant[i, label_idx])\n",
    "    elseif yield_per_plant[i,var_idx] == \"White\"\n",
    "        append!(white, yield_per_plant[i, label_idx])\n",
    "    else\n",
    "        append!(mixed, yield_per_plant[i, label_idx])\n",
    "    end    \n",
    "end\n",
    "println(\"Number of red variety: \", size(red)[1], \", with median: \", median(red), \", and SD: \", std(red))\n",
    "println(\"Number of yellow variety: \", size(yellow)[1], \", with median: \", median(yellow), \", and SD: \", std(yellow))\n",
    "println(\"Number of russet variety: \", size(russet)[1], \", with median: \", median(russet), \", and SD: \", std(russet))\n",
    "println(\"Number of white variety: \", size(white)[1], \", with median: \", median(white), \", and SD: \", std(white))\n",
    "println(\"Number of mixed variety: \", size(mixed)[1], \", with median: \", median(mixed), \", and SD: \", std(mixed))\n",
    "println(\"Number of red_little variety: \", size(red_little)[1], \", with median: \", median(red_little), \", and SD: \", std(red_little))\n",
    "println(\"Number of yellow_little variety: \", size(yellow_little)[1], \", with median: \", median(yellow_little), \", and SD: \", std(yellow_little))"
   ]
  },
  {
   "cell_type": "code",
   "execution_count": 421,
   "id": "4951ca60",
   "metadata": {},
   "outputs": [
    {
     "data": {
      "text/plain": [
       "get_std (generic function with 1 method)"
      ]
     },
     "execution_count": 421,
     "metadata": {},
     "output_type": "execute_result"
    }
   ],
   "source": [
    "function get_std(arr, num)\n",
    "    ret = (num - mean(arr))/std(arr)\n",
    "    return ret\n",
    "end"
   ]
  },
  {
   "cell_type": "code",
   "execution_count": 422,
   "id": "96cc3d57",
   "metadata": {},
   "outputs": [
    {
     "name": "stdout",
     "output_type": "stream",
     "text": [
      "Percentage of low-yield label: 0.59\n"
     ]
    }
   ],
   "source": [
    "# set the label with respect to the variety2\n",
    "for i in 1:sample_size\n",
    "    # threshold: 600\n",
    "    if yield_per_plant[i,var_idx] == \"Red\"\n",
    "        if yield_per_plant[i,label_idx] >= median(red)\n",
    "            count_binary[i,label_idx] = 1\n",
    "        else\n",
    "            count_binary[i,label_idx] = 0\n",
    "        end\n",
    "        count_std[i,label_idx] = get_std(red, yield_per_plant[i,label_idx])\n",
    "    elseif yield_per_plant[i,var_idx] == \"Russet\"\n",
    "        if yield_per_plant[i,label_idx] >= median(russet)\n",
    "            count_binary[i,label_idx] = 1\n",
    "        else\n",
    "            count_binary[i,label_idx] = 0\n",
    "        end\n",
    "        count_std[i,label_idx] = get_std(russet, yield_per_plant[i,label_idx])\n",
    "    elseif yield_per_plant[i,var_idx] == \"yellow\"\n",
    "        if yield_per_plant[i,label_idx] >= median(yellow)\n",
    "            count_binary[i,label_idx] = 1\n",
    "        else\n",
    "            count_binary[i,label_idx] = 0\n",
    "        end\n",
    "        count_std[i,label_idx] = get_std(yellow, yield_per_plant[i,label_idx])\n",
    "    elseif yield_per_plant[i,var_idx] == \"white\"\n",
    "        if yield_per_plant[i,label_idx] >= median(white)\n",
    "            count_binary[i,label_idx] = 1\n",
    "        else\n",
    "            count_binary[i,label_idx] = 0\n",
    "        end\n",
    "        count_std[i,label_idx] = get_std(white, yield_per_plant[i,label_idx])\n",
    "    elseif yield_per_plant[i,var_idx] == \"RedLittle\"\n",
    "        if yield_per_plant[i,label_idx] >= median(red_little)\n",
    "            count_binary[i,label_idx] = 1\n",
    "        else\n",
    "            count_binary[i,label_idx] = 0\n",
    "        end\n",
    "        count_std[i,label_idx] = get_std(red_little, yield_per_plant[i,label_idx])\n",
    "    elseif yield_per_plant[i,var_idx] == \"Mixed\"\n",
    "        if yield_per_plant[i,label_idx] >= median(mixed)\n",
    "            count_binary[i,label_idx] = 1\n",
    "        else\n",
    "            count_binary[i,label_idx] = 0\n",
    "        end\n",
    "        count_std[i,label_idx] = get_std(mixed, yield_per_plant[i,label_idx])\n",
    "    else \n",
    "        if yield_per_plant[i,label_idx] >= median(yellow_little)\n",
    "            count_binary[i,label_idx] = 1\n",
    "        else\n",
    "            count_binary[i,label_idx] = 0\n",
    "        end\n",
    "        count_std[i,label_idx] = get_std(yellow_little, yield_per_plant[i,label_idx])\n",
    "    end\n",
    "end\n",
    "percentage = [(i, count(==(i), count_binary[:,label_idx])) for i in unique(count_binary[:,label_idx])]\n",
    "println(\"Percentage of low-yield label: \", round(percentage[1][2] / sample_size, digits = 2))"
   ]
  },
  {
   "cell_type": "code",
   "execution_count": 423,
   "id": "5a3bdc50",
   "metadata": {},
   "outputs": [],
   "source": [
    "otu = yield_per_plant[:, 2: size(yield_per_plant)[2] - 2]\n",
    "original_otu = otu[:, 1]\n",
    "normal_otu = otu[:,1]\n",
    "for i in 2:size(otu)[2]\n",
    "    if sum(otu[:, i]) > 30\n",
    "        original_otu = hcat(original_otu, otu[:, i])\n",
    "        normal_otu = hcat(normal_otu, otu[:, i])\n",
    "    end\n",
    "end\n",
    "\n",
    "normal_otu = Matrix{Float64}(normal_otu)\n",
    "\n",
    "for i in 1:size(normal_otu)[1]\n",
    "    tmp =  normal_otu[i,:] ./ sum(normal_otu[i,:])\n",
    "    normal_otu[i,:] .= tmp\n",
    "end "
   ]
  },
  {
   "cell_type": "code",
   "execution_count": 424,
   "id": "ba8fca99",
   "metadata": {},
   "outputs": [],
   "source": [
    "orig_no_normalize = yield_per_plant[:,1]\n",
    "orig_normalize = yield_per_plant[:,1]\n",
    "binary_no_normalize = count_binary[:,1]\n",
    "binary_normalize = count_binary[:,1]\n",
    "std_no_normalize = count_std[:,1]\n",
    "std_normalize = count_std[:,1]\n",
    "\n",
    "orig_no_normalize = hcat(orig_no_normalize, original_otu)\n",
    "orig_normalize = hcat(orig_normalize, normal_otu)\n",
    "binary_no_normalize = hcat(binary_no_normalize, original_otu)\n",
    "std_no_normalize = hcat(std_no_normalize, original_otu)\n",
    "std_normalize = hcat(std_normalize, normal_otu)\n",
    "\n",
    "orig_no_normalize = hcat(orig_no_normalize, yield_per_plant[:, size(yield_per_plant)[2] - 1])\n",
    "orig_normalize = hcat(orig_normalize, yield_per_plant[:, size(yield_per_plant)[2] - 1])\n",
    "binary_no_normalize = hcat(binary_no_normalize, count_binary[:, size(count_binary)[2] - 1])\n",
    "binary_normalize = hcat(binary_normalize, count_binary[:, size(count_binary)[2] - 1])\n",
    "std_no_normalize = hcat(std_no_normalize, count_std[:, size(count_std)[2] - 1])\n",
    "std_normalize = hcat(std_normalize, count_std[:, size(count_std)[2] - 1])\n",
    "\n",
    "orig_no_normalize = hcat(orig_no_normalize, yield_per_plant[:, size(yield_per_plant)[2]])\n",
    "orig_normalize = hcat(orig_normalize, yield_per_plant[:, size(yield_per_plant)[2]])\n",
    "binary_no_normalize = hcat(binary_no_normalize, count_binary[:, size(count_binary)[2]])\n",
    "binary_normalize = hcat(binary_normalize, count_binary[:, size(count_binary)[2]])\n",
    "std_no_normalize = hcat(std_no_normalize, count_std[:, size(count_std)[2]])\n",
    "std_normalize = hcat(std_normalize, count_std[:, size(count_std)[2]]);"
   ]
  },
  {
   "cell_type": "code",
   "execution_count": 425,
   "id": "22828484",
   "metadata": {},
   "outputs": [
    {
     "data": {
      "text/plain": [
       "\"../processed-data/otu-yield-std-normalized.csv\""
      ]
     },
     "execution_count": 425,
     "metadata": {},
     "output_type": "execute_result"
    }
   ],
   "source": [
    "# Write to CSV\n",
    "CSV.write(\"../processed-data/otu-yield-original-unnormalized.csv\",  Tables.table(orig_no_normalize), writeheader=false)\n",
    "CSV.write(\"../processed-data/otu-yield-original-normalized.csv\",  Tables.table(orig_normalize), writeheader=false)\n",
    "CSV.write(\"../processed-data/otu-yield-binary-unnormalized.csv\",  Tables.table(binary_no_normalize), writeheader=false)\n",
    "CSV.write(\"../processed-data/otu-yield-binary-normalized.csv\",  Tables.table(binary_normalize), writeheader=false)\n",
    "CSV.write(\"../processed-data/otu-yield-std-unnormalized.csv\",  Tables.table(std_no_normalize), writeheader=false)\n",
    "CSV.write(\"../processed-data/otu-yield-std-normalized.csv\",  Tables.table(std_normalize), writeheader=false)"
   ]
  }
 ],
 "metadata": {
  "kernelspec": {
   "display_name": "Julia 1.7.3",
   "language": "julia",
   "name": "julia-1.7"
  },
  "language_info": {
   "file_extension": ".jl",
   "mimetype": "application/julia",
   "name": "julia",
   "version": "1.7.3"
  }
 },
 "nbformat": 4,
 "nbformat_minor": 5
}
