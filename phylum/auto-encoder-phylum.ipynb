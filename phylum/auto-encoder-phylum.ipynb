{
 "cells": [
  {
   "cell_type": "code",
   "execution_count": 2,
   "id": "a55884a5",
   "metadata": {},
   "outputs": [],
   "source": [
    "using Flux, Statistics\n",
    "using Flux: onehotbatch, onecold, crossentropy, throttle, params \n",
    "using Base.Iterators: repeated, partition\n",
    "using Printf, BSON\n",
    "using CSV\n",
    "using DataFrames\n",
    "using Tables"
   ]
  },
  {
   "cell_type": "code",
   "execution_count": 11,
   "id": "b4300640",
   "metadata": {},
   "outputs": [
    {
     "name": "stdout",
     "output_type": "stream",
     "text": [
      "Number of low-yield samples: 222; Number of high-yield samples: 222\n"
     ]
    }
   ],
   "source": [
    "original_dat = CSV.read(\"../processed-data/otu-yield-per-plant.csv\", header=true, DataFrame)\n",
    "generated_dat = CSV.read(\"../processed-data/generated-data.csv\", header=false, DataFrame)\n",
    "\n",
    "original = Matrix(original_dat)\n",
    "generated = Matrix(generated_dat)\n",
    "data = vcat(original, generated)\n",
    "\n",
    "otu = data[:,2:60]\n",
    "label = data[:,62]\n",
    "\n",
    "percentage = [(i, count(==(i), label)) for i in unique(label)]\n",
    "println(\"Number of low-yield samples: \", percentage[1][2], \"; Number of high-yield samples: \", percentage[2][2])"
   ]
  },
  {
   "cell_type": "code",
   "execution_count": null,
   "id": "cec15f60",
   "metadata": {},
   "outputs": [],
   "source": []
  }
 ],
 "metadata": {
  "kernelspec": {
   "display_name": "Julia 1.7.3",
   "language": "julia",
   "name": "julia-1.7"
  },
  "language_info": {
   "file_extension": ".jl",
   "mimetype": "application/julia",
   "name": "julia",
   "version": "1.7.3"
  }
 },
 "nbformat": 4,
 "nbformat_minor": 5
}
