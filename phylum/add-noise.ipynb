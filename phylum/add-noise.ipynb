{
 "cells": [
  {
   "cell_type": "code",
   "execution_count": 295,
   "id": "f69d3343",
   "metadata": {},
   "outputs": [],
   "source": [
    "using CSV\n",
    "using DataFrames\n",
    "using XLSX\n",
    "using Statistics\n",
    "using Distributions\n",
    "using Random\n",
    "using Tables"
   ]
  },
  {
   "cell_type": "code",
   "execution_count": 211,
   "id": "f5f3c50b",
   "metadata": {},
   "outputs": [
    {
     "name": "stderr",
     "output_type": "stream",
     "text": [
      "┌ Info: Finish loading the data...\n",
      "└ @ Main In[211]:2\n"
     ]
    }
   ],
   "source": [
    "phylum = CSV.read(\"../processed-data/otu-yield-per-plant.csv\", DataFrame)\n",
    "@info(\"Finish loading the data...\")"
   ]
  },
  {
   "cell_type": "code",
   "execution_count": 212,
   "id": "3469102f",
   "metadata": {},
   "outputs": [
    {
     "name": "stderr",
     "output_type": "stream",
     "text": [
      "┌ Info: Finish multiplying the data...\n",
      "└ @ Main In[212]:4\n"
     ]
    }
   ],
   "source": [
    "otu = phylum[:,2:60]\n",
    "otu = otu .* 100\n",
    "phylum[:,2:60] .= otu\n",
    "@info(\"Finish multiplying the data...\")"
   ]
  },
  {
   "cell_type": "code",
   "execution_count": 213,
   "id": "4e1d2376",
   "metadata": {},
   "outputs": [
    {
     "name": "stderr",
     "output_type": "stream",
     "text": [
      "┌ Info: Finish spliting the data...\n",
      "└ @ Main In[213]:23\n"
     ]
    },
    {
     "data": {
      "text/plain": [
       "Matrix{Any} (alias for Array{Any, 2})"
      ]
     },
     "execution_count": 213,
     "metadata": {},
     "output_type": "execute_result"
    }
   ],
   "source": [
    "# Split the data into varieties \n",
    "var_idx = size(phylum)[2] -1\n",
    "\n",
    "red_low = filter(row -> (row.Variety2 == \"Red\" && row.Yield_per_plant == 0), phylum)\n",
    "red_high = filter(row -> (row.Variety2 == \"Red\" && row.Yield_per_plant == 1), phylum)\n",
    "\n",
    "white_low = filter(row -> (row.Variety2 == \"White\" && row.Yield_per_plant == 0), phylum)\n",
    "white_high = filter(row -> (row.Variety2 == \"White\" && row.Yield_per_plant == 1), phylum)\n",
    "\n",
    "yellow_low = filter(row -> (row.Variety2 == \"Yellow\" && row.Yield_per_plant == 0), phylum)\n",
    "yellow_high = filter(row -> (row.Variety2 == \"Yellow\" && row.Yield_per_plant == 1), phylum)\n",
    "\n",
    "russet_low = filter(row -> (row.Variety2 == \"Russet\" && row.Yield_per_plant == 0), phylum)\n",
    "russet_high = filter(row -> (row.Variety2 == \"Russet\" && row.Yield_per_plant == 1), phylum)\n",
    "\n",
    "red_little_low = filter(row -> (row.Variety2 == \"RedLittle\" && row.Yield_per_plant == 0), phylum)\n",
    "red_little_high = filter(row -> (row.Variety2 == \"RedLittle\" && row.Yield_per_plant == 1), phylum)\n",
    "\n",
    "yellow_little_low = filter(row -> (row.Variety2 == \"YellowLittle\" && row.Yield_per_plant == 0), phylum)\n",
    "yellow_little_high = filter(row -> (row.Variety2 == \"YellowLittle\" && row.Yield_per_plant == 1), phylum)\n",
    "\n",
    "@info(\"Finish spliting the data...\")"
   ]
  },
  {
   "cell_type": "code",
   "execution_count": 214,
   "id": "6f0f5f26",
   "metadata": {},
   "outputs": [
    {
     "name": "stderr",
     "output_type": "stream",
     "text": [
      "┌ Info: Finish calculating number of samples to generate...\n",
      "└ @ Main In[214]:9\n"
     ]
    }
   ],
   "source": [
    "# Count number of new sample to generate\n",
    "label_idx = size(phylum)[2]\n",
    "percentage = [(i, count(==(i), phylum[:,label_idx])) for i in unique(phylum[:,label_idx])]\n",
    "num_zero = percentage[1][2]\n",
    "num_one = percentage[2][2]\n",
    "\n",
    "gen_one = round(0.3 * num_one)\n",
    "gen_zero = round(num_one*1.3 - num_zero)\n",
    "@info(\"Finish calculating number of samples to generate...\")"
   ]
  },
  {
   "cell_type": "code",
   "execution_count": 215,
   "id": "0afe118f",
   "metadata": {},
   "outputs": [
    {
     "data": {
      "text/plain": [
       "generate (generic function with 4 methods)"
      ]
     },
     "execution_count": 215,
     "metadata": {},
     "output_type": "execute_result"
    }
   ],
   "source": [
    "function generate(data, variety, label)\n",
    "    new_gen = zeros(0)\n",
    "    rd = rand(1 : size(data)[1])\n",
    "    original = data[rd, :]\n",
    "    append!(new_gen, 114514)\n",
    "    for i in 2:size(data)[2] - 2\n",
    "        m = mean(data[:, i])/10\n",
    "        v = var(data[:, i])/10\n",
    "        noise = rand(Normal(m,v))\n",
    "        if original[i] == 0\n",
    "            append!(new_gen, 0)\n",
    "        elseif original[i] + noise < 0\n",
    "            append!(new_gen, 0)\n",
    "        else\n",
    "            append!(new_gen, original[i] + noise)\n",
    "        end\n",
    "    end\n",
    "    append!(new_gen, variety)\n",
    "    append!(new_gen, label)\n",
    "    return new_gen\n",
    "end"
   ]
  },
  {
   "cell_type": "code",
   "execution_count": 296,
   "id": "91a2dd0b",
   "metadata": {},
   "outputs": [
    {
     "data": {
      "text/plain": [
       "\"../processed-data/generated_data.csv\""
      ]
     },
     "execution_count": 296,
     "metadata": {},
     "output_type": "execute_result"
    }
   ],
   "source": [
    "\n",
    "generated = zeros(62, Int(gen_zero+gen_one))\n",
    "for i in 1:gen_zero\n",
    "    new_gen = zeros(62)\n",
    "    var = rand(1:6)\n",
    "    if var == 1 \n",
    "        new_gen = generate(red_low,1,0)\n",
    "    elseif var == 2\n",
    "        new_gen = generate(white_low,2,0)\n",
    "    elseif var == 3\n",
    "        new_gen = generate(yellow_low,3,0)\n",
    "    elseif var == 4\n",
    "        new_gen = generate(russet_low,4,0)\n",
    "    elseif var == 5\n",
    "        #FIXME\n",
    "        new_gen = generate(yellow_little_low,5,0)\n",
    "    else\n",
    "        new_gen = generate(yellow_little_low,6,0)\n",
    "    end\n",
    "    generated[:, Int(i)] = new_gen\n",
    "end\n",
    "\n",
    "for i in 1:gen_one\n",
    "    new_gen = zeros(62)\n",
    "    var = rand(1:6)\n",
    "    if var == 1 \n",
    "        new_gen = generate(red_high,1,1)\n",
    "    elseif var == 2\n",
    "        new_gen = generate(white_high,2,1)\n",
    "    elseif var == 3\n",
    "        new_gen = generate(yellow_high,3,1)\n",
    "    elseif var == 4\n",
    "        new_gen = generate(russet_high,4,1)\n",
    "    elseif var == 5\n",
    "        new_gen = generate(yellow_little_high,5,1)\n",
    "    else\n",
    "        new_gen = generate(yellow_little_high,6,1)\n",
    "    end\n",
    "    generated[:, Int(gen_zero + i)] = new_gen\n",
    "end\n",
    "generated = generated'\n",
    "tmp = generated[:,2:60] ./ 100\n",
    "generated[:, 2:60] .= tmp\n",
    "CSV.write(\"../processed-data/generated_data.csv\",  Tables.table(generated), writeheader=false)"
   ]
  }
 ],
 "metadata": {
  "kernelspec": {
   "display_name": "Julia 1.7.3",
   "language": "julia",
   "name": "julia-1.7"
  },
  "language_info": {
   "file_extension": ".jl",
   "mimetype": "application/julia",
   "name": "julia",
   "version": "1.7.3"
  }
 },
 "nbformat": 4,
 "nbformat_minor": 5
}
