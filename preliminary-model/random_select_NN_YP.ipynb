{
 "cells": [
  {
   "cell_type": "code",
   "execution_count": 1,
   "id": "f03f7a44",
   "metadata": {},
   "outputs": [],
   "source": [
    "using Flux, Statistics\n",
    "using Flux: onehotbatch, onecold, crossentropy, throttle\n",
    "using Base.Iterators: repeated, partition\n",
    "using Printf, BSON\n",
    "using CSV\n",
    "using DataFrames\n",
    "using Tables\n",
    "\n",
    "\n",
    "# In this model, we test how randomly select OTUs would work in the same model. \n",
    "# This model will only work for yield_per_plant as outcome, but I would assume that\n",
    "# it will also work for others with minor modification.\n",
    "# I will randomly select 100 out of 2395 OTUs as predictors and feed it into the NN\n",
    "# For the hidden layer, I would only add one hidden layer. As discussed in many websites\n",
    "# I viewed, under very rare circumstances would a second layer improve the performance.\n",
    "# Also, with 2 or more layer, the NN would be harder to train, and it is bad with the \n",
    "# small amount of data we have.\n",
    "# For the number of neurons, I read about a general rule of thumb that \"the optimal size \n",
    "# of the hidden layer is between the input size and the output size:, so I set the hidden \n",
    "# size to 52.\n",
    "# For output, I split the values of yield_per_plant into 4 categories, based on quantile. \n",
    "# This might be problematic."
   ]
  },
  {
   "cell_type": "code",
   "execution_count": 2,
   "id": "baeda7e9",
   "metadata": {},
   "outputs": [],
   "source": [
    "##### This cell import the processed data for yield_per_plant and transform the outcome data.\n",
    "# It also transform the data into array type so it's easier to work with.\n",
    "\n",
    "# Load data from the CSV file\n",
    "data = CSV.read(\"./processed-data/otu-yield-per-plant.csv\", DataFrame)\n",
    "data_arr = Matrix(data)\n",
    "\n",
    "# Split the array into otu and label\n",
    "otu = data_arr[:, 2:2395]\n",
    "label = data_arr[:, 2396]\n",
    "# Transform the array into 4 categories based on quantile\n",
    "for i in 1:length(label)\n",
    "    if label[i] <= 751\n",
    "        label[i] = 0\n",
    "    elseif label[i] <= 1068\n",
    "        label[i] = 1\n",
    "    elseif label[i] <= 1444\n",
    "        label[i] = 2\n",
    "    else\n",
    "        label[i] = 3\n",
    "    end\n",
    "end"
   ]
  },
  {
   "cell_type": "code",
   "execution_count": 3,
   "id": "067c5733",
   "metadata": {},
   "outputs": [
    {
     "data": {
      "text/plain": [
       "rand_select (generic function with 1 method)"
      ]
     },
     "execution_count": 3,
     "metadata": {},
     "output_type": "execute_result"
    }
   ],
   "source": [
    "# select 100 unique numbers between 1 to 2394 (the 50 unique predictor)\n",
    "# if not unique, select again\n",
    "function rand_select()\n",
    "    # select 100 unique numbers between 1 to 2394 (the 50 unique predictor)\n",
    "    # if not unique, select again\n",
    "    rand_num = zeros(Int, 100)\n",
    "    while true\n",
    "        rand_num = rand((1:2394),100)\n",
    "        if length(unique(rand_num)) == 100\n",
    "            break\n",
    "        end\n",
    "    end\n",
    "    return rand_num\n",
    "end"
   ]
  },
  {
   "cell_type": "code",
   "execution_count": 15,
   "id": "ffd16f1d",
   "metadata": {},
   "outputs": [
    {
     "data": {
      "text/plain": [
       "make_fold (generic function with 1 method)"
      ]
     },
     "execution_count": 15,
     "metadata": {},
     "output_type": "execute_result"
    }
   ],
   "source": [
    "# This function divide the data into 10 part and combine the otu with labels\n",
    "# and return them in a batch\n",
    "# So each batch has 22 tuples of 50 otus and an encoded label\n",
    "function make_fold(data, label, idx)\n",
    "    # batch for otu, 100*22\n",
    "    data_batch = Array{Float32, 2}(undef, length(idx), length(data[1,:]))\n",
    "    for i in 1:length(idx)\n",
    "        data_batch[i,:] = data[idx[i],:]\n",
    "    end\n",
    "    # batch for label, 1(onehot encoding)*22\n",
    "    label_batch = onehotbatch(label[idx], 0:3)\n",
    "    return (data_batch', label_batch)\n",
    "end"
   ]
  },
  {
   "cell_type": "code",
   "execution_count": 16,
   "id": "e39846df",
   "metadata": {},
   "outputs": [
    {
     "data": {
      "text/plain": [
       "k_fold_partition (generic function with 1 method)"
      ]
     },
     "execution_count": 16,
     "metadata": {},
     "output_type": "execute_result"
    }
   ],
   "source": [
    "# Since we have very small amount of dataset,I am going to use 10-fold validation here\n",
    "function k_fold_partition(otu_batch, label)\n",
    "    # partition the whole dataset into 10 folds\n",
    "    fold_idx = partition(1:length(otu_batch[:,1]), length(otu_batch[:,1])÷10+1)\n",
    "    # call make_fold and store the 10 folds\n",
    "    whole_set = [make_fold(otu_batch, label, i) for i in fold_idx]\n",
    "\n",
    "    return whole_set\n",
    "end\n"
   ]
  },
  {
   "cell_type": "code",
   "execution_count": 17,
   "id": "4b7c8ed9",
   "metadata": {},
   "outputs": [
    {
     "name": "stderr",
     "output_type": "stream",
     "text": [
      "┌ Info: Feed-Forward NN construction\n",
      "└ @ Main In[17]:2\n"
     ]
    },
    {
     "data": {
      "text/plain": [
       "Chain(Dense(100, 52, relu), Dense(52, 4), softmax)"
      ]
     },
     "execution_count": 17,
     "metadata": {},
     "output_type": "execute_result"
    }
   ],
   "source": [
    "# model construction\n",
    "@info(\"Feed-Forward NN construction\")\n",
    "model = Chain(\n",
    "    # Input 100 predictors and feed into 52 neurons in the hidden layer\n",
    "    # use ReLu as activation function\n",
    "    Dense(100, 52, relu),\n",
    "    # feed 27 neurons to the output, which consists of 4 categories\n",
    "    Dense(52, 4),\n",
    "    # use softmax as the activation function\n",
    "    softmax\n",
    ")"
   ]
  },
  {
   "cell_type": "code",
   "execution_count": 18,
   "id": "38945927",
   "metadata": {},
   "outputs": [
    {
     "data": {
      "text/plain": [
       "train (generic function with 1 method)"
      ]
     },
     "execution_count": 18,
     "metadata": {},
     "output_type": "execute_result"
    }
   ],
   "source": [
    "# Train the model in this cell\n",
    "function train(whole_set)\n",
    "    # record the accuracy for each folder\n",
    "    mean_accuracy = zeros(Float32,10)\n",
    "    # loop for 10 folds\n",
    "    for k in 1:10\n",
    "        # set the kth folder as testing set\n",
    "        train_set = gpu(whole_set[Not(k)])\n",
    "        test_set = gpu(whole_set[k])\n",
    "        best_acc = 0.0\n",
    "        # reset all the parameters\n",
    "        Flux.loadparams!(model, map(p -> p .= randn.(), Flux.params(model)))\n",
    "        # set to terminate the epoches if not improved for too long\n",
    "        last_improvement = 0\n",
    "        # crossentropy as loss function\n",
    "        loss(x, y) = crossentropy(model(x),y)\n",
    "        # take mean of accuracy\n",
    "        accuracy(x, y) = mean(onecold(model(x)) .== onecold(y))\n",
    "        # when learning rate is larger(0.1), the accuracy is far worse and some time result in the\n",
    "        # same value with different input\n",
    "        # when it's smaller(0.001), the result does not differ much\n",
    "        opt = ADAM(0.01)\n",
    "        # 100 epoches for each folder\n",
    "        for epoch_idx in 1:200\n",
    "            Flux.train!(loss, params(model), train_set, opt)\n",
    "            acc = accuracy(test_set...)\n",
    "\n",
    "            if acc >= 0.999\n",
    "                best_acc = acc\n",
    "                break\n",
    "            end\n",
    "            # update the best accuracy and last improvement\n",
    "            if acc >= best_acc\n",
    "                best_acc = acc\n",
    "                last_improvement = epoch_idx\n",
    "            end\n",
    "            # no improvement for too long\n",
    "            if epoch_idx - last_improvement >= 20 && opt.eta > 1e-6\n",
    "                opt.eta /= 10.0\n",
    "                # After dropping learning rate, give it a few epochs to improve\n",
    "                last_improvement = epoch_idx\n",
    "            end\n",
    "            if epoch_idx - last_improvement >= 50\n",
    "                break\n",
    "            end\n",
    "    \n",
    "        end\n",
    "        # save the best accuracy for this folder\n",
    "        mean_accuracy[k] = best_acc\n",
    "    end\n",
    "    # output the average accuracy for 10 folders\n",
    "    return mean(mean_accuracy)\n",
    "end\n"
   ]
  },
  {
   "cell_type": "code",
   "execution_count": 19,
   "id": "7e6938d9",
   "metadata": {},
   "outputs": [
    {
     "data": {
      "text/plain": [
       "batch_info (generic function with 1 method)"
      ]
     },
     "execution_count": 19,
     "metadata": {},
     "output_type": "execute_result"
    }
   ],
   "source": [
    "function batch_info(batch) \n",
    "    zero = zeros(Float32,100)\n",
    "    m = zeros(Float32,100)\n",
    "    v = zeros(Float32,100)\n",
    "    for i in 1:length(batch[1,:])\n",
    "        count = 0\n",
    "        for j in 1:length(batch[:,1])\n",
    "            if batch[j,i] != 0\n",
    "                count += 1\n",
    "            end\n",
    "        end\n",
    "        zero[i] = count\n",
    "        m[i] = mean(batch[:,i])\n",
    "        v[i] = var(batch[:,i])\n",
    "    end\n",
    "    return (mean(zero),mean(m), mean(v))\n",
    "end"
   ]
  },
  {
   "cell_type": "code",
   "execution_count": 20,
   "id": "5feae8cc",
   "metadata": {},
   "outputs": [],
   "source": [
    "# randomly select 100 otus and run the whole procedure, record information\n",
    "# for general_info, each row is a selection\n",
    "# for columns, \n",
    "# 1-100: otu indices for the selection \n",
    "# 101: number of non-zero values\n",
    "# 102: weighted mean for the 100 otus\n",
    "# 103: weighted variance for the 100 otus\n",
    "# 104: average accuracy(10 folds) for this selection \n",
    "general_info = Array{Float32}(undef, 100, 104)\n",
    "for t in 1:length(general_info[:,1])\n",
    "    # randomly select 100 number from 1 to 2049\n",
    "    rand_num = rand_select()\n",
    "    # select the corresponding OTUs\n",
    "    otu_batch = otu[:,rand_num]\n",
    "    a = Flux.Data.DataLoader(otu_batch, batchsize=22)\n",
    "\n",
    "    # split the dataset into 10 folds\n",
    "    whole_set = k_fold_partition(otu_batch, label)\n",
    "    \n",
    "    accuracy = train(whole_set)\n",
    "    info = batch_info(otu_batch)\n",
    "    \n",
    "    general_info[t,1:100] .= rand_num\n",
    "    general_info[t,101:103] .= info\n",
    "    general_info[t,104] = accuracy\n",
    "\n",
    "end\n"
   ]
  },
  {
   "cell_type": "code",
   "execution_count": 21,
   "id": "c1131bd2",
   "metadata": {},
   "outputs": [
    {
     "data": {
      "text/plain": [
       "merge (generic function with 1 method)"
      ]
     },
     "execution_count": 21,
     "metadata": {},
     "output_type": "execute_result"
    }
   ],
   "source": [
    "# Merge_sort as I don't know how to use the build-in sort here\n",
    "\n",
    "# A recursion function, break the array in to parts and merge with comparison\n",
    "function merge_sort(arr, left, right) \n",
    "    # terminate condition\n",
    "    if right > left \n",
    "        # get the mid point to break the array into 2 parts\n",
    "        mid = div(left+right, 2)\n",
    "        # recurse on the left\n",
    "        merge_sort(arr, left, mid)\n",
    "        # recurse on the right\n",
    "        merge_sort(arr, mid+1, right)\n",
    "        # merge the array by comparison\n",
    "        merge(arr, left, mid, right)\n",
    "    end\n",
    "end\n",
    "\n",
    "# Merge function to sort the input in order\n",
    "function merge(arr, left, mid, right)\n",
    "    # temp array to store sorted index, from start point to end point\n",
    "    temp = zeros(right-left+1,104)\n",
    "    i = left\n",
    "    j = mid+1\n",
    "    k = 1\n",
    "    \n",
    "    # compare both part of the input index by index, w.r.t the mid point\n",
    "    # store the smaller index into the temp array and increment that index\n",
    "    while i <= mid && j <= right\n",
    "        if arr[i,104] <= arr[j,104]\n",
    "            temp[k,:] = arr[i,:]\n",
    "            k += 1\n",
    "            i += 1\n",
    "        else \n",
    "            temp[k,:] = arr[j,:]\n",
    "            k += 1\n",
    "            j += 1\n",
    "        end\n",
    "    end\n",
    "    \n",
    "    # after the comparison, copy whatever's left in both part\n",
    "    while i <= mid\n",
    "        temp[k,:] = arr[i,:]\n",
    "        k += 1\n",
    "        i += 1\n",
    "    end\n",
    "    \n",
    "    while j <= right\n",
    "        temp[k,:] = arr[j,:]\n",
    "        k += 1\n",
    "        j += 1\n",
    "    end\n",
    "    \n",
    "    # copy everything in the temp array into the original\n",
    "    for m in left:right\n",
    "        arr[m,:] = temp[m-left + 1,:]\n",
    "    end\n",
    "    \n",
    "    return arr\n",
    "end"
   ]
  },
  {
   "cell_type": "code",
   "execution_count": 22,
   "id": "0bcbcd9b",
   "metadata": {},
   "outputs": [
    {
     "data": {
      "text/plain": [
       "\"./processed-data/model-info-yp.csv\""
      ]
     },
     "execution_count": 22,
     "metadata": {},
     "output_type": "execute_result"
    }
   ],
   "source": [
    "# sort the info with regard to accuracy and write them into a CSV\n",
    "sorted = merge_sort(general_info, 1, length(general_info[:,104]))\n",
    "CSV.write(\"./processed-data/model-info-yp.csv\", Tables.table(sorted), header=false)"
   ]
  }
 ],
 "metadata": {
  "kernelspec": {
   "display_name": "Julia 1.4.1",
   "language": "julia",
   "name": "julia-1.4"
  },
  "language_info": {
   "file_extension": ".jl",
   "mimetype": "application/julia",
   "name": "julia",
   "version": "1.4.1"
  }
 },
 "nbformat": 4,
 "nbformat_minor": 5
}
