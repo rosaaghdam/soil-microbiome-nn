{
 "cells": [
  {
   "cell_type": "code",
   "execution_count": 335,
   "id": "c26ef7a3",
   "metadata": {},
   "outputs": [],
   "source": [
    "using CSV\n",
    "using DataFrames\n",
    "using XLSX\n",
    "using Statistics\n",
    "using Distributions\n",
    "using Random\n",
    "using Tables\n",
    "using Glob"
   ]
  },
  {
   "cell_type": "code",
   "execution_count": 336,
   "id": "c2ff9a9a",
   "metadata": {},
   "outputs": [
    {
     "data": {
      "text/plain": [
       "restruct_data (generic function with 1 method)"
      ]
     },
     "execution_count": 336,
     "metadata": {},
     "output_type": "execute_result"
    }
   ],
   "source": [
    "function restruct_data(level)\n",
    "    data = CSV.read(\"../raw-data/Y1_F_$level.csv\", DataFrame)\n",
    "    data = data[data[:,2] .!= \"NA\", :]\n",
    "    ncol = size(data)[2]\n",
    "    df = data[:, 3:ncol]\n",
    "    colnames = names(df)\n",
    "    df[!, :id] = data[:,2]\n",
    "    df1 = stack(df, colnames)\n",
    "    df_new = unstack(df1, :variable, :id, :value)\n",
    "    data = rename!(df_new, :variable => :Column1)\n",
    "    data = data[completecases(data), :]\n",
    "    return data\n",
    "end"
   ]
  },
  {
   "cell_type": "code",
   "execution_count": 337,
   "id": "eb76b4da",
   "metadata": {},
   "outputs": [
    {
     "data": {
      "text/plain": [
       "split_variety (generic function with 1 method)"
      ]
     },
     "execution_count": 337,
     "metadata": {},
     "output_type": "execute_result"
    }
   ],
   "source": [
    "function split_variety(full_label, unique_name, var_idx)\n",
    "    sub_arr = Any[]\n",
    "    for i in 1:length(unique_name)\n",
    "        new_sub = full_label[full_label[:, var_idx] .== unique_name[i], :]\n",
    "        push!(sub_arr, new_sub)\n",
    "    end\n",
    "    return sub_arr\n",
    "end"
   ]
  },
  {
   "cell_type": "code",
   "execution_count": 338,
   "id": "93e79c8b",
   "metadata": {},
   "outputs": [
    {
     "data": {
      "text/plain": [
       "push_otu (generic function with 2 methods)"
      ]
     },
     "execution_count": 338,
     "metadata": {},
     "output_type": "execute_result"
    }
   ],
   "source": [
    "function push_otu(otu_data, select, id, rd)\n",
    "    dat = innerjoin(otu_data, select, on = :Column1)\n",
    "    dat = disallowmissing!(dat)\n",
    "    gen = generate(dat, id, rd)\n",
    "    new_otu = gen[1:length(gen) - 2]\n",
    "    push!(otu_data, new_otu)\n",
    "end"
   ]
  },
  {
   "cell_type": "code",
   "execution_count": 339,
   "id": "997a4b5f",
   "metadata": {},
   "outputs": [
    {
     "data": {
      "text/plain": [
       "push_all_otu (generic function with 1 method)"
      ]
     },
     "execution_count": 339,
     "metadata": {},
     "output_type": "execute_result"
    }
   ],
   "source": [
    "function push_all_otu(otu, select, id)\n",
    "    dat = innerjoin(otu[1], select, on = :Column1)\n",
    "    dat = disallowmissing!(dat)\n",
    "    rd = rand(1:size(dat)[1])\n",
    "    orig_id = dat[rd, 1]\n",
    "    for i in 1: length(otu)\n",
    "        push_otu(otu[i], select, id, rd)\n",
    "    end\n",
    "    return orig_id\n",
    "end"
   ]
  },
  {
   "cell_type": "code",
   "execution_count": 340,
   "id": "59778dfc",
   "metadata": {},
   "outputs": [
    {
     "data": {
      "text/plain": [
       "generate (generic function with 2 methods)"
      ]
     },
     "execution_count": 340,
     "metadata": {},
     "output_type": "execute_result"
    }
   ],
   "source": [
    "function generate(data, id, rd)\n",
    "    new_gen = Any[]\n",
    "    original = data[rd, :]\n",
    "    push!(new_gen, string(id))\n",
    "    for i in 2:size(data)[2]-2\n",
    "        m = mean(data[:, i])/1000\n",
    "        v = Statistics.var(data[:, i])/1000\n",
    "        \n",
    "        if v <= 0 || size(data)[1] == 1\n",
    "            v = 1\n",
    "        end\n",
    "        noise = rand(Normal(m,v))\n",
    "        if original[i] == 0\n",
    "            append!(new_gen, 0)\n",
    "        elseif original[i] + noise < 0\n",
    "            append!(new_gen, 0)\n",
    "        else\n",
    "            append!(new_gen, round(original[i] + noise))\n",
    "        end\n",
    "    end\n",
    "    append!(new_gen, data[1, size(data)[2]-1])\n",
    "    push!(new_gen, data[1, size(data)[2]])\n",
    "    return new_gen\n",
    "end"
   ]
  },
  {
   "cell_type": "code",
   "execution_count": 341,
   "id": "fe0df9b8",
   "metadata": {},
   "outputs": [
    {
     "data": {
      "text/plain": [
       "push_res (generic function with 2 methods)"
      ]
     },
     "execution_count": 341,
     "metadata": {},
     "output_type": "execute_result"
    }
   ],
   "source": [
    "function push_res(res, gen_res, orig_id, id)\n",
    "    selected_id = filter(row -> (row.Column1 == orig_id), res)\n",
    "    if size(selected_id)[1] == 0\n",
    "        return\n",
    "    end\n",
    "    label = selected_id[1,2]\n",
    "    new_res = Any[]\n",
    "    push!(new_res, string(id))\n",
    "    push!(new_res, label)\n",
    "    push!(gen_res, new_res)\n",
    "end"
   ]
  },
  {
   "cell_type": "code",
   "execution_count": 342,
   "id": "529a5234",
   "metadata": {},
   "outputs": [
    {
     "data": {
      "text/plain": [
       "push_all_res (generic function with 1 method)"
      ]
     },
     "execution_count": 342,
     "metadata": {},
     "output_type": "execute_result"
    }
   ],
   "source": [
    "function push_all_res(all_res, all_gen_res, orig_id, id)\n",
    "    for i in 1:length(all_res)\n",
    "        push_res(all_res[i], all_gen_res[i], orig_id, id)\n",
    "    end\n",
    "end"
   ]
  },
  {
   "cell_type": "code",
   "execution_count": 343,
   "id": "84a3c584",
   "metadata": {},
   "outputs": [
    {
     "data": {
      "text/plain": [
       "update (generic function with 3 methods)"
      ]
     },
     "execution_count": 343,
     "metadata": {},
     "output_type": "execute_result"
    }
   ],
   "source": [
    "function update(otu, all_res, all_gen_res, var_sub, id)\n",
    "    choose = rand(1:length(var_sub))\n",
    "    select = var_sub[choose]\n",
    "    label = select[1,2]\n",
    "    orig_id = push_all_otu(otu, select, id)\n",
    "    push_all_res(all_res, all_gen_res, orig_id, id)\n",
    "end"
   ]
  },
  {
   "cell_type": "code",
   "execution_count": 344,
   "id": "2ef4d313",
   "metadata": {},
   "outputs": [
    {
     "data": {
      "text/plain": [
       "add_this_label (generic function with 2 methods)"
      ]
     },
     "execution_count": 344,
     "metadata": {},
     "output_type": "execute_result"
    }
   ],
   "source": [
    "function add_this_label(num_label, all_res, all_gen_res, id, otu, var_sub) \n",
    "    for i in 1:num_label\n",
    "        update(otu, all_res, all_gen_res, var_sub, id)\n",
    "        id += 1\n",
    "    end\n",
    "    return id\n",
    "end"
   ]
  },
  {
   "cell_type": "code",
   "execution_count": 345,
   "id": "13e0089c",
   "metadata": {},
   "outputs": [
    {
     "data": {
      "text/plain": [
       "do_one_response (generic function with 2 methods)"
      ]
     },
     "execution_count": 345,
     "metadata": {},
     "output_type": "execute_result"
    }
   ],
   "source": [
    "function do_one_response(response, gen_response, var, id, idx)\n",
    "    res = response[idx]\n",
    "    new_res = gen_response[idx]\n",
    "    res_var = innerjoin(res, var, on = :Column1)\n",
    "\n",
    "    #split into label and var\n",
    "    var_idx = size(res_var)[2]\n",
    "    label_idx = var_idx - 1\n",
    "    low = res_var[res_var[:,label_idx] .== 0, :]\n",
    "    high = res_var[res_var[:,label_idx] .== 1, :]\n",
    "    low_name = unique(low[:, var_idx])\n",
    "    low_sub = split_variety(low, low_name, var_idx)\n",
    "    high_name = unique(high[:, var_idx])\n",
    "    high_sub = split_variety(high, high_name, var_idx)\n",
    "\n",
    "    pert = [(i, count(==(i), new_res[:,2])) for i in unique(new_res[:,2])]\n",
    "    label = pert[1][1]\n",
    "    if label == 0\n",
    "        num_zero = 500 - pert[1][2]\n",
    "        if num_zero > 0\n",
    "            id = add_this_label(num_zero, response, gen_response, id, otu, low_sub)\n",
    "        end\n",
    "        num_one = 500 - pert[2][2]\n",
    "        if num_one > 0\n",
    "            id = add_this_label(num_one, response, gen_response, id, otu, high_sub)\n",
    "        end\n",
    "    else\n",
    "        num_zero = 500 - pert[2][2]\n",
    "        if num_zero > 0\n",
    "            id = add_this_label(num_zero, response, gen_response, id, otu, low_sub)\n",
    "        end\n",
    "        num_one = 500 - pert[1][2]\n",
    "        if num_one > 0\n",
    "            id = add_this_label(num_one, response, gen_response, id, otu, high_sub)\n",
    "        end  \n",
    "    end\n",
    "    return id\n",
    "end"
   ]
  },
  {
   "cell_type": "code",
   "execution_count": 346,
   "id": "f79bd606",
   "metadata": {},
   "outputs": [
    {
     "data": {
      "text/plain": [
       "remove_label (generic function with 1 method)"
      ]
     },
     "execution_count": 346,
     "metadata": {},
     "output_type": "execute_result"
    }
   ],
   "source": [
    "function remove_label(gen_res)\n",
    "    pert = [(i, count(==(i), gen_res[:,2])) for i in unique(gen_res[:,2])]\n",
    "    label = pert[1][1]\n",
    "    if label == 0\n",
    "        rm_zero = pert[1][2] - 500\n",
    "        if rm_zero > 0\n",
    "            gen_res = remove(gen_res, 0, rm_zero)\n",
    "        end\n",
    "        rm_one = pert[2][2] - 500\n",
    "        if rm_one > 0\n",
    "            gen_res = remove(gen_res, 1, rm_one)\n",
    "        end\n",
    "    else\n",
    "        rm_zero = pert[2][2] - 500\n",
    "        if rm_zero > 0\n",
    "            gen_res = remove(gen_res, 0, rm_zero)\n",
    "        end\n",
    "        rm_one = pert[1][2] -500\n",
    "        if rm_one > 0\n",
    "            gen_res = remove(gen_res, 1, rm_one)\n",
    "        end  \n",
    "    end\n",
    "    return gen_res\n",
    "end"
   ]
  },
  {
   "cell_type": "code",
   "execution_count": 347,
   "id": "9b3bde33",
   "metadata": {},
   "outputs": [
    {
     "data": {
      "text/plain": [
       "remove (generic function with 1 method)"
      ]
     },
     "execution_count": 347,
     "metadata": {},
     "output_type": "execute_result"
    }
   ],
   "source": [
    "function remove(gen_res, label, num)\n",
    "    count = 0;\n",
    "    idx = size(gen_res)[1]\n",
    "    while (count != num)\n",
    "        #println(\"ct:\", count, \", num:\", num, \", idx:\", idx)\n",
    "        if (gen_res[idx, 2] == label)\n",
    "            gen_res = gen_res[Not(idx), :]\n",
    "            count += 1\n",
    "        end\n",
    "        idx -= 1\n",
    "    end\n",
    "    return gen_res\n",
    "end"
   ]
  },
  {
   "cell_type": "code",
   "execution_count": 348,
   "id": "c7ed6ba7",
   "metadata": {},
   "outputs": [
    {
     "data": {
      "text/plain": [
       "write_otu (generic function with 1 method)"
      ]
     },
     "execution_count": 348,
     "metadata": {},
     "output_type": "execute_result"
    }
   ],
   "source": [
    "function write_otu(otu_data, level)\n",
    "    CSV.write(\"../processed-data/otu_data/augumented_otu_count/$level.csv\", otu_data)\n",
    "end"
   ]
  },
  {
   "cell_type": "code",
   "execution_count": 349,
   "id": "bcf89058",
   "metadata": {},
   "outputs": [
    {
     "data": {
      "text/plain": [
       "write_response (generic function with 1 method)"
      ]
     },
     "execution_count": 349,
     "metadata": {},
     "output_type": "execute_result"
    }
   ],
   "source": [
    "function write_response(res_data, response)\n",
    "    CSV.write(\"../processed-data/response/augumented_response/$response.csv\", res_data)\n",
    "end"
   ]
  },
  {
   "cell_type": "code",
   "execution_count": 352,
   "id": "787c1945",
   "metadata": {},
   "outputs": [
    {
     "name": "stderr",
     "output_type": "stream",
     "text": [
      "┌ Warning: Duplicate entries in unstack at row 58 for key MN_10_1_Y1 and variable Unknown Family.\n",
      "└ @ DataFrames C:\\Users\\Administrator\\.julia\\packages\\DataFrames\\GtZ1l\\src\\abstractdataframe\\reshape.jl:208\n",
      "┌ Warning: Duplicate entries in unstack at row 1162 for key MN_10_1_Y1 and variable Incertae Sedis.\n",
      "└ @ DataFrames C:\\Users\\Administrator\\.julia\\packages\\DataFrames\\GtZ1l\\src\\abstractdataframe\\reshape.jl:208\n"
     ]
    }
   ],
   "source": [
    "# reconstruct OTU data first and save them in OTU array\n",
    "all_level = [\"Phylum\", \"Class\", \"Order\",\"Family\", \"Genus\"]\n",
    "all_response = [\"no_tuber_scab\", \"no_tuber_scabpit\", \"no_tuber_scabsuper\", \"yield_per_meter\", \"yield_per_plant\", \"pctg_black_scurf\"]\n",
    "otu = Any[]\n",
    "for i in 1:length(all_level)\n",
    "    level = all_level[i]   \n",
    "    one_level = restruct_data(level)\n",
    "    push!(otu, one_level)\n",
    "end    \n",
    "\n",
    "# save all responses into the response array\n",
    "response_path = \"../processed-data/response\"\n",
    "response_files = glob(\"*.csv\", response_path)\n",
    "response = DataFrame.(CSV.File.(response_files));\n",
    "\n",
    "# get the variety2 entries\n",
    "variety = CSV.read(\"../raw-data/metadata.csv\", DataFrame)\n",
    "variety = variety[:, Not(2:11)]\n",
    "variety = variety[:, 1:2]\n",
    "variety = variety[completecases(variety), :]\n",
    "variety = filter(row -> !(row.Variety2 == \"NA\"), variety);\n",
    "\n",
    "gen_response = deepcopy(response);\n",
    "\n",
    "id = 1\n",
    "for i in 1:length(response)\n",
    "    id = do_one_response(response, gen_response, variety, id, i)\n",
    "end\n",
    "# now remove excessive response\n",
    "for i in 1:length(gen_response)\n",
    "    gen_response[i] = remove_label(gen_response[i])\n",
    "end\n",
    "\n",
    "for i in 1:length(all_level)\n",
    "    write_otu(otu[i], all_level[i])\n",
    "end\n",
    "for i in 1:length(all_response)\n",
    "    write_response(gen_response[i], all_response[i])\n",
    "end\n"
   ]
  },
  {
   "cell_type": "code",
   "execution_count": null,
   "id": "03a9614f",
   "metadata": {},
   "outputs": [],
   "source": []
  }
 ],
 "metadata": {
  "kernelspec": {
   "display_name": "Julia 1.7.3",
   "language": "julia",
   "name": "julia-1.7"
  },
  "language_info": {
   "file_extension": ".jl",
   "mimetype": "application/julia",
   "name": "julia",
   "version": "1.7.3"
  }
 },
 "nbformat": 4,
 "nbformat_minor": 5
}
