{
 "cells": [
  {
   "cell_type": "code",
   "execution_count": 1,
   "id": "c26ef7a3",
   "metadata": {},
   "outputs": [],
   "source": [
    "using CSV\n",
    "using DataFrames\n",
    "using XLSX\n",
    "using Statistics\n",
    "using Distributions\n",
    "using Random\n",
    "using Tables\n",
    "using Glob"
   ]
  },
  {
   "cell_type": "code",
   "execution_count": 2,
   "id": "b243db21",
   "metadata": {},
   "outputs": [
    {
     "data": {
      "text/plain": [
       "restruct_data (generic function with 1 method)"
      ]
     },
     "execution_count": 2,
     "metadata": {},
     "output_type": "execute_result"
    }
   ],
   "source": [
    "function restruct_data(level)\n",
    "    data = CSV.read(\"../raw-data/Y1_F_$level.csv\", DataFrame)\n",
    "    data = data[data[:,2] .!= \"NA\", :]\n",
    "    ncol = size(data)[2]\n",
    "    df = data[:, 3:ncol]\n",
    "    colnames = names(df)\n",
    "    df[!, :id] = data[:,2]\n",
    "    df1 = stack(df, colnames)\n",
    "    df_new = unstack(df1, :variable, :id, :value)\n",
    "    data = rename!(df_new, :variable => :Column1)\n",
    "    data = data[completecases(data), :]\n",
    "    return data\n",
    "end"
   ]
  },
  {
   "cell_type": "code",
   "execution_count": 3,
   "id": "4448f78d",
   "metadata": {},
   "outputs": [
    {
     "data": {
      "text/plain": [
       "split_variety (generic function with 1 method)"
      ]
     },
     "execution_count": 3,
     "metadata": {},
     "output_type": "execute_result"
    }
   ],
   "source": [
    "function split_variety(full_label, unique_name, var_idx)\n",
    "    sub_arr = Any[]\n",
    "    for i in 1:length(unique_name)\n",
    "        new_sub = full_label[full_label[:, var_idx] .== unique_name[i], :]\n",
    "        push!(sub_arr, new_sub)\n",
    "    end\n",
    "    return sub_arr\n",
    "end"
   ]
  },
  {
   "cell_type": "code",
   "execution_count": 9,
   "id": "3d5cd230",
   "metadata": {},
   "outputs": [
    {
     "data": {
      "text/plain": [
       "write (generic function with 1 method)"
      ]
     },
     "execution_count": 9,
     "metadata": {},
     "output_type": "execute_result"
    }
   ],
   "source": [
    "function write(otu, res, var, level, resid)\n",
    "    data = innerjoin(otu, res, var, on = :Column1);\n",
    "    var_idx = size(data)[2]\n",
    "    label_idx = var_idx - 1\n",
    "    low = data[data[:,label_idx] .== 0, :]\n",
    "    high = data[data[:,label_idx] .== 1, :]\n",
    "\n",
    "    low_name = unique(low[:, var_idx])\n",
    "    low_sub = split_variety(low, low_name, var_idx)\n",
    "    high_name = unique(high[:, var_idx])\n",
    "    high_sub = split_variety(high, high_name, var_idx)\n",
    "\n",
    "    num_low_gen = 500 - size(low)[1]\n",
    "    num_high_gen = 500 - size(high)[1]\n",
    "    \n",
    "    add_gen(low_sub, num_low_gen, data)\n",
    "    add_gen(high_sub, num_high_gen, data)\n",
    "    data = data[:, Not(var_idx)]\n",
    "    CSV.write(\"../processed-data/augumented_otu_count/$level-$resid.csv\", data)\n",
    "end"
   ]
  },
  {
   "cell_type": "code",
   "execution_count": 5,
   "id": "511f262a",
   "metadata": {},
   "outputs": [
    {
     "data": {
      "text/plain": [
       "generate (generic function with 1 method)"
      ]
     },
     "execution_count": 5,
     "metadata": {},
     "output_type": "execute_result"
    }
   ],
   "source": [
    "function generate(data)\n",
    "    new_gen = Any[]\n",
    "    rd = rand(1:size(data)[1])\n",
    "    original = data[rd, :]\n",
    "    push!(new_gen, \"BULI_BULI_114514\")\n",
    "    for i in 2:size(data)[2]-2\n",
    "        m = mean(data[:, i])/1000\n",
    "        v = var(data[:, i])/1000\n",
    "        \n",
    "        if v <= 0 || size(data)[1] == 1\n",
    "            v = 1\n",
    "        end\n",
    "        noise = rand(Normal(m,v))\n",
    "        if original[i] == 0\n",
    "            append!(new_gen, 0)\n",
    "        elseif original[i] + noise < 0\n",
    "            append!(new_gen, 0)\n",
    "        else\n",
    "            append!(new_gen, round(original[i] + noise))\n",
    "        end\n",
    "    end\n",
    "    append!(new_gen, data[1, size(data)[2]-1])\n",
    "    push!(new_gen, data[1, size(data)[2]])\n",
    "    return new_gen\n",
    "end"
   ]
  },
  {
   "cell_type": "code",
   "execution_count": 6,
   "id": "51103f5b",
   "metadata": {},
   "outputs": [
    {
     "data": {
      "text/plain": [
       "add_gen (generic function with 1 method)"
      ]
     },
     "execution_count": 6,
     "metadata": {},
     "output_type": "execute_result"
    }
   ],
   "source": [
    "function add_gen(var_sub, num_gen, data)\n",
    "    for i in 1:num_gen\n",
    "        choose = rand(1:length(var_sub))\n",
    "        new_gen = generate(var_sub[choose])\n",
    "        push!(data, new_gen)\n",
    "    end\n",
    "end"
   ]
  },
  {
   "cell_type": "code",
   "execution_count": 10,
   "id": "875bcaed",
   "metadata": {},
   "outputs": [
    {
     "data": {
      "text/plain": [
       "main (generic function with 1 method)"
      ]
     },
     "execution_count": 10,
     "metadata": {},
     "output_type": "execute_result"
    }
   ],
   "source": [
    "function main()\n",
    "    all_level = [\"Phylum\", \"Class\", \"Order\",\"Family\", \"Genus\"]\n",
    "    full_data = Any[]\n",
    "    for i in 1:length(all_level)\n",
    "        level = all_level[i]   \n",
    "        one_level = restruct_data(level)\n",
    "        push!(full_data, one_level)\n",
    "    end    \n",
    "\n",
    "    response_path = \"../processed-data/response\"\n",
    "    response_files = glob(\"*.csv\", response_path)\n",
    "    response = DataFrame.(CSV.File.(response_files));\n",
    "\n",
    "    variety = CSV.read(\"../raw-data/metadata.csv\", DataFrame)\n",
    "    variety = variety[:, Not(2:11)]\n",
    "    variety = variety[:, 1:2]\n",
    "    variety = variety[completecases(variety), :]\n",
    "    variety = filter(row -> !(row.Variety2 == \"NA\"), variety);\n",
    "\n",
    "    for i in 1:length(full_data)\n",
    "        for j in 1:length(response)\n",
    "            write(full_data[i], response[j], variety, all_level[i], j)\n",
    "        end\n",
    "    end\n",
    "    \n",
    "end"
   ]
  },
  {
   "cell_type": "code",
   "execution_count": 11,
   "id": "03a9614f",
   "metadata": {},
   "outputs": [
    {
     "name": "stderr",
     "output_type": "stream",
     "text": [
      "┌ Warning: Duplicate entries in unstack at row 58 for key MN_10_1_Y1 and variable Unknown Family.\n",
      "└ @ DataFrames /home/send_fuze/.julia/packages/DataFrames/GtZ1l/src/abstractdataframe/reshape.jl:208\n",
      "┌ Warning: Duplicate entries in unstack at row 1162 for key MN_10_1_Y1 and variable Incertae Sedis.\n",
      "└ @ DataFrames /home/send_fuze/.julia/packages/DataFrames/GtZ1l/src/abstractdataframe/reshape.jl:208\n"
     ]
    }
   ],
   "source": [
    "main()"
   ]
  }
 ],
 "metadata": {
  "kernelspec": {
   "display_name": "Julia 1.4.1",
   "language": "julia",
   "name": "julia-1.4"
  },
  "language_info": {
   "file_extension": ".jl",
   "mimetype": "application/julia",
   "name": "julia",
   "version": "1.4.1"
  }
 },
 "nbformat": 4,
 "nbformat_minor": 5
}
