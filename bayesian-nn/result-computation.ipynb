{
 "cells": [
  {
   "cell_type": "code",
   "execution_count": 13,
   "id": "75dd20fe",
   "metadata": {},
   "outputs": [],
   "source": [
    "using CSV\n",
    "using DataFrames\n",
    "using XLSX\n",
    "using Statistics\n",
    "using Glob\n",
    "using MLJ\n",
    "using MLJBase\n",
    "using DelimitedFiles\n",
    "using CategoricalArrays"
   ]
  },
  {
   "cell_type": "code",
   "execution_count": 14,
   "id": "650e6f07",
   "metadata": {},
   "outputs": [],
   "source": [
    "response_name = [\"no_tuber\", \"no_tuber_scab\", \"no_tuber_scabpit\"\n",
    "    , \"no_tuber_scabsuper\", \"scab_severity\", \"yield_per_meter\", \"yield_per_plant\"]\n",
    "for i in 1:7\n",
    "    write_to_xlsx(i, response_name[i])\n",
    "end"
   ]
  },
  {
   "cell_type": "code",
   "execution_count": 9,
   "id": "e2ccabcd",
   "metadata": {},
   "outputs": [
    {
     "data": {
      "text/plain": [
       "write_to_xlsx (generic function with 1 method)"
      ]
     },
     "execution_count": 9,
     "metadata": {},
     "output_type": "execute_result"
    }
   ],
   "source": [
    "function write_to_xlsx(response, name)\n",
    "    data = get_all_level(response)\n",
    "    filename = \"../processed-data/result-file/$name.xlsx\"\n",
    "    labels = collect(0:1:19)\n",
    "    XLSX.openxlsx(filename, mode=\"w\") do xf\n",
    "        sheet = xf[1]\n",
    "        XLSX.rename!(sheet, \"Phylum\")\n",
    "        XLSX.writetable!(sheet, data[1], vcat(\"\", labels))\n",
    "        XLSX.addsheet!(xf)\n",
    "        XLSX.rename!(xf[2], \"Class\")\n",
    "        XLSX.writetable!(xf[2], data[2], vcat(\"\", labels))\n",
    "        XLSX.addsheet!(xf)\n",
    "        XLSX.rename!(xf[3], \"Order\")\n",
    "        XLSX.writetable!(xf[3], data[3], vcat(\"\", labels))\n",
    "    end\n",
    "end"
   ]
  },
  {
   "cell_type": "code",
   "execution_count": 5,
   "id": "9f04078d",
   "metadata": {},
   "outputs": [
    {
     "data": {
      "text/plain": [
       "get_all_level (generic function with 1 method)"
      ]
     },
     "execution_count": 5,
     "metadata": {},
     "output_type": "execute_result"
    }
   ],
   "source": [
    "function get_all_level(response)\n",
    "    all_level = [\"Phylum\", \"Class\", \"Order\"]\n",
    "    all = Any[]\n",
    "    for i in 1:length(all_level)\n",
    "        level = all_level[i]\n",
    "        path = \"../processed-data/$level/result\"\n",
    "        filename = glob(\"*$response.txt\", path)\n",
    "        data = single_response(filename)     \n",
    "        push!(all, data)\n",
    "    end    \n",
    "    return all\n",
    "end"
   ]
  },
  {
   "cell_type": "code",
   "execution_count": 6,
   "id": "11d193aa",
   "metadata": {},
   "outputs": [
    {
     "data": {
      "text/plain": [
       "single_response (generic function with 1 method)"
      ]
     },
     "execution_count": 6,
     "metadata": {},
     "output_type": "execute_result"
    }
   ],
   "source": [
    "function single_response(filename)\n",
    "    all = Any[]\n",
    "    row_num = [0,1,2,3,4]\n",
    "    push!(all, row_num)\n",
    "    for i in 1:length(filename)\n",
    "        data = readdlm(filename[i])\n",
    "        new = calculation(data)\n",
    "        push!(all, new)\n",
    "    end\n",
    "    return all\n",
    "end"
   ]
  },
  {
   "cell_type": "code",
   "execution_count": 7,
   "id": "68cfeab1",
   "metadata": {},
   "outputs": [
    {
     "data": {
      "text/plain": [
       "calculation (generic function with 1 method)"
      ]
     },
     "execution_count": 7,
     "metadata": {},
     "output_type": "execute_result"
    }
   ],
   "source": [
    "function calculation(data)\n",
    "    ret = zeros(5)\n",
    "    # set prediction and truth\n",
    "    truth = categorical(data[:, 2])\n",
    "    predict = categorical(data[:, 4])\n",
    "    measures(\"FScore\")\n",
    "    # F for zero\n",
    "    m = FScore(rev=true)\n",
    "    ret[1] = m(predict, truth)\n",
    "    # F for one\n",
    "    m = FScore(rev=false)\n",
    "    ret[2] = m(predict, truth)\n",
    "    ret[3] = accuracy(predict, truth)\n",
    "    m = MulticlassFScore(average = MLJBase.MacroAvg())\n",
    "    ret[4] = m(predict, truth)\n",
    "    p = [(i, count(==(i), truth)) for i in unique(truth)]\n",
    "    ret[5] = (p[1][2]*ret[2] + p[2][2]*ret[1])/(p[1][2] + p[2][2])\n",
    "    return ret\n",
    "end"
   ]
  },
  {
   "cell_type": "code",
   "execution_count": null,
   "id": "b9ed2e13",
   "metadata": {},
   "outputs": [],
   "source": []
  }
 ],
 "metadata": {
  "kernelspec": {
   "display_name": "Julia 1.4.1",
   "language": "julia",
   "name": "julia-1.4"
  },
  "language_info": {
   "file_extension": ".jl",
   "mimetype": "application/julia",
   "name": "julia",
   "version": "1.4.1"
  }
 },
 "nbformat": 4,
 "nbformat_minor": 5
}
