{
 "cells": [
  {
   "cell_type": "code",
   "execution_count": 55,
   "id": "75dd20fe",
   "metadata": {},
   "outputs": [],
   "source": [
    "using CSV\n",
    "using DataFrames\n",
    "using XLSX\n",
    "using Statistics\n",
    "using Glob\n",
    "using MLJ\n",
    "using MLJBase\n",
    "using DelimitedFiles\n",
    "using CategoricalArrays"
   ]
  },
  {
   "cell_type": "code",
   "execution_count": 68,
   "id": "650e6f07",
   "metadata": {},
   "outputs": [],
   "source": [
    "response_name = [\"no_tuber_scab\", \"no_tuber_scabpit\"\n",
    "    , \"no_tuber_scabsuper\", \"yield_per_meter\", \"yield_per_plant\", \"pctg_black_scurf\"]\n",
    "for i in 1:6\n",
    "    write_to_non_level(i, response_name[i])\n",
    "end"
   ]
  },
  {
   "cell_type": "code",
   "execution_count": 67,
   "id": "588e6897",
   "metadata": {},
   "outputs": [
    {
     "data": {
      "text/plain": [
       "write_to_non_level (generic function with 1 method)"
      ]
     },
     "execution_count": 67,
     "metadata": {},
     "output_type": "execute_result"
    }
   ],
   "source": [
    "function write_to_non_level(response, name)\n",
    "    data = get_result(response)\n",
    "    filename = \"../processed-data/result_file/result_table/disease_suppression/$name.xlsx\"\n",
    "    labels = collect(0:1:5)\n",
    "    XLSX.openxlsx(filename, mode=\"w\") do xf\n",
    "        sheet = xf[1]\n",
    "        XLSX.writetable!(sheet, data, vcat(\"\", labels))\n",
    "    end\n",
    "end"
   ]
  },
  {
   "cell_type": "code",
   "execution_count": 66,
   "id": "fd732ae9",
   "metadata": {},
   "outputs": [
    {
     "data": {
      "text/plain": [
       "get_result (generic function with 1 method)"
      ]
     },
     "execution_count": 66,
     "metadata": {},
     "output_type": "execute_result"
    }
   ],
   "source": [
    "function get_result(response)\n",
    "    path = \"../processed-data/result_file/non_augumented/suppression/\"\n",
    "    filename = glob(\"*$response.txt\", path)\n",
    "    data = single_response(filename)\n",
    "    return data\n",
    "end"
   ]
  },
  {
   "cell_type": "code",
   "execution_count": 56,
   "id": "e2ccabcd",
   "metadata": {},
   "outputs": [
    {
     "data": {
      "text/plain": [
       "write_to_xlsx (generic function with 1 method)"
      ]
     },
     "execution_count": 56,
     "metadata": {},
     "output_type": "execute_result"
    }
   ],
   "source": [
    "function write_to_xlsx(response, name)\n",
    "    data = get_all_level(response)\n",
    "    filename = \"../processed-data/result_file/result_table/alpha_diversity_indices/$name.xlsx\"\n",
    "    labels = collect(0:1:6)\n",
    "    XLSX.openxlsx(filename, mode=\"w\") do xf\n",
    "        sheet = xf[1]\n",
    "        XLSX.rename!(sheet, \"Phylum\")\n",
    "        XLSX.writetable!(sheet, data[1], vcat(\"\", labels))\n",
    "        XLSX.addsheet!(xf)\n",
    "        XLSX.rename!(xf[2], \"Class\")\n",
    "        XLSX.writetable!(xf[2], data[2], vcat(\"\", labels))\n",
    "        XLSX.addsheet!(xf)\n",
    "        XLSX.rename!(xf[3], \"Order\")\n",
    "        XLSX.writetable!(xf[3], data[3], vcat(\"\", labels))\n",
    "        XLSX.addsheet!(xf)\n",
    "        XLSX.rename!(xf[4], \"Family\")\n",
    "        XLSX.writetable!(xf[4], data[4], vcat(\"\", labels))\n",
    "        XLSX.addsheet!(xf)\n",
    "        XLSX.rename!(xf[5], \"Genus\")\n",
    "        XLSX.writetable!(xf[5], data[5], vcat(\"\", labels))\n",
    "    end\n",
    "end"
   ]
  },
  {
   "cell_type": "code",
   "execution_count": 57,
   "id": "9f04078d",
   "metadata": {},
   "outputs": [
    {
     "data": {
      "text/plain": [
       "get_all_level (generic function with 1 method)"
      ]
     },
     "execution_count": 57,
     "metadata": {},
     "output_type": "execute_result"
    }
   ],
   "source": [
    "function get_all_level(response)\n",
    "    all_level = [\"Phylum\", \"Class\", \"Order\",\"Family\", \"Genus\"]\n",
    "    all = Any[]\n",
    "    for i in 1:length(all_level)\n",
    "        level = all_level[i]\n",
    "        path = \"../processed-data/result_file/non_augumented/alpha/$level/\"\n",
    "        filename = glob(\"*$response.txt\", path)\n",
    "        data = single_response(filename)\n",
    "        push!(all, data)\n",
    "    end    \n",
    "    return all\n",
    "end"
   ]
  },
  {
   "cell_type": "code",
   "execution_count": 58,
   "id": "11d193aa",
   "metadata": {},
   "outputs": [
    {
     "data": {
      "text/plain": [
       "single_response (generic function with 1 method)"
      ]
     },
     "execution_count": 58,
     "metadata": {},
     "output_type": "execute_result"
    }
   ],
   "source": [
    "function single_response(filename)\n",
    "    all = Any[]\n",
    "    row_num = [0,1,2,3,4]\n",
    "    push!(all, row_num)\n",
    "    for i in 1:length(filename)\n",
    "        data = readdlm(filename[i])\n",
    "        new = calculation(data)\n",
    "        push!(all, new)\n",
    "    end\n",
    "    return all\n",
    "end"
   ]
  },
  {
   "cell_type": "code",
   "execution_count": 59,
   "id": "68cfeab1",
   "metadata": {},
   "outputs": [
    {
     "data": {
      "text/plain": [
       "calculation (generic function with 1 method)"
      ]
     },
     "execution_count": 59,
     "metadata": {},
     "output_type": "execute_result"
    }
   ],
   "source": [
    "function calculation(data)\n",
    "    ret = zeros(5)\n",
    "    # set prediction and truth\n",
    "    truth = categorical(data[:, 2])\n",
    "    predict = categorical(data[:, 4])\n",
    "    measures(\"FScore\")\n",
    "    # F for zero\n",
    "    m = FScore(rev=false)\n",
    "    ret[1] = m(predict, truth)\n",
    "    if isnan(ret[1])\n",
    "        ret[1] = 0\n",
    "    end\n",
    "    # F for one\n",
    "    m = FScore(rev=true)\n",
    "    ret[2] = m(predict, truth)\n",
    "    if isnan(ret[2])\n",
    "        ret[2] = 0\n",
    "    end    \n",
    "    ret[3] = accuracy(predict, truth)\n",
    "    m = MulticlassFScore(average = MLJBase.MacroAvg())\n",
    "    ret[4] = m(predict, truth)\n",
    "    p = [(i, count(==(i), truth)) for i in unique(truth)]\n",
    "    if p[1][2] == 0\n",
    "        zero = p[1][2]\n",
    "        one = p[2][2]\n",
    "    else\n",
    "        zero = p[2][2]\n",
    "        one = p[1][2]\n",
    "    end\n",
    "    #println(zero, \", \", one)\n",
    "    ret[5] = (zero*ret[1] + one*ret[2])/(zero + one)\n",
    "    \n",
    "    return ret\n",
    "end"
   ]
  },
  {
   "cell_type": "code",
   "execution_count": null,
   "id": "b9ed2e13",
   "metadata": {},
   "outputs": [],
   "source": []
  }
 ],
 "metadata": {
  "kernelspec": {
   "display_name": "Julia 1.4.1",
   "language": "julia",
   "name": "julia-1.4"
  },
  "language_info": {
   "file_extension": ".jl",
   "mimetype": "application/julia",
   "name": "julia",
   "version": "1.4.1"
  }
 },
 "nbformat": 4,
 "nbformat_minor": 5
}
