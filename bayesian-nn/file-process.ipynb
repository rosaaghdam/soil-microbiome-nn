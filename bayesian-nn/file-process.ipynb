{
 "cells": [
  {
   "cell_type": "code",
   "execution_count": 1,
   "id": "4c212b42",
   "metadata": {},
   "outputs": [],
   "source": [
    "using CSV\n",
    "using DataFrames\n",
    "using XLSX\n",
    "using Statistics\n",
    "using Glob"
   ]
  },
  {
   "cell_type": "code",
   "execution_count": 2,
   "id": "c0974fa4",
   "metadata": {},
   "outputs": [
    {
     "data": {
      "text/plain": [
       "process (generic function with 1 method)"
      ]
     },
     "execution_count": 2,
     "metadata": {},
     "output_type": "execute_result"
    }
   ],
   "source": [
    "#=\n",
    "This function removes the unnecessary columns for the input of BNN\n",
    "This function also writes the processed data into its respective CSV file\n",
    "=#\n",
    "function process(otu, res, otu_idx, res_idx, level)\n",
    "    # join the otus and responses by sample ID\n",
    "    data = innerjoin(otu, res, on = :Column1)\n",
    "    # find the total number of columns\n",
    "    col_length = size(data)[2]\n",
    "    # remove the \"variety2\" and real-valued response column\n",
    "    data = data[:, Not((col_length-2):(col_length-1))]\n",
    "    # remove the sample ID\n",
    "    data = data[:, Not(1)]\n",
    "    # write the data to a CSV file with its specified name\n",
    "    mat = Matrix(data)\n",
    "    filename = string(otu_idx, \"_\", res_idx)\n",
    "    CSV.write(\"../processed-data/$level/full-data/$filename.csv\", Tables.table(mat), header=false)\n",
    "end"
   ]
  },
  {
   "cell_type": "code",
   "execution_count": 3,
   "id": "094cf439",
   "metadata": {},
   "outputs": [
    {
     "data": {
      "text/plain": [
       "load (generic function with 1 method)"
      ]
     },
     "execution_count": 3,
     "metadata": {},
     "output_type": "execute_result"
    }
   ],
   "source": [
    "#= \n",
    "This function load the filtered otu and responses \n",
    "=#\n",
    "function load(level)\n",
    "    # load all filtered data in one level folder\n",
    "    otu_path = \"../processed-data/filter-data/$level\"\n",
    "    otu_files = glob(\"*.csv\", otu_path);\n",
    "    otu = DataFrame.(CSV.File.(otu_files));\n",
    "    \n",
    "    # load all responses\n",
    "    response_path = raw\"../processed-data/response\"\n",
    "    response_files = glob(\"*.csv\", response_path)\n",
    "    response = DataFrame.(CSV.File.(response_files));\n",
    "    \n",
    "    # pass them to process and write to new CSVs\n",
    "    for i in 1:length(otu)\n",
    "        for j in 1:length(response)\n",
    "            process(otu[i], response[j], i, j, level)\n",
    "        end\n",
    "    end\n",
    "end"
   ]
  },
  {
   "cell_type": "code",
   "execution_count": 4,
   "id": "90e94052",
   "metadata": {},
   "outputs": [],
   "source": [
    "load(\"Phylum\")"
   ]
  }
 ],
 "metadata": {
  "kernelspec": {
   "display_name": "Julia 1.4.1",
   "language": "julia",
   "name": "julia-1.4"
  },
  "language_info": {
   "file_extension": ".jl",
   "mimetype": "application/julia",
   "name": "julia",
   "version": "1.4.1"
  }
 },
 "nbformat": 4,
 "nbformat_minor": 5
}
