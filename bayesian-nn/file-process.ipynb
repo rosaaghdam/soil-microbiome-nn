{
 "cells": [
  {
   "cell_type": "code",
   "execution_count": 3,
   "id": "4c212b42",
   "metadata": {},
   "outputs": [
    {
     "name": "stderr",
     "output_type": "stream",
     "text": [
      "┌ Info: Precompiling Glob [c27321d9-0574-5035-807b-f59d2c89b15c]\n",
      "└ @ Base loading.jl:1260\n"
     ]
    }
   ],
   "source": [
    "using CSV\n",
    "using DataFrames\n",
    "using XLSX\n",
    "using Statistics\n",
    "using Glob"
   ]
  },
  {
   "cell_type": "code",
   "execution_count": 11,
   "id": "18f07017",
   "metadata": {},
   "outputs": [],
   "source": [
    "otu_path = raw\"../processed-data/filter-data/Phylum\"\n",
    "otu_files = glob(\"*.csv\", otu_path);\n",
    "otu = DataFrame.(CSV.File.(otu_files));"
   ]
  },
  {
   "cell_type": "code",
   "execution_count": 14,
   "id": "90e94052",
   "metadata": {},
   "outputs": [],
   "source": [
    "response_path = raw\"../processed-data/response\"\n",
    "response_files = glob(\"*.csv\", response_path)\n",
    "response = DataFrame.(CSV.File.(response_files));"
   ]
  },
  {
   "cell_type": "code",
   "execution_count": 25,
   "id": "ad08c6df",
   "metadata": {},
   "outputs": [
    {
     "data": {
      "text/plain": [
       "process (generic function with 1 method)"
      ]
     },
     "execution_count": 25,
     "metadata": {},
     "output_type": "execute_result"
    }
   ],
   "source": [
    "function process(otu, res, otu_idx, res_idx)\n",
    "    data = innerjoin(otu, res, on = :Column1)\n",
    "    col_length = size(data)[2]\n",
    "    data = data[:, Not((col_length-2):(col_length-1))]\n",
    "    data = data[:, Not(1)]\n",
    "    mat = Matrix(data)\n",
    "    filename = string(otu_idx, \"_\", res_idx)\n",
    "    CSV.write(\"../processed-data/Phylum-cat/$filename.csv\", Tables.table(mat), header=false)\n",
    "end"
   ]
  },
  {
   "cell_type": "code",
   "execution_count": 29,
   "id": "efd53134",
   "metadata": {},
   "outputs": [],
   "source": [
    "for i in 1:length(otu)\n",
    "    for j in 1:length(response)\n",
    "        process(otu[i], response[j], i, j)\n",
    "    end\n",
    "end"
   ]
  }
 ],
 "metadata": {
  "kernelspec": {
   "display_name": "Julia 1.4.1",
   "language": "julia",
   "name": "julia-1.4"
  },
  "language_info": {
   "file_extension": ".jl",
   "mimetype": "application/julia",
   "name": "julia",
   "version": "1.4.1"
  }
 },
 "nbformat": 4,
 "nbformat_minor": 5
}
