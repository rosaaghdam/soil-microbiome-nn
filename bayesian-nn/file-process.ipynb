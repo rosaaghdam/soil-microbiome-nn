{
 "cells": [
  {
   "cell_type": "code",
   "execution_count": 1,
   "id": "4c212b42",
   "metadata": {},
   "outputs": [],
   "source": [
    "using CSV\n",
    "using DataFrames\n",
    "using XLSX\n",
    "using Statistics"
   ]
  },
  {
   "cell_type": "code",
   "execution_count": 34,
   "id": "efd53134",
   "metadata": {},
   "outputs": [],
   "source": [
    "P1_1 = CSV.read(\"../processed-data/Phylum/1 _ 1 .csv\", DataFrame)\n",
    "P1_2 = CSV.read(\"../processed-data/Phylum/4 _ 4 .csv\", DataFrame)\n",
    "#P1_3 = CSV.read(\"../processed-data/Phylum/1 _ 3 .csv\", DataFrame)\n",
    "#P1_4 = CSV.read(\"../processed-data/Phylum/1 _ 4 .csv\", DataFrame);"
   ]
  },
  {
   "cell_type": "code",
   "execution_count": 35,
   "id": "a2392ee8",
   "metadata": {},
   "outputs": [],
   "source": [
    "responese = CSV.read(\"../processed-data/no_tuber_scabpit.csv\", DataFrame)\n",
    "P1_1 = innerjoin(P1_1, responese, on = :Column1)\n",
    "P1_2 = innerjoin(P1_2, responese, on = :Column1)\n",
    "#P1_3 = innerjoin(P1_3, responese, on = :Column1)\n",
    "#P1_4 = innerjoin(P1_4, responese, on = :Column1);"
   ]
  },
  {
   "cell_type": "code",
   "execution_count": 36,
   "id": "c079f33b",
   "metadata": {},
   "outputs": [],
   "source": [
    "P1_1 = P1_1[:, Not(44:45)]\n",
    "P1_1 = P1_1[:, 2:44];"
   ]
  },
  {
   "cell_type": "code",
   "execution_count": 37,
   "id": "4055710f",
   "metadata": {},
   "outputs": [],
   "source": [
    "P1_2 = P1_2[:, Not(44:45)]\n",
    "P1_2 = P1_2[:, 2:44];"
   ]
  },
  {
   "cell_type": "code",
   "execution_count": 6,
   "id": "71e0953b",
   "metadata": {},
   "outputs": [],
   "source": [
    "#P1_3 = P1_3[:, Not(44:45)]\n",
    "#P1_3 = P1_3[:, 2:44];"
   ]
  },
  {
   "cell_type": "code",
   "execution_count": 7,
   "id": "73ff88d5",
   "metadata": {},
   "outputs": [],
   "source": [
    "#P1_4 = P1_4[:, Not(44:45)]\n",
    "#P1_4 = P1_4[:, 2:44];"
   ]
  },
  {
   "cell_type": "code",
   "execution_count": 38,
   "id": "46d77827",
   "metadata": {},
   "outputs": [],
   "source": [
    "a = Matrix(P1_1)\n",
    "b = Matrix(P1_2)\n",
    "#c = Matrix(P1_3)\n",
    "#d = Matrix(P1_4);"
   ]
  },
  {
   "cell_type": "code",
   "execution_count": 39,
   "id": "1c2de81e",
   "metadata": {},
   "outputs": [
    {
     "data": {
      "text/plain": [
       "\"../processed-data/P4_4SP.csv\""
      ]
     },
     "execution_count": 39,
     "metadata": {},
     "output_type": "execute_result"
    }
   ],
   "source": [
    "CSV.write(\"../processed-data/P1_1SP.csv\",  Tables.table(a), writeheader=false)\n",
    "CSV.write(\"../processed-data/P4_4SP.csv\",  Tables.table(b), writeheader=false)\n",
    "#CSV.write(\"../processed-data/P1_3.csv\",  Tables.table(c), writeheader=false)\n",
    "#CSV.write(\"../processed-data/P1_4.csv\",  Tables.table(d), writeheader=false)"
   ]
  },
  {
   "cell_type": "code",
   "execution_count": 40,
   "id": "410fa3d5",
   "metadata": {},
   "outputs": [
    {
     "data": {
      "text/plain": [
       "2-element Vector{Tuple{Int64, Int64}}:\n",
       " (1, 63)\n",
       " (0, 108)"
      ]
     },
     "execution_count": 40,
     "metadata": {},
     "output_type": "execute_result"
    }
   ],
   "source": [
    "a = CSV.read(\"../processed-data/P1_1SP.csv\", DataFrame)\n",
    "b = CSV.read(\"../processed-data/P4_4SP.csv\", DataFrame)\n",
    "percentage = [(i, count(==(i), a[1:171,43])) for i in unique(a[1:171,43])]"
   ]
  },
  {
   "cell_type": "code",
   "execution_count": 41,
   "id": "0828828e",
   "metadata": {},
   "outputs": [],
   "source": [
    "m = Matrix(a)\n",
    "n = Matrix(b);"
   ]
  },
  {
   "cell_type": "code",
   "execution_count": 42,
   "id": "c96268aa",
   "metadata": {},
   "outputs": [
    {
     "data": {
      "text/plain": [
       "\"../processed-data/P4_4SP.csv\""
      ]
     },
     "execution_count": 42,
     "metadata": {},
     "output_type": "execute_result"
    }
   ],
   "source": [
    "CSV.write(\"../processed-data/P1_1SP.csv\",  Tables.table(m), writeheader=false)\n",
    "CSV.write(\"../processed-data/P4_4SP.csv\",  Tables.table(n), writeheader=false)"
   ]
  }
 ],
 "metadata": {
  "kernelspec": {
   "display_name": "Julia 1.7.3",
   "language": "julia",
   "name": "julia-1.7"
  },
  "language_info": {
   "file_extension": ".jl",
   "mimetype": "application/julia",
   "name": "julia",
   "version": "1.7.3"
  }
 },
 "nbformat": 4,
 "nbformat_minor": 5
}
