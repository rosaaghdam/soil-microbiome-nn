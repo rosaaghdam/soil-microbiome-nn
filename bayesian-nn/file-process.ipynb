{
 "cells": [
  {
   "cell_type": "code",
   "execution_count": 1,
   "id": "4c212b42",
   "metadata": {},
   "outputs": [],
   "source": [
    "using CSV\n",
    "using DataFrames\n",
    "using XLSX\n",
    "using Statistics\n",
    "using Glob"
   ]
  },
  {
   "cell_type": "markdown",
   "id": "afe83b9b",
   "metadata": {},
   "source": [
    "# Generic Helper Function"
   ]
  },
  {
   "cell_type": "code",
   "execution_count": 2,
   "id": "2f2aa536",
   "metadata": {},
   "outputs": [
    {
     "data": {
      "text/plain": [
       "load_response (generic function with 1 method)"
      ]
     },
     "execution_count": 2,
     "metadata": {},
     "output_type": "execute_result"
    }
   ],
   "source": [
    "function load_response(aug)\n",
    "    response_path = \"../processed-data/response/$aug/\"\n",
    "    response_files = glob(\"*.csv\", response_path)\n",
    "    response = DataFrame.(CSV.File.(response_files));\n",
    "    return response\n",
    "end"
   ]
  },
  {
   "cell_type": "code",
   "execution_count": 3,
   "id": "fdc9cb49",
   "metadata": {},
   "outputs": [
    {
     "data": {
      "text/plain": [
       "load_generic_data (generic function with 1 method)"
      ]
     },
     "execution_count": 3,
     "metadata": {},
     "output_type": "execute_result"
    }
   ],
   "source": [
    "function load_generic_data(data, level)\n",
    "    if level != \"null\"\n",
    "        path = \"../processed-data/$data/original/$level\"\n",
    "    else\n",
    "        path = \"../processed-data/$data/original\"\n",
    "    end\n",
    "    files = glob(\"*.csv\", path);\n",
    "    data = DataFrame.(CSV.File.(files))\n",
    "    return data\n",
    "end"
   ]
  },
  {
   "cell_type": "code",
   "execution_count": 4,
   "id": "6c2a5f61",
   "metadata": {},
   "outputs": [
    {
     "data": {
      "text/plain": [
       "drop_miss (generic function with 1 method)"
      ]
     },
     "execution_count": 4,
     "metadata": {},
     "output_type": "execute_result"
    }
   ],
   "source": [
    "function drop_miss(file) \n",
    "    file = file[completecases(file), :]\n",
    "    file = file[:, Not(1)]\n",
    "    rename!(file,:Link_ID => :Column1)\n",
    "    return file\n",
    "end"
   ]
  },
  {
   "cell_type": "code",
   "execution_count": 5,
   "id": "608eed03",
   "metadata": {},
   "outputs": [
    {
     "data": {
      "text/plain": [
       "select_otu (generic function with 1 method)"
      ]
     },
     "execution_count": 5,
     "metadata": {},
     "output_type": "execute_result"
    }
   ],
   "source": [
    "function select_otu(otu, res, res_idx, level, feature_sel, score)\n",
    "    if res_idx == 1\n",
    "        selected_feature = filter(row -> !(row.B != score), feature_sel)\n",
    "    elseif res_idx == 2\n",
    "        selected_feature = filter(row -> !(row.C != score), feature_sel)\n",
    "    elseif res_idx  == 3\n",
    "        selected_feature = filter(row -> !(row.D != score), feature_sel)\n",
    "    elseif res_idx == 4\n",
    "        selected_feature = filter(row -> !(row.E != score), feature_sel)\n",
    "    elseif res_idx == 5\n",
    "        selected_feature = filter(row -> !(row.F != score), feature_sel)\n",
    "    else\n",
    "        selected_feature = filter(row -> !(row.G != score), feature_sel)\n",
    "    end\n",
    "   \n",
    "    if score == 0 \n",
    "        if res_idx == 1\n",
    "            three_score = filter(row -> !(row.B != 3), feature_sel)\n",
    "        elseif res_idx == 2\n",
    "            three_score = filter(row -> !(row.C != 3), feature_sel)\n",
    "        elseif res_idx  == 3\n",
    "            three_score = filter(row -> !(row.D != 3), feature_sel)\n",
    "        elseif res_idx == 4\n",
    "            three_score = filter(row -> !(row.E != 3), feature_sel)\n",
    "        elseif res_idx == 5\n",
    "            three_score = filter(row -> !(row.F != 3), feature_sel)\n",
    "        else\n",
    "            three_score = filter(row -> !(row.G != 3), feature_sel)\n",
    "        end\n",
    "        three_num = size(three_score)[1]\n",
    "        if three_num <= size(selected_feature)[1]\n",
    "            feature_name = selected_feature[1:three_num, 1]\n",
    "        else\n",
    "            feature_name = selected_feature[:, 1]\n",
    "        end\n",
    "    else\n",
    "        feature_name = selected_feature[:, 1]\n",
    "    end\n",
    "    \n",
    "    \n",
    "    ###################################################################################\n",
    "    # WARNING: VERY WERID FEATURE NAME CHANGE, WILL REMOVE AFTER ADDRESSING THE ISSUE #\n",
    "    ###################################################################################\n",
    "    for i in 1:length(feature_name)\n",
    "        if feature_name[i][1] == 'X' && (Int(feature_name[i][2]) in 46:57)\n",
    "            feature_name[i] = replace(feature_name[i], \"X\" => \"\")\n",
    "        end\n",
    "    end\n",
    "    ####################################################################################\n",
    "    \n",
    "    id = otu[:, 1]\n",
    "    otu = otu[:, feature_name]\n",
    "    otu = convert.(Float64, otu)\n",
    "    otu = normalize(otu)\n",
    "    otu = hcat(id, otu)\n",
    "    rename!(otu,:x1 => :Column1)\n",
    "    return otu\n",
    "end"
   ]
  },
  {
   "cell_type": "code",
   "execution_count": 6,
   "id": "338246b4",
   "metadata": {},
   "outputs": [
    {
     "data": {
      "text/plain": [
       "normalize (generic function with 1 method)"
      ]
     },
     "execution_count": 6,
     "metadata": {},
     "output_type": "execute_result"
    }
   ],
   "source": [
    "function normalize(otu) \n",
    "    for i in 1:size(otu)[1]\n",
    "        row_sum = sum(otu[i,:])\n",
    "        for j in 1:size(otu)[2]\n",
    "            convert(Float64, otu[i, j])\n",
    "            if row_sum == 0\n",
    "                otu[i,j] = 0\n",
    "            else\n",
    "                otu[i,j] = otu[i,j] / row_sum\n",
    "            end\n",
    "        end\n",
    "    end\n",
    "    return otu\n",
    "end"
   ]
  },
  {
   "cell_type": "code",
   "execution_count": 7,
   "id": "c7b39506",
   "metadata": {},
   "outputs": [
    {
     "data": {
      "text/plain": [
       "restruct_data (generic function with 1 method)"
      ]
     },
     "execution_count": 7,
     "metadata": {},
     "output_type": "execute_result"
    }
   ],
   "source": [
    "function restruct_data(level)\n",
    "    data = CSV.read(\"../raw-data/Y1_F_$level.csv\", DataFrame)\n",
    "    data = data[data[:,2] .!= \"NA\", :]\n",
    "    nrow = size(data)[1]\n",
    "    ###################################################################################\n",
    "    # WARNING: VERY WERID FEATURE NAME CHANGE, WILL REMOVE AFTER ADDRESSING THE ISSUE #\n",
    "    ###################################################################################\n",
    "    for i in 1:nrow\n",
    "        data[i,2] = replace(data[i,2], \"-\" => \".\")\n",
    "        data[i,2] = replace(data[i,2], \" \" => \".\")\n",
    "        data[i,2] = replace(data[i,2], \"(\" => \".\")\n",
    "        data[i,2] = replace(data[i,2], \")\" => \".\")\n",
    "        data[i,2] = replace(data[i,2], \"/\" => \".\")\n",
    "        data[i,2] = replace(data[i,2], \"[\" => \".\")\n",
    "        data[i,2] = replace(data[i,2], \"]\" => \".\")\n",
    "    end\n",
    "    ####################################################################################\n",
    "    ncol = size(data)[2]\n",
    "    df = data[:, 3:ncol]\n",
    "    colnames = names(df)\n",
    "    df[!, :id] = data[:,2]\n",
    "    df1 = stack(df, colnames)\n",
    "    df_new = unstack(df1, :variable, :id, :value)\n",
    "    data = rename!(df_new, :variable => :Column1)\n",
    "    data = data[completecases(data), :]\n",
    "    return data\n",
    "end"
   ]
  },
  {
   "cell_type": "code",
   "execution_count": 8,
   "id": "d095c3d9",
   "metadata": {},
   "outputs": [
    {
     "data": {
      "text/plain": [
       "aug_norm (generic function with 1 method)"
      ]
     },
     "execution_count": 8,
     "metadata": {},
     "output_type": "execute_result"
    }
   ],
   "source": [
    "function aug_norm(otu)\n",
    "    id = otu[:, 1]\n",
    "    otu = otu[:, Not(1)]\n",
    "    otu = convert.(Float64, otu)\n",
    "    otu = normalize(otu)\n",
    "    otu = hcat(id, otu)\n",
    "    rename!(otu,:x1 => :Column1)\n",
    "    return otu\n",
    "end"
   ]
  },
  {
   "cell_type": "markdown",
   "id": "3c103fc8",
   "metadata": {},
   "source": [
    "# Augmented OTU"
   ]
  },
  {
   "cell_type": "code",
   "execution_count": 11,
   "id": "f43810d5",
   "metadata": {},
   "outputs": [
    {
     "data": {
      "text/plain": [
       "load_augment_otu (generic function with 1 method)"
      ]
     },
     "execution_count": 11,
     "metadata": {},
     "output_type": "execute_result"
    }
   ],
   "source": [
    "function load_augment_otu(level, response, res_idx)\n",
    "    otu_path = \"../processed-data/all_otu_augmented/original/$level\"\n",
    "    otu_files = glob(\"*.csv\", otu_path)\n",
    "    otu = DataFrame.(CSV.File.(otu_files));\n",
    "    \n",
    "    response = CSV.read(\"../processed-data/all_otu_augmented/response/$response.csv\", DataFrame)\n",
    "    for i in 1:length(otu)\n",
    "        process_augment_otu(level, otu[i], response, i, res_idx)\n",
    "    end\n",
    "end"
   ]
  },
  {
   "cell_type": "code",
   "execution_count": 10,
   "id": "37293709",
   "metadata": {},
   "outputs": [
    {
     "data": {
      "text/plain": [
       "process_augment_otu (generic function with 1 method)"
      ]
     },
     "execution_count": 10,
     "metadata": {},
     "output_type": "execute_result"
    }
   ],
   "source": [
    "function process_augment_otu(level, otu, res, norm_idx, res_idx)\n",
    "    train_res = res[1:800, :]\n",
    "    test_res = res[800:size(res)[1], :]\n",
    "    \n",
    "    train_data = innerjoin(otu, train_res, on = :Column1)\n",
    "    test_data = innerjoin(otu, test_res, on = :Column1)\n",
    "    \n",
    "    # remove the sample ID\n",
    "    train_data = train_data[:, Not(1)]\n",
    "    test_data = test_data[:, Not(1)]\n",
    "    \n",
    "    # write the data to a CSV file with its specified name\n",
    "    train_mat = Matrix(train_data)\n",
    "    test_data = Matrix(test_data)\n",
    "    \n",
    "    filename1 = string(norm_idx, \"_\", res_idx, \"_\", \"train\")\n",
    "    filename2 = string(norm_idx, \"_\", res_idx, \"_\", \"test\")\n",
    "    CSV.write(\"../processed-data/all_otu_augmented/$level/$filename1.csv\", Tables.table(train_mat), header=false)\n",
    "    CSV.write(\"../processed-data/all_otu_augmented/$level/$filename2.csv\", Tables.table(test_data), header=false)\n",
    "end"
   ]
  },
  {
   "cell_type": "code",
   "execution_count": 12,
   "id": "f777876a",
   "metadata": {},
   "outputs": [
    {
     "data": {
      "text/plain": [
       "get_aug_train (generic function with 1 method)"
      ]
     },
     "execution_count": 12,
     "metadata": {},
     "output_type": "execute_result"
    }
   ],
   "source": [
    "function get_aug_train(level, response, response_num)\n",
    "    filename = string(level, \"_test\")\n",
    "    data = CSV.read(\"../processed-data/all_otu_original/$response/train-test-split/$filename.csv\", DataFrame)\n",
    "    #=\n",
    "    label = data[:, size(data)[2]]\n",
    "    data = data[:, Not(size(data)[2])]\n",
    "    data = aug_norm(data)\n",
    "    CSV.write(\"../processed-data/tmp/$filename.csv\", data)\n",
    "    =#\n",
    "    \n",
    "    data = data[:, Not(1)]\n",
    "    label = data[:, size(data)[2]]\n",
    "    data = data[:, Not(size(data)[2])]\n",
    "    data = convert.(Float64, data)\n",
    "    data = normalize(data)\n",
    "    data = hcat(data, label)\n",
    "    mat = Matrix(data)\n",
    "    filename = string(1, \"_\", response_num, \"_test\")\n",
    "    CSV.write(\"../processed-data/all_otu_augmented/$level/$filename.csv\", Tables.table(mat), header=false)\n",
    "    \n",
    "end"
   ]
  },
  {
   "cell_type": "markdown",
   "id": "1d9c23ec",
   "metadata": {},
   "source": [
    "# selected OTU\n",
    "Read all raw OTU counts -> restruct it -> select features by Rosa's selection table -> normalize by row sum."
   ]
  },
  {
   "cell_type": "code",
   "execution_count": 24,
   "id": "c0974fa4",
   "metadata": {},
   "outputs": [
    {
     "data": {
      "text/plain": [
       "process (generic function with 1 method)"
      ]
     },
     "execution_count": 24,
     "metadata": {},
     "output_type": "execute_result"
    }
   ],
   "source": [
    "function process(otu, res, res_idx, level, feature_sel, score)\n",
    "    otu = select_otu(otu, res, res_idx, level, feature_sel, score)\n",
    "\n",
    "    # join the otus and responses by sample ID\n",
    "    data = innerjoin(otu, res, on = :Column1)\n",
    "\n",
    "    # remove the sample ID\n",
    "    data = data[:, Not(1)]\n",
    "    # write the data to a CSV file with its specified name\n",
    "    mat = Matrix(data)\n",
    "    filename = string(1, \"_\", res_idx)\n",
    "    CSV.write(\"../processed-data/otu_selection/$score/$level/full-data/$filename.csv\", Tables.table(mat), header=false)\n",
    "end"
   ]
  },
  {
   "cell_type": "code",
   "execution_count": 25,
   "id": "094cf439",
   "metadata": {},
   "outputs": [
    {
     "data": {
      "text/plain": [
       "load_otu (generic function with 1 method)"
      ]
     },
     "execution_count": 25,
     "metadata": {},
     "output_type": "execute_result"
    }
   ],
   "source": [
    "function load_otu(level, score)\n",
    "    # load important feature table\n",
    "    feature_selection = DataFrame(XLSX.readtable(\"../processed-data/otu_selection/important_features_score.xlsx\"\n",
    "            , \"$level\", \"A:G\", header=false))\n",
    "    \n",
    "    # load raw OTU count data\n",
    "    otu = restruct_data(level)\n",
    "    \n",
    "    # load all responses\n",
    "    response = load_response(\"non_augmented\")\n",
    "    \n",
    "    # pass them to process and write to new CSVs\n",
    "  \n",
    "    for j in 1:length(response)\n",
    "        process(otu, response[j], j, level, feature_selection, score)\n",
    "    end\n",
    "end"
   ]
  },
  {
   "cell_type": "markdown",
   "id": "8db834ef",
   "metadata": {},
   "source": [
    "# All OTU -> augmented & non-augmented\n",
    "load all filtered normalizaed OTU by Rosa -> join with response -> save"
   ]
  },
  {
   "cell_type": "code",
   "execution_count": 26,
   "id": "c959c337",
   "metadata": {},
   "outputs": [
    {
     "data": {
      "text/plain": [
       "load_all_OTU (generic function with 1 method)"
      ]
     },
     "execution_count": 26,
     "metadata": {},
     "output_type": "execute_result"
    }
   ],
   "source": [
    "function load_all_OTU(level, aug)\n",
    "    if aug == \"augmented\"\n",
    "        otu_path = \"../processed-data/all_otu_augmented/original/$level\"\n",
    "    else\n",
    "        otu_path = \"../processed-data/all_otu_non_augmented/original/$level\"\n",
    "    end\n",
    "    \n",
    "    otu_files = glob(\"*.csv\", otu_path)\n",
    "    otu = DataFrame.(CSV.File.(otu_files))\n",
    "\n",
    "    response = load_response(aug)\n",
    "\n",
    "    for i in 1:length(otu)\n",
    "        for j in 1:length(response)\n",
    "            process_all_otu(otu[i], response[j], i, j, level, aug)\n",
    "        end\n",
    "    end\n",
    "end"
   ]
  },
  {
   "cell_type": "code",
   "execution_count": 27,
   "id": "fc64087d",
   "metadata": {},
   "outputs": [
    {
     "data": {
      "text/plain": [
       "process_all_otu (generic function with 1 method)"
      ]
     },
     "execution_count": 27,
     "metadata": {},
     "output_type": "execute_result"
    }
   ],
   "source": [
    "function process_all_otu(otu, res, otu_idx, res_idx, level, aug)\n",
    "    # join the otus and responses by sample ID\n",
    "    data = innerjoin(otu, res, on = :Column1)\n",
    "    # remove the sample ID\n",
    "    data = data[:, Not(1)]\n",
    "    # write the data to a CSV file with its specified name\n",
    "    mat = Matrix(data)\n",
    "    filename = string(otu_idx, \"_\", res_idx)\n",
    "    if aug == \"augmented\"\n",
    "        CSV.write(\"../processed-data/all_otu_augmented/$level/full-data/$filename.csv\", Tables.table(mat), header=false)\n",
    "    else\n",
    "        CSV.write(\"../processed-data/all_otu_non_augmented/$level/full-data/$filename.csv\", Tables.table(mat), header=false)\n",
    "    end\n",
    "end"
   ]
  },
  {
   "cell_type": "markdown",
   "id": "c8f9f5e0",
   "metadata": {},
   "source": [
    "# All alpha diversity indices\n",
    "load all 5 levels of alpha diversity indices with 7 scaling methods -> join with response -> write to CSV"
   ]
  },
  {
   "cell_type": "code",
   "execution_count": 28,
   "id": "9dfb11b9",
   "metadata": {},
   "outputs": [
    {
     "data": {
      "text/plain": [
       "alpha_process (generic function with 1 method)"
      ]
     },
     "execution_count": 28,
     "metadata": {},
     "output_type": "execute_result"
    }
   ],
   "source": [
    "function alpha_process(alpha, res, alpha_idx, res_idx, level)\n",
    "    alpha = drop_miss(alpha)\n",
    "    \n",
    "    # join the alphas and responses by sample ID\n",
    "    data = innerjoin(alpha, res, on = :Column1)\n",
    "    # remove the sample ID\n",
    "    data = data[:, Not(1)]\n",
    "    # write the data to a CSV file with its specified name\n",
    "    mat = Matrix(data)\n",
    "    filename = string(alpha_idx, \"_\", res_idx)\n",
    "    CSV.write(\"../processed-data/alpha_index_data/$level/full-data/$filename.csv\",\n",
    "        Tables.table(mat), header=false)\n",
    "end"
   ]
  },
  {
   "cell_type": "code",
   "execution_count": 29,
   "id": "80798b6e",
   "metadata": {},
   "outputs": [
    {
     "data": {
      "text/plain": [
       "load_alpha (generic function with 1 method)"
      ]
     },
     "execution_count": 29,
     "metadata": {},
     "output_type": "execute_result"
    }
   ],
   "source": [
    "function load_alpha(level)\n",
    "    alpha = load_generic_data(\"alpha_index_data\", level)\n",
    "    \n",
    "    # load all responses\n",
    "    response = load_response(\"non_augmented\")\n",
    "    \n",
    "     # pass them to process and write to new CSVs\n",
    "    for i in 1:length(alpha)\n",
    "        for j in 1:length(response)\n",
    "            alpha_process(alpha[i], response[j], i, j, level)\n",
    "        end\n",
    "    end\n",
    "end"
   ]
  },
  {
   "cell_type": "markdown",
   "id": "f469560c",
   "metadata": {},
   "source": [
    "# Soil Chemistry & disease suppression\n",
    "load soil chemistry and disease suppression with 6 scaling methods -> join with responses -> write to CSV"
   ]
  },
  {
   "cell_type": "code",
   "execution_count": 30,
   "id": "bb6b6c92",
   "metadata": {},
   "outputs": [
    {
     "data": {
      "text/plain": [
       "other_process (generic function with 1 method)"
      ]
     },
     "execution_count": 30,
     "metadata": {},
     "output_type": "execute_result"
    }
   ],
   "source": [
    "function other_process(file, res, pred_idx, res_idx, pred)\n",
    "    file = drop_miss(file)\n",
    "    \n",
    "    # join the alphas and responses by sample ID\n",
    "    data = innerjoin(file, res, on = :Column1)\n",
    "    # remove the sample ID\n",
    "    data = data[:, Not(1)]\n",
    "    # write the data to a CSV file with its specified name\n",
    "    mat = Matrix(data)\n",
    "    filename = string(pred_idx, \"_\", res_idx)\n",
    "    CSV.write(\"../processed-data/$pred/full-data/$filename.csv\",\n",
    "        Tables.table(mat), header=false)\n",
    "end"
   ]
  },
  {
   "cell_type": "code",
   "execution_count": 31,
   "id": "7b881f9b",
   "metadata": {},
   "outputs": [
    {
     "data": {
      "text/plain": [
       "load_other (generic function with 1 method)"
      ]
     },
     "execution_count": 31,
     "metadata": {},
     "output_type": "execute_result"
    }
   ],
   "source": [
    "function load_other(pred)\n",
    "    data = load_generic_data(pred, \"null\")\n",
    "    \n",
    "    # load all responses\n",
    "    response = load_response(\"non_augmented\")\n",
    "    \n",
    "     # pass them to process and write to new CSVs\n",
    "    for i in 1:length(data)\n",
    "        for j in 1:length(response)\n",
    "            other_process(data[i], response[j], i, j, pred)\n",
    "        end\n",
    "    end\n",
    "end"
   ]
  },
  {
   "cell_type": "markdown",
   "id": "b0e888b1",
   "metadata": {},
   "source": [
    "# Soil Chemistry + Disease Suppression"
   ]
  },
  {
   "cell_type": "code",
   "execution_count": 32,
   "id": "637440a5",
   "metadata": {},
   "outputs": [
    {
     "data": {
      "text/plain": [
       "load_soil_disease (generic function with 1 method)"
      ]
     },
     "execution_count": 32,
     "metadata": {},
     "output_type": "execute_result"
    }
   ],
   "source": [
    "function load_soil_disease()\n",
    "    data1 = load_generic_data(\"soil_chemistry_data\", \"null\")\n",
    "    data2 = load_generic_data(\"disease_suppression_data\", \"null\")\n",
    "    \n",
    "    response = load_response(\"non_augmented\")\n",
    "    \n",
    "     # pass them to process and write to new CSVs\n",
    "    for i in 1:length(data1)\n",
    "        for j in 1:length(response)\n",
    "            process_soil_disease(data1[i], data2[i], response[j], i, j)\n",
    "        end\n",
    "    end\n",
    "end"
   ]
  },
  {
   "cell_type": "code",
   "execution_count": 33,
   "id": "e5679dcc",
   "metadata": {},
   "outputs": [
    {
     "data": {
      "text/plain": [
       "process_soil_disease (generic function with 1 method)"
      ]
     },
     "execution_count": 33,
     "metadata": {},
     "output_type": "execute_result"
    }
   ],
   "source": [
    "function process_soil_disease(file1, file2, res, pred_idx, res_idx)\n",
    "    file1 = drop_miss(file1)\n",
    "    file2 = drop_miss(file2)\n",
    "    \n",
    "    # join the alphas and responses by sample ID\n",
    "    data = innerjoin(file1, file2, res, on = :Column1)\n",
    "    # remove the sample ID\n",
    "    data = data[:, Not(1)]\n",
    "    # write the data to a CSV file with its specified name\n",
    "    mat = Matrix(data)\n",
    "    filename = string(pred_idx, \"_\", res_idx)\n",
    "    CSV.write(\"../processed-data/soil_disease/full-data/$filename.csv\",\n",
    "        Tables.table(mat), header=false)\n",
    "end"
   ]
  },
  {
   "cell_type": "markdown",
   "id": "490da7db",
   "metadata": {},
   "source": [
    "# Alpha Diversity Indices + Soil Chemistry"
   ]
  },
  {
   "cell_type": "code",
   "execution_count": 34,
   "id": "8bcecc22",
   "metadata": {},
   "outputs": [
    {
     "data": {
      "text/plain": [
       "load_alpha_soil (generic function with 1 method)"
      ]
     },
     "execution_count": 34,
     "metadata": {},
     "output_type": "execute_result"
    }
   ],
   "source": [
    "function load_alpha_soil(level)\n",
    "    alpha = load_generic_data(\"alpha_index_data\", level);\n",
    "    data = load_generic_data(\"soil_chemistry_data\", \"null\")\n",
    "    \n",
    "    # load all responses\n",
    "    response = load_response(\"non_augmented\")\n",
    "    \n",
    "     # pass them to process and write to new CSVs\n",
    "    for i in 1:length(data)\n",
    "        for j in 1:length(response)\n",
    "            process_alpha_soil(alpha[i],data[i], response[j], i, j, level)\n",
    "        end\n",
    "    end\n",
    "end"
   ]
  },
  {
   "cell_type": "code",
   "execution_count": 35,
   "id": "bab2cdc6",
   "metadata": {},
   "outputs": [
    {
     "data": {
      "text/plain": [
       "process_alpha_soil (generic function with 1 method)"
      ]
     },
     "execution_count": 35,
     "metadata": {},
     "output_type": "execute_result"
    }
   ],
   "source": [
    "function process_alpha_soil(alpha, file, res, pred_idx, res_idx, level)\n",
    "    alpha = drop_miss(alpha)\n",
    "    file = drop_miss(file)\n",
    "    \n",
    "    data = innerjoin(alpha, file, res, on = :Column1)\n",
    "    data = data[:, Not(1)]\n",
    "   \n",
    "    mat = Matrix(data)\n",
    "    filename = string(pred_idx, \"_\", res_idx)\n",
    "    CSV.write(\"../processed-data/alpha_soil/$level/full-data/$filename.csv\",\n",
    "        Tables.table(mat), header=false)\n",
    "\n",
    "end"
   ]
  },
  {
   "cell_type": "markdown",
   "id": "2d760621",
   "metadata": {},
   "source": [
    "# Alpha Diversity Indices + Soil Chemistry + Disease Suppression"
   ]
  },
  {
   "cell_type": "code",
   "execution_count": 36,
   "id": "374c26af",
   "metadata": {},
   "outputs": [
    {
     "data": {
      "text/plain": [
       "load_alpha_soil_disease (generic function with 1 method)"
      ]
     },
     "execution_count": 36,
     "metadata": {},
     "output_type": "execute_result"
    }
   ],
   "source": [
    "function load_alpha_soil_disease(level)\n",
    "    alpha = load_generic_data(\"alpha_index_data\", level);\n",
    "    data1 = load_generic_data(\"soil_chemistry_data\", \"null\")\n",
    "    data2 = load_generic_data(\"disease_suppression_data\", \"null\")\n",
    "    \n",
    "    # load all responses\n",
    "    response = load_response(\"non_augmented\")\n",
    "    \n",
    "     # pass them to process and write to new CSVs\n",
    "    for i in 1:length(data1)\n",
    "        for j in 1:length(response)\n",
    "            process_alpha_soil_disease(alpha[i],data1[i], data2[i], response[j], i, j, level)\n",
    "        end\n",
    "    end\n",
    "end"
   ]
  },
  {
   "cell_type": "code",
   "execution_count": 37,
   "id": "a881cde1",
   "metadata": {},
   "outputs": [
    {
     "data": {
      "text/plain": [
       "process_alpha_soil_disease (generic function with 1 method)"
      ]
     },
     "execution_count": 37,
     "metadata": {},
     "output_type": "execute_result"
    }
   ],
   "source": [
    "function process_alpha_soil_disease(alpha, file1, file2, res, pred_idx, res_idx, level)\n",
    "    alpha = drop_miss(alpha)\n",
    "    file1 = drop_miss(file1)\n",
    "    file2 = drop_miss(file2)\n",
    "    \n",
    "    data = innerjoin(alpha, file1, file2, res, on = :Column1)\n",
    "    data = data[:, Not(1)]\n",
    "   \n",
    "    mat = Matrix(data)\n",
    "    filename = string(pred_idx, \"_\", res_idx)\n",
    "    CSV.write(\"../processed-data/alpha_soil_disease/$level/full-data/$filename.csv\",\n",
    "        Tables.table(mat), header=false)\n",
    "\n",
    "end"
   ]
  },
  {
   "cell_type": "markdown",
   "id": "0420ce4e",
   "metadata": {},
   "source": [
    "# OTU-Score=3 + Soil & OTU-Score=3 + disease"
   ]
  },
  {
   "cell_type": "code",
   "execution_count": 38,
   "id": "bd70be72",
   "metadata": {},
   "outputs": [
    {
     "data": {
      "text/plain": [
       "load_otu_other (generic function with 1 method)"
      ]
     },
     "execution_count": 38,
     "metadata": {},
     "output_type": "execute_result"
    }
   ],
   "source": [
    "function load_otu_other(data_name, level)\n",
    "    # load important feature table\n",
    "    feature_selection = DataFrame(XLSX.readtable(\"../processed-data/otu_selection/important_features_score.xlsx\"\n",
    "            , \"$level\", \"A:G\", header=false))\n",
    "    \n",
    "    # load raw OTU count data\n",
    "    otu = restruct_data(level)\n",
    "    data = load_generic_data(data_name, \"null\")\n",
    "    \n",
    "    # load all responses\n",
    "    response = load_response(\"non_augmented\")\n",
    "    \n",
    "    # pass them to process and write to new CSVs\n",
    "    for i in 1:length(data)\n",
    "        for j in 1:length(response)\n",
    "            otu_other_process(otu, data[i], response[j], i, j, level, feature_selection, data_name)\n",
    "        end\n",
    "    end\n",
    "end"
   ]
  },
  {
   "cell_type": "code",
   "execution_count": 39,
   "id": "853f43e7",
   "metadata": {},
   "outputs": [
    {
     "data": {
      "text/plain": [
       "otu_other_process (generic function with 1 method)"
      ]
     },
     "execution_count": 39,
     "metadata": {},
     "output_type": "execute_result"
    }
   ],
   "source": [
    "function otu_other_process(otu, file, res, pred_idx, res_idx, level, feature_sel, dataName)\n",
    "    otu = select_otu(otu, res, res_idx, level, feature_sel, 3)\n",
    "    file = drop_miss(file)\n",
    "    \n",
    "    # join the otus and responses by sample ID\n",
    "    data = innerjoin(otu, file, res, on = :Column1)\n",
    "\n",
    "    # remove the sample ID\n",
    "    data = data[:, Not(1)]\n",
    "    # write the data to a CSV file with its specified name\n",
    "    mat = Matrix(data)\n",
    "    filename = string(pred_idx, \"_\", res_idx)\n",
    "    if dataName == \"soil_chemistry_data\"\n",
    "        CSV.write(\"../processed-data/otu_soil/$level/full-data/$filename.csv\", Tables.table(mat), header=false)\n",
    "    else\n",
    "        CSV.write(\"../processed-data/otu_disease/$level/full-data/$filename.csv\", Tables.table(mat), header=false)\n",
    "    end\n",
    "end"
   ]
  },
  {
   "cell_type": "markdown",
   "id": "1edccdd3",
   "metadata": {},
   "source": [
    "# OTU-Score=3 + Soil + Disease"
   ]
  },
  {
   "cell_type": "code",
   "execution_count": 40,
   "id": "03af3cc1",
   "metadata": {},
   "outputs": [
    {
     "data": {
      "text/plain": [
       "load_otu_soil_disease (generic function with 1 method)"
      ]
     },
     "execution_count": 40,
     "metadata": {},
     "output_type": "execute_result"
    }
   ],
   "source": [
    "function load_otu_soil_disease(level)\n",
    "    # load important feature table\n",
    "    feature_selection = DataFrame(XLSX.readtable(\"../processed-data/otu_selection/important_features_score.xlsx\"\n",
    "            , \"$level\", \"A:G\", header=false))\n",
    "    \n",
    "    # load raw OTU count data\n",
    "    otu = restruct_data(level)\n",
    "    data1 = load_generic_data(\"soil_chemistry_data\", \"null\")\n",
    "    data2 = load_generic_data(\"disease_suppression_data\", \"null\")\n",
    "    \n",
    "    # load all responses\n",
    "    response = load_response(\"non_augmented\")\n",
    "    \n",
    "    # pass them to process and write to new CSVs\n",
    "    for i in 1:length(data1)\n",
    "        for j in 1:length(response)\n",
    "            combined_process(otu, data1[i], data2[i], response[j], i, j, level, feature_selection)\n",
    "        end\n",
    "    end\n",
    "end"
   ]
  },
  {
   "cell_type": "code",
   "execution_count": 41,
   "id": "bcde6171",
   "metadata": {},
   "outputs": [
    {
     "data": {
      "text/plain": [
       "combined_process (generic function with 1 method)"
      ]
     },
     "execution_count": 41,
     "metadata": {},
     "output_type": "execute_result"
    }
   ],
   "source": [
    "function combined_process(otu, file1, file2, res, pred_idx, res_idx, level, feature_sel)\n",
    "    otu = select_otu(otu, res, res_idx, level, feature_sel, 3)\n",
    "    file1 = drop_miss(file1)\n",
    "    file2 = drop_miss(file2)\n",
    "    \n",
    "    # join the otus and responses by sample ID\n",
    "    data = innerjoin(otu, file1, file2, res, on = :Column1)\n",
    "\n",
    "    # remove the sample ID\n",
    "    data = data[:, Not(1)]\n",
    "    # write the data to a CSV file with its specified name\n",
    "    mat = Matrix(data)\n",
    "    filename = string(pred_idx, \"_\", res_idx)\n",
    "    CSV.write(\"../processed-data/otu_soil_disease/$level/full-data/$filename.csv\", Tables.table(mat), header=false)\n",
    "end"
   ]
  },
  {
   "cell_type": "markdown",
   "id": "5057addd",
   "metadata": {},
   "source": [
    "# All loading function calls:"
   ]
  },
  {
   "cell_type": "code",
   "execution_count": 189,
   "id": "39eeff80",
   "metadata": {},
   "outputs": [
    {
     "name": "stderr",
     "output_type": "stream",
     "text": [
      "┌ Warning: Duplicate entries in unstack at row 58 for key MN_10_1_Y1 and variable Unknown.Family.\n",
      "└ @ DataFrames C:\\Users\\Administrator\\.julia\\packages\\DataFrames\\GtZ1l\\src\\abstractdataframe\\reshape.jl:208\n",
      "┌ Warning: Duplicate entries in unstack at row 58 for key MN_10_1_Y1 and variable Unknown.Family.\n",
      "└ @ DataFrames C:\\Users\\Administrator\\.julia\\packages\\DataFrames\\GtZ1l\\src\\abstractdataframe\\reshape.jl:208\n",
      "┌ Warning: Duplicate entries in unstack at row 58 for key MN_10_1_Y1 and variable Unknown.Family.\n",
      "└ @ DataFrames C:\\Users\\Administrator\\.julia\\packages\\DataFrames\\GtZ1l\\src\\abstractdataframe\\reshape.jl:208\n",
      "┌ Warning: Duplicate entries in unstack at row 58 for key MN_10_1_Y1 and variable Unknown.Family.\n",
      "└ @ DataFrames C:\\Users\\Administrator\\.julia\\packages\\DataFrames\\GtZ1l\\src\\abstractdataframe\\reshape.jl:208\n",
      "┌ Warning: Duplicate entries in unstack at row 1162 for key MN_10_1_Y1 and variable Incertae.Sedis.\n",
      "└ @ DataFrames C:\\Users\\Administrator\\.julia\\packages\\DataFrames\\GtZ1l\\src\\abstractdataframe\\reshape.jl:208\n",
      "┌ Warning: Duplicate entries in unstack at row 1162 for key MN_10_1_Y1 and variable Incertae.Sedis.\n",
      "└ @ DataFrames C:\\Users\\Administrator\\.julia\\packages\\DataFrames\\GtZ1l\\src\\abstractdataframe\\reshape.jl:208\n",
      "┌ Warning: Duplicate entries in unstack at row 1162 for key MN_10_1_Y1 and variable Incertae.Sedis.\n",
      "└ @ DataFrames C:\\Users\\Administrator\\.julia\\packages\\DataFrames\\GtZ1l\\src\\abstractdataframe\\reshape.jl:208\n",
      "┌ Warning: Duplicate entries in unstack at row 1162 for key MN_10_1_Y1 and variable Incertae.Sedis.\n",
      "└ @ DataFrames C:\\Users\\Administrator\\.julia\\packages\\DataFrames\\GtZ1l\\src\\abstractdataframe\\reshape.jl:208\n"
     ]
    }
   ],
   "source": [
    "########################################################################\n",
    "#                         Load OTU selection                           #\n",
    "########################################################################\n",
    "all_level = [\"Phylum\", \"Class\", \"Order\", \"Family\", \"Genus\"]\n",
    "\n",
    "# get all files for OTUs\n",
    "for i in 1:length(all_level)\n",
    "    for j in 0:3\n",
    "        load_otu(all_level[i], j)\n",
    "    end\n",
    "end"
   ]
  },
  {
   "cell_type": "code",
   "execution_count": 223,
   "id": "082111c9",
   "metadata": {},
   "outputs": [
    {
     "name": "stderr",
     "output_type": "stream",
     "text": [
      "┌ Warning: Duplicate entries in unstack at row 58 for key MN_10_1_Y1 and variable Unknown.Family.\n",
      "└ @ DataFrames C:\\Users\\Administrator\\.julia\\packages\\DataFrames\\GtZ1l\\src\\abstractdataframe\\reshape.jl:208\n",
      "┌ Warning: Duplicate entries in unstack at row 1162 for key MN_10_1_Y1 and variable Incertae.Sedis.\n",
      "└ @ DataFrames C:\\Users\\Administrator\\.julia\\packages\\DataFrames\\GtZ1l\\src\\abstractdataframe\\reshape.jl:208\n"
     ]
    }
   ],
   "source": [
    "########################################################################\n",
    "#                            Load Raw OTU                              #\n",
    "########################################################################\n",
    "for i in 1:length(all_level)\n",
    "    load_raw_otu(all_level[i])\n",
    "end"
   ]
  },
  {
   "cell_type": "code",
   "execution_count": 190,
   "id": "5096cfa3",
   "metadata": {},
   "outputs": [],
   "source": [
    "########################################################################\n",
    "#                      Load Alpha Diversity Indices                    #\n",
    "########################################################################\n",
    "for i in 1:length(all_level)\n",
    "    load_alpha(all_level[i])\n",
    "end"
   ]
  },
  {
   "cell_type": "code",
   "execution_count": 191,
   "id": "c4aa49ac",
   "metadata": {},
   "outputs": [],
   "source": [
    "########################################################################\n",
    "#             Load Soil chemistry and disease suppression              #\n",
    "########################################################################\n",
    "load_other(\"soil_chemistry_data\")\n",
    "load_other(\"disease_suppression_data\")"
   ]
  },
  {
   "cell_type": "code",
   "execution_count": 13,
   "id": "22ee3256",
   "metadata": {},
   "outputs": [],
   "source": [
    "########################################################################\n",
    "#           Load Full OTU for both augmented and non_augmented         #\n",
    "########################################################################\n",
    "all_level = [\"Phylum\", \"Class\", \"Order\", \"Family\"]\n",
    "all_res = [\"no_tuber_scab\", \"no_tuber_scabpit\", \"no_tuber_scabsuper\", \"yield_per_meter\", \"yield_per_plant\", \"pctg_black_scurf\"]\n",
    "# get all files for OTUs\n",
    "\n",
    "for i in 1:length(all_level)\n",
    "    load_augment_otu(all_level[i])\n",
    "end\n",
    "\n",
    "for i in 1:length(all_level)\n",
    "    for j in 1:length(all_res)\n",
    "        get_aug_train(all_level[i], all_res[j], j)\n",
    "    end\n",
    "end\n",
    "#=\n",
    "for i in 1:length(all_level)\n",
    "    load_all_OTU(all_level[i], \"non_augmented\")\n",
    "end\n",
    "=#"
   ]
  },
  {
   "cell_type": "code",
   "execution_count": 42,
   "id": "5baa7bca",
   "metadata": {
    "scrolled": true
   },
   "outputs": [
    {
     "name": "stderr",
     "output_type": "stream",
     "text": [
      "┌ Warning: Duplicate entries in unstack at row 58 for key MN_10_1_Y1 and variable Unknown.Family.\n",
      "└ @ DataFrames C:\\Users\\Administrator\\.julia\\packages\\DataFrames\\GtZ1l\\src\\abstractdataframe\\reshape.jl:208\n",
      "┌ Warning: Duplicate entries in unstack at row 58 for key MN_10_1_Y1 and variable Unknown.Family.\n",
      "└ @ DataFrames C:\\Users\\Administrator\\.julia\\packages\\DataFrames\\GtZ1l\\src\\abstractdataframe\\reshape.jl:208\n",
      "┌ Warning: Duplicate entries in unstack at row 58 for key MN_10_1_Y1 and variable Unknown.Family.\n",
      "└ @ DataFrames C:\\Users\\Administrator\\.julia\\packages\\DataFrames\\GtZ1l\\src\\abstractdataframe\\reshape.jl:208\n",
      "┌ Warning: Duplicate entries in unstack at row 1162 for key MN_10_1_Y1 and variable Incertae.Sedis.\n",
      "└ @ DataFrames C:\\Users\\Administrator\\.julia\\packages\\DataFrames\\GtZ1l\\src\\abstractdataframe\\reshape.jl:208\n",
      "┌ Warning: Duplicate entries in unstack at row 1162 for key MN_10_1_Y1 and variable Incertae.Sedis.\n",
      "└ @ DataFrames C:\\Users\\Administrator\\.julia\\packages\\DataFrames\\GtZ1l\\src\\abstractdataframe\\reshape.jl:208\n",
      "┌ Warning: Duplicate entries in unstack at row 1162 for key MN_10_1_Y1 and variable Incertae.Sedis.\n",
      "└ @ DataFrames C:\\Users\\Administrator\\.julia\\packages\\DataFrames\\GtZ1l\\src\\abstractdataframe\\reshape.jl:208\n"
     ]
    }
   ],
   "source": [
    "########################################################################\n",
    "#                         Load combinations                            #\n",
    "########################################################################\n",
    "all_level = [\"Phylum\", \"Class\", \"Order\", \"Family\", \"Genus\"]\n",
    "# soil+disease\n",
    "load_soil_disease()\n",
    "# alpha + soil\n",
    "for i in 1:length(all_level)\n",
    "    load_alpha_soil(all_level[i])\n",
    "    load_alpha_soil_disease(all_level[i])\n",
    "    load_otu_soil_disease(all_level[i])\n",
    "    load_otu_other(\"soil_chemistry_data\", all_level[i])\n",
    "    load_otu_other(\"disease_suppression_data\", all_level[i])\n",
    "end"
   ]
  },
  {
   "cell_type": "markdown",
   "id": "bfb6f2d5",
   "metadata": {},
   "source": [
    "# Testing Zone"
   ]
  },
  {
   "cell_type": "code",
   "execution_count": 4,
   "id": "6407c51e",
   "metadata": {},
   "outputs": [
    {
     "data": {
      "text/plain": [
       "234"
      ]
     },
     "execution_count": 4,
     "metadata": {},
     "output_type": "execute_result"
    }
   ],
   "source": [
    "a = CSV.read(\"../processed-data/all_otu_augmented/Order/1_1_test.csv\", DataFrame)\n",
    "#c = CSV.read(\"../processed-data/disease_suppression_data/original/1.csv\", DataFrame)\n",
    "#b = CSV.read(\"../processed-data/otu_soil_disease/Genus/full-data/6_1.csv\", DataFrame)\n",
    "\n",
    "size(a)[2]-1"
   ]
  },
  {
   "cell_type": "code",
   "execution_count": 9,
   "id": "153ad14c",
   "metadata": {},
   "outputs": [
    {
     "data": {
      "text/plain": [
       "tmp (generic function with 1 method)"
      ]
     },
     "execution_count": 9,
     "metadata": {},
     "output_type": "execute_result"
    }
   ],
   "source": [
    "function tmp(level, response_name)\n",
    "    full_otu = CSV.read(\"../processed-data/data-augmentation/otu/$level.csv\", DataFrame)\n",
    "    train_response = CSV.read(\"../processed-data/data-augmentation/response/$response_name.csv\", DataFrame)\n",
    "    #filename = string(level, \"_test\")\n",
    "    #test_response = CSV.read(\"../processed-data/all_otu_original/$response_name/train-test-split/$filename.csv\", DataFrame)\n",
    "    #test_response = test_response[:, Not(2:size(test_response)[2]-1)]\n",
    "    #full_response = vcat(train_response, test_response)\n",
    "    CSV.write(\"../processed-data/tmp/$level.csv\", full_otu);\n",
    "    #CSV.write(\"../processed-data/tmp/response/$response_name/response_$response_name.csv\", full_response)\n",
    "end"
   ]
  },
  {
   "cell_type": "code",
   "execution_count": 12,
   "id": "f396ad44",
   "metadata": {},
   "outputs": [],
   "source": [
    "level = [\"Phylum\", \"Class\", \"Order\", \"Family\", \"Genus\"]\n",
    "response = [\"no_tuber_scab\", \"no_tuber_scabpit\", \"no_tuber_scabsuper\", \"yield_per_meter\", \"yield_per_plant\", \"pctg_black_scurf\"]\n",
    "for i in 1:length(level)\n",
    "    for j in 1:length(response)\n",
    "        load_augment_otu(level[i], response[j], j)\n",
    "    end\n",
    "end"
   ]
  },
  {
   "cell_type": "code",
   "execution_count": 20,
   "id": "70ee306a",
   "metadata": {},
   "outputs": [
    {
     "data": {
      "text/html": [
       "<div><div style = \"float: left;\"><span>799×113 DataFrame</span></div><div style = \"float: right;\"><span style = \"font-style: italic;\">13 columns and 774 rows omitted</span></div><div style = \"clear: both;\"></div></div><div class = \"data-frame\" style = \"overflow-x: scroll;\"><table class = \"data-frame\" style = \"margin-bottom: 6px;\"><thead><tr class = \"header\"><th class = \"rowNumber\" style = \"font-weight: bold; text-align: right;\">Row</th><th style = \"text-align: left;\">0.0794251824817518</th><th style = \"text-align: left;\">0.145802919708029</th><th style = \"text-align: left;\">0.0135948905109489</th><th style = \"text-align: left;\">0.00752737226277372</th><th style = \"text-align: left;\">0.0114051094890511</th><th style = \"text-align: left;\">0.0648266423357664</th><th style = \"text-align: left;\">0.0270985401459854</th><th style = \"text-align: left;\">0.0184762773722628</th><th style = \"text-align: left;\">0.0250912408759124</th><th style = \"text-align: left;\">0.037271897810219</th><th style = \"text-align: left;\">0.0448448905109489</th><th style = \"text-align: left;\">0.0103102189781022</th><th style = \"text-align: left;\">0.0133667883211679</th><th style = \"text-align: left;\">0.0941605839416058</th><th style = \"text-align: left;\">0.00072992700729927</th><th style = \"text-align: left;\">0.0220346715328467</th><th style = \"text-align: left;\">0.058257299270073</th><th style = \"text-align: left;\">0.0172901459854015</th><th style = \"text-align: left;\">0.0381843065693431</th><th style = \"text-align: left;\">0.0031021897810219</th><th style = \"text-align: left;\">0.00333029197080292</th><th style = \"text-align: left;\">0.00661496350364963</th><th style = \"text-align: left;\">0.0</th><th style = \"text-align: left;\">0.00109489051094891</th><th style = \"text-align: left;\">0.0872262773722628</th><th style = \"text-align: left;\">0.00301094890510949</th><th style = \"text-align: left;\">0.000684306569343066</th><th style = \"text-align: left;\">0.0825729927007299</th><th style = \"text-align: left;\">0.000958029197080292</th><th style = \"text-align: left;\">0.00072992700729927_1</th><th style = \"text-align: left;\">0.00611313868613139</th><th style = \"text-align: left;\">0.00145985401459854</th><th style = \"text-align: left;\">0.00743613138686131</th><th style = \"text-align: left;\">0.0_1</th><th style = \"text-align: left;\">0.00889598540145985</th><th style = \"text-align: left;\">0.0_2</th><th style = \"text-align: left;\">0.00360401459854015</th><th style = \"text-align: left;\">0.0_3</th><th style = \"text-align: left;\">0.00319343065693431</th><th style = \"text-align: left;\">0.000684306569343066_1</th><th style = \"text-align: left;\">0.00072992700729927_2</th><th style = \"text-align: left;\">0.00159671532846715</th><th style = \"text-align: left;\">0.00218978102189781</th><th style = \"text-align: left;\">0.00305656934306569</th><th style = \"text-align: left;\">0.0_4</th><th style = \"text-align: left;\">0.000456204379562044</th><th style = \"text-align: left;\">0.00565693430656934</th><th style = \"text-align: left;\">0.000593065693430657</th><th style = \"text-align: left;\">0.000319343065693431</th><th style = \"text-align: left;\">0.000364963503649635</th><th style = \"text-align: left;\">0.00072992700729927_3</th><th style = \"text-align: left;\">0.0_5</th><th style = \"text-align: left;\">0.00072992700729927_4</th><th style = \"text-align: left;\">0.0083485401459854</th><th style = \"text-align: left;\">0.000638686131386861</th><th style = \"text-align: left;\">0.0020529197080292</th><th style = \"text-align: left;\">0.0_6</th><th style = \"text-align: left;\">0.00168795620437956</th><th style = \"text-align: left;\">0.000501824817518248</th><th style = \"text-align: left;\">9.12408759124088e-5</th><th style = \"text-align: left;\">0.000684306569343066_2</th><th style = \"text-align: left;\">0.000319343065693431_1</th><th style = \"text-align: left;\">0.00260036496350365</th><th style = \"text-align: left;\">0.000182481751824818</th><th style = \"text-align: left;\">0.0_7</th><th style = \"text-align: left;\">0.000958029197080292_1</th><th style = \"text-align: left;\">0.00597627737226277</th><th style = \"text-align: left;\">0.0_8</th><th style = \"text-align: left;\">0.000410583941605839</th><th style = \"text-align: left;\">0.000228102189781022</th><th style = \"text-align: left;\">0.000136861313868613</th><th style = \"text-align: left;\">0.0_9</th><th style = \"text-align: left;\">0.000410583941605839_1</th><th style = \"text-align: left;\">0.000410583941605839_2</th><th style = \"text-align: left;\">0.000364963503649635_1</th><th style = \"text-align: left;\">0.0_10</th><th style = \"text-align: left;\">0.000547445255474453</th><th style = \"text-align: left;\">0.000547445255474453_1</th><th style = \"text-align: left;\">0.000228102189781022_1</th><th style = \"text-align: left;\">0.0_11</th><th style = \"text-align: left;\">0.000136861313868613_1</th><th style = \"text-align: left;\">0.00141423357664234</th><th style = \"text-align: left;\">0.0_12</th><th style = \"text-align: left;\">0.000501824817518248_1</th><th style = \"text-align: left;\">0.0_13</th><th style = \"text-align: left;\">0.0_14</th><th style = \"text-align: left;\">0.0_15</th><th style = \"text-align: left;\">0.0_16</th><th style = \"text-align: left;\">0.000501824817518248_2</th><th style = \"text-align: left;\">9.12408759124088e-5_1</th><th style = \"text-align: left;\">0.0_17</th><th style = \"text-align: left;\">0.000136861313868613_2</th><th style = \"text-align: left;\">0.0_18</th><th style = \"text-align: left;\">9.12408759124088e-5_2</th><th style = \"text-align: left;\">0.0_19</th><th style = \"text-align: left;\">0.0_20</th><th style = \"text-align: left;\">0.0_21</th><th style = \"text-align: left;\">0.000456204379562044_1</th><th style = \"text-align: left;\">0.000684306569343066_3</th><th style = \"text-align: left;\">0.0_22</th><th style = \"text-align: right;\">&ctdot;</th></tr><tr class = \"subheader headerLastRow\"><th class = \"rowNumber\" style = \"font-weight: bold; text-align: right;\"></th><th title = \"Float64\" style = \"text-align: left;\">Float64</th><th title = \"Float64\" style = \"text-align: left;\">Float64</th><th title = \"Float64\" style = \"text-align: left;\">Float64</th><th title = \"Float64\" style = \"text-align: left;\">Float64</th><th title = \"Float64\" style = \"text-align: left;\">Float64</th><th title = \"Float64\" style = \"text-align: left;\">Float64</th><th title = \"Float64\" style = \"text-align: left;\">Float64</th><th title = \"Float64\" style = \"text-align: left;\">Float64</th><th title = \"Float64\" style = \"text-align: left;\">Float64</th><th title = \"Float64\" style = \"text-align: left;\">Float64</th><th title = \"Float64\" style = \"text-align: left;\">Float64</th><th title = \"Float64\" style = \"text-align: left;\">Float64</th><th title = \"Float64\" style = \"text-align: left;\">Float64</th><th title = \"Float64\" style = \"text-align: left;\">Float64</th><th title = \"Float64\" style = \"text-align: left;\">Float64</th><th title = \"Float64\" style = \"text-align: left;\">Float64</th><th title = \"Float64\" style = \"text-align: left;\">Float64</th><th title = \"Float64\" style = \"text-align: left;\">Float64</th><th title = \"Float64\" style = \"text-align: left;\">Float64</th><th title = \"Float64\" style = \"text-align: left;\">Float64</th><th title = \"Float64\" style = \"text-align: left;\">Float64</th><th title = \"Float64\" style = \"text-align: left;\">Float64</th><th title = \"Float64\" style = \"text-align: left;\">Float64</th><th title = \"Float64\" style = \"text-align: left;\">Float64</th><th title = \"Float64\" style = \"text-align: left;\">Float64</th><th title = \"Float64\" style = \"text-align: left;\">Float64</th><th title = \"Float64\" style = \"text-align: left;\">Float64</th><th title = \"Float64\" style = \"text-align: left;\">Float64</th><th title = \"Float64\" style = \"text-align: left;\">Float64</th><th title = \"Float64\" style = \"text-align: left;\">Float64</th><th title = \"Float64\" style = \"text-align: left;\">Float64</th><th title = \"Float64\" style = \"text-align: left;\">Float64</th><th title = \"Float64\" style = \"text-align: left;\">Float64</th><th title = \"Float64\" style = \"text-align: left;\">Float64</th><th title = \"Float64\" style = \"text-align: left;\">Float64</th><th title = \"Float64\" style = \"text-align: left;\">Float64</th><th title = \"Float64\" style = \"text-align: left;\">Float64</th><th title = \"Float64\" style = \"text-align: left;\">Float64</th><th title = \"Float64\" style = \"text-align: left;\">Float64</th><th title = \"Float64\" style = \"text-align: left;\">Float64</th><th title = \"Float64\" style = \"text-align: left;\">Float64</th><th title = \"Float64\" style = \"text-align: left;\">Float64</th><th title = \"Float64\" style = \"text-align: left;\">Float64</th><th title = \"Float64\" style = \"text-align: left;\">Float64</th><th title = \"Float64\" style = \"text-align: left;\">Float64</th><th title = \"Float64\" style = \"text-align: left;\">Float64</th><th title = \"Float64\" style = \"text-align: left;\">Float64</th><th title = \"Float64\" style = \"text-align: left;\">Float64</th><th title = \"Float64\" style = \"text-align: left;\">Float64</th><th title = \"Float64\" style = \"text-align: left;\">Float64</th><th title = \"Float64\" style = \"text-align: left;\">Float64</th><th title = \"Float64\" style = \"text-align: left;\">Float64</th><th title = \"Float64\" style = \"text-align: left;\">Float64</th><th title = \"Float64\" style = \"text-align: left;\">Float64</th><th title = \"Float64\" style = \"text-align: left;\">Float64</th><th title = \"Float64\" style = \"text-align: left;\">Float64</th><th title = \"Float64\" style = \"text-align: left;\">Float64</th><th title = \"Float64\" style = \"text-align: left;\">Float64</th><th title = \"Float64\" style = \"text-align: left;\">Float64</th><th title = \"Float64\" style = \"text-align: left;\">Float64</th><th title = \"Float64\" style = \"text-align: left;\">Float64</th><th title = \"Float64\" style = \"text-align: left;\">Float64</th><th title = \"Float64\" style = \"text-align: left;\">Float64</th><th title = \"Float64\" style = \"text-align: left;\">Float64</th><th title = \"Float64\" style = \"text-align: left;\">Float64</th><th title = \"Float64\" style = \"text-align: left;\">Float64</th><th title = \"Float64\" style = \"text-align: left;\">Float64</th><th title = \"Float64\" style = \"text-align: left;\">Float64</th><th title = \"Float64\" style = \"text-align: left;\">Float64</th><th title = \"Float64\" style = \"text-align: left;\">Float64</th><th title = \"Float64\" style = \"text-align: left;\">Float64</th><th title = \"Float64\" style = \"text-align: left;\">Float64</th><th title = \"Float64\" style = \"text-align: left;\">Float64</th><th title = \"Float64\" style = \"text-align: left;\">Float64</th><th title = \"Float64\" style = \"text-align: left;\">Float64</th><th title = \"Float64\" style = \"text-align: left;\">Float64</th><th title = \"Float64\" style = \"text-align: left;\">Float64</th><th title = \"Float64\" style = \"text-align: left;\">Float64</th><th title = \"Float64\" style = \"text-align: left;\">Float64</th><th title = \"Float64\" style = \"text-align: left;\">Float64</th><th title = \"Float64\" style = \"text-align: left;\">Float64</th><th title = \"Float64\" style = \"text-align: left;\">Float64</th><th title = \"Float64\" style = \"text-align: left;\">Float64</th><th title = \"Float64\" style = \"text-align: left;\">Float64</th><th title = \"Float64\" style = \"text-align: left;\">Float64</th><th title = \"Float64\" style = \"text-align: left;\">Float64</th><th title = \"Float64\" style = \"text-align: left;\">Float64</th><th title = \"Float64\" style = \"text-align: left;\">Float64</th><th title = \"Float64\" style = \"text-align: left;\">Float64</th><th title = \"Float64\" style = \"text-align: left;\">Float64</th><th title = \"Float64\" style = \"text-align: left;\">Float64</th><th title = \"Float64\" style = \"text-align: left;\">Float64</th><th title = \"Float64\" style = \"text-align: left;\">Float64</th><th title = \"Float64\" style = \"text-align: left;\">Float64</th><th title = \"Float64\" style = \"text-align: left;\">Float64</th><th title = \"Float64\" style = \"text-align: left;\">Float64</th><th title = \"Float64\" style = \"text-align: left;\">Float64</th><th title = \"Float64\" style = \"text-align: left;\">Float64</th><th title = \"Float64\" style = \"text-align: left;\">Float64</th><th title = \"Float64\" style = \"text-align: left;\">Float64</th><th title = \"Float64\" style = \"text-align: right;\">&ctdot;</th></tr></thead><tbody><tr><td class = \"rowNumber\" style = \"font-weight: bold; text-align: right;\">1</td><td style = \"text-align: right;\">0.075356</td><td style = \"text-align: right;\">0.157415</td><td style = \"text-align: right;\">0.0116101</td><td style = \"text-align: right;\">0.00762322</td><td style = \"text-align: right;\">0.0101643</td><td style = \"text-align: right;\">0.0682147</td><td style = \"text-align: right;\">0.0282147</td><td style = \"text-align: right;\">0.0187076</td><td style = \"text-align: right;\">0.0247536</td><td style = \"text-align: right;\">0.036977</td><td style = \"text-align: right;\">0.0379847</td><td style = \"text-align: right;\">0.0124863</td><td style = \"text-align: right;\">0.0119606</td><td style = \"text-align: right;\">0.091391</td><td style = \"text-align: right;\">0.000350493</td><td style = \"text-align: right;\">0.0228697</td><td style = \"text-align: right;\">0.0509091</td><td style = \"text-align: right;\">0.0136254</td><td style = \"text-align: right;\">0.0382475</td><td style = \"text-align: right;\">0.00258488</td><td style = \"text-align: right;\">0.00254107</td><td style = \"text-align: right;\">0.00749179</td><td style = \"text-align: right;\">0.0</td><td style = \"text-align: right;\">0.0037678</td><td style = \"text-align: right;\">0.0855203</td><td style = \"text-align: right;\">0.00223439</td><td style = \"text-align: right;\">0.000963855</td><td style = \"text-align: right;\">0.0901205</td><td style = \"text-align: right;\">0.000920044</td><td style = \"text-align: right;\">0.00179628</td><td style = \"text-align: right;\">0.0101205</td><td style = \"text-align: right;\">0.000876232</td><td style = \"text-align: right;\">0.0049069</td><td style = \"text-align: right;\">0.0</td><td style = \"text-align: right;\">0.00674699</td><td style = \"text-align: right;\">0.0</td><td style = \"text-align: right;\">0.00236583</td><td style = \"text-align: right;\">0.0</td><td style = \"text-align: right;\">0.00289157</td><td style = \"text-align: right;\">0.00205915</td><td style = \"text-align: right;\">0.000876232</td><td style = \"text-align: right;\">0.00157722</td><td style = \"text-align: right;\">0.0026287</td><td style = \"text-align: right;\">0.00276013</td><td style = \"text-align: right;\">8.76232e-5</td><td style = \"text-align: right;\">0.00162103</td><td style = \"text-align: right;\">0.0045126</td><td style = \"text-align: right;\">0.00118291</td><td style = \"text-align: right;\">0.000175246</td><td style = \"text-align: right;\">0.00026287</td><td style = \"text-align: right;\">0.00157722</td><td style = \"text-align: right;\">0.0</td><td style = \"text-align: right;\">0.000876232</td><td style = \"text-align: right;\">0.00959474</td><td style = \"text-align: right;\">0.0</td><td style = \"text-align: right;\">0.00162103</td><td style = \"text-align: right;\">0.000350493</td><td style = \"text-align: right;\">0.00140197</td><td style = \"text-align: right;\">0.000700986</td><td style = \"text-align: right;\">0.0011391</td><td style = \"text-align: right;\">0.000219058</td><td style = \"text-align: right;\">0.000744797</td><td style = \"text-align: right;\">0.00271632</td><td style = \"text-align: right;\">0.0</td><td style = \"text-align: right;\">0.0</td><td style = \"text-align: right;\">0.000481928</td><td style = \"text-align: right;\">0.00582694</td><td style = \"text-align: right;\">0.000175246</td><td style = \"text-align: right;\">0.000832421</td><td style = \"text-align: right;\">8.76232e-5</td><td style = \"text-align: right;\">0.0</td><td style = \"text-align: right;\">0.00026287</td><td style = \"text-align: right;\">0.000700986</td><td style = \"text-align: right;\">0.000175246</td><td style = \"text-align: right;\">0.000438116</td><td style = \"text-align: right;\">0.0</td><td style = \"text-align: right;\">0.000876232</td><td style = \"text-align: right;\">0.000131435</td><td style = \"text-align: right;\">0.000175246</td><td style = \"text-align: right;\">0.000657174</td><td style = \"text-align: right;\">0.0</td><td style = \"text-align: right;\">0.00153341</td><td style = \"text-align: right;\">0.0</td><td style = \"text-align: right;\">0.000613363</td><td style = \"text-align: right;\">0.000350493</td><td style = \"text-align: right;\">0.0</td><td style = \"text-align: right;\">0.000394304</td><td style = \"text-align: right;\">0.0</td><td style = \"text-align: right;\">0.000394304</td><td style = \"text-align: right;\">0.0</td><td style = \"text-align: right;\">8.76232e-5</td><td style = \"text-align: right;\">0.0</td><td style = \"text-align: right;\">0.0</td><td style = \"text-align: right;\">0.000876232</td><td style = \"text-align: right;\">0.0</td><td style = \"text-align: right;\">0.0</td><td style = \"text-align: right;\">0.0</td><td style = \"text-align: right;\">0.00026287</td><td style = \"text-align: right;\">0.0</td><td style = \"text-align: right;\">0.0</td><td style = \"text-align: right;\">&ctdot;</td></tr><tr><td class = \"rowNumber\" style = \"font-weight: bold; text-align: right;\">2</td><td style = \"text-align: right;\">0.093655</td><td style = \"text-align: right;\">0.152657</td><td style = \"text-align: right;\">0.0118227</td><td style = \"text-align: right;\">0.00659699</td><td style = \"text-align: right;\">0.0110444</td><td style = \"text-align: right;\">0.0610778</td><td style = \"text-align: right;\">0.0313913</td><td style = \"text-align: right;\">0.0230153</td><td style = \"text-align: right;\">0.0256838</td><td style = \"text-align: right;\">0.0350233</td><td style = \"text-align: right;\">0.0388036</td><td style = \"text-align: right;\">0.0119339</td><td style = \"text-align: right;\">0.0104885</td><td style = \"text-align: right;\">0.0772367</td><td style = \"text-align: right;\">0.000407679</td><td style = \"text-align: right;\">0.0227559</td><td style = \"text-align: right;\">0.0457342</td><td style = \"text-align: right;\">0.0257209</td><td style = \"text-align: right;\">0.0326885</td><td style = \"text-align: right;\">0.00315025</td><td style = \"text-align: right;\">0.0017419</td><td style = \"text-align: right;\">0.0109703</td><td style = \"text-align: right;\">0.0</td><td style = \"text-align: right;\">0.00355793</td><td style = \"text-align: right;\">0.09006</td><td style = \"text-align: right;\">0.00285375</td><td style = \"text-align: right;\">0.000518864</td><td style = \"text-align: right;\">0.0965088</td><td style = \"text-align: right;\">0.00063005</td><td style = \"text-align: right;\">0.000592988</td><td style = \"text-align: right;\">0.00889482</td><td style = \"text-align: right;\">0.00137128</td><td style = \"text-align: right;\">0.00782003</td><td style = \"text-align: right;\">0.000296494</td><td style = \"text-align: right;\">0.00748647</td><td style = \"text-align: right;\">0.0</td><td style = \"text-align: right;\">0.00303906</td><td style = \"text-align: right;\">0.0</td><td style = \"text-align: right;\">0.00311319</td><td style = \"text-align: right;\">0.00107479</td><td style = \"text-align: right;\">0.0</td><td style = \"text-align: right;\">0.000667111</td><td style = \"text-align: right;\">0.00170484</td><td style = \"text-align: right;\">0.00207546</td><td style = \"text-align: right;\">0.000259432</td><td style = \"text-align: right;\">0.00111185</td><td style = \"text-align: right;\">0.00303906</td><td style = \"text-align: right;\">0.000889482</td><td style = \"text-align: right;\">0.000148247</td><td style = \"text-align: right;\">0.000296494</td><td style = \"text-align: right;\">0.00107479</td><td style = \"text-align: right;\">0.000259432</td><td style = \"text-align: right;\">0.000333556</td><td style = \"text-align: right;\">0.00800534</td><td style = \"text-align: right;\">7.41235e-5</td><td style = \"text-align: right;\">0.00196427</td><td style = \"text-align: right;\">0.000667111</td><td style = \"text-align: right;\">0.000741235</td><td style = \"text-align: right;\">0.00085242</td><td style = \"text-align: right;\">0.000592988</td><td style = \"text-align: right;\">0.0</td><td style = \"text-align: right;\">0.000370617</td><td style = \"text-align: right;\">0.00122304</td><td style = \"text-align: right;\">0.0</td><td style = \"text-align: right;\">0.0</td><td style = \"text-align: right;\">0.00063005</td><td style = \"text-align: right;\">0.00370617</td><td style = \"text-align: right;\">0.000148247</td><td style = \"text-align: right;\">0.00118598</td><td style = \"text-align: right;\">0.00022237</td><td style = \"text-align: right;\">0.000148247</td><td style = \"text-align: right;\">7.41235e-5</td><td style = \"text-align: right;\">0.00085242</td><td style = \"text-align: right;\">0.000185309</td><td style = \"text-align: right;\">0.0</td><td style = \"text-align: right;\">0.0</td><td style = \"text-align: right;\">0.00063005</td><td style = \"text-align: right;\">0.0</td><td style = \"text-align: right;\">0.0</td><td style = \"text-align: right;\">0.000407679</td><td style = \"text-align: right;\">0.0</td><td style = \"text-align: right;\">0.00170484</td><td style = \"text-align: right;\">0.0</td><td style = \"text-align: right;\">0.000481803</td><td style = \"text-align: right;\">0.0</td><td style = \"text-align: right;\">0.0</td><td style = \"text-align: right;\">0.0</td><td style = \"text-align: right;\">0.0</td><td style = \"text-align: right;\">0.0</td><td style = \"text-align: right;\">0.0</td><td style = \"text-align: right;\">0.000148247</td><td style = \"text-align: right;\">0.0</td><td style = \"text-align: right;\">0.0</td><td style = \"text-align: right;\">7.41235e-5</td><td style = \"text-align: right;\">0.0</td><td style = \"text-align: right;\">0.0</td><td style = \"text-align: right;\">0.0</td><td style = \"text-align: right;\">0.0</td><td style = \"text-align: right;\">0.0</td><td style = \"text-align: right;\">0.0</td><td style = \"text-align: right;\">&ctdot;</td></tr><tr><td class = \"rowNumber\" style = \"font-weight: bold; text-align: right;\">3</td><td style = \"text-align: right;\">0.0701344</td><td style = \"text-align: right;\">0.150972</td><td style = \"text-align: right;\">0.0119439</td><td style = \"text-align: right;\">0.00859731</td><td style = \"text-align: right;\">0.0127806</td><td style = \"text-align: right;\">0.0651434</td><td style = \"text-align: right;\">0.0322543</td><td style = \"text-align: right;\">0.024234</td><td style = \"text-align: right;\">0.0220703</td><td style = \"text-align: right;\">0.0427558</td><td style = \"text-align: right;\">0.0424096</td><td style = \"text-align: right;\">0.0120593</td><td style = \"text-align: right;\">0.00914546</td><td style = \"text-align: right;\">0.0900121</td><td style = \"text-align: right;\">0.0002885</td><td style = \"text-align: right;\">0.0237147</td><td style = \"text-align: right;\">0.0457562</td><td style = \"text-align: right;\">0.0206278</td><td style = \"text-align: right;\">0.031158</td><td style = \"text-align: right;\">0.00337545</td><td style = \"text-align: right;\">0.0029427</td><td style = \"text-align: right;\">0.0125786</td><td style = \"text-align: right;\">0.0</td><td style = \"text-align: right;\">0.00403901</td><td style = \"text-align: right;\">0.0822515</td><td style = \"text-align: right;\">0.0024234</td><td style = \"text-align: right;\">0.000461601</td><td style = \"text-align: right;\">0.084848</td><td style = \"text-align: right;\">0.000490451</td><td style = \"text-align: right;\">0.00314465</td><td style = \"text-align: right;\">0.00787606</td><td style = \"text-align: right;\">0.0016733</td><td style = \"text-align: right;\">0.00781836</td><td style = \"text-align: right;\">0.000634701</td><td style = \"text-align: right;\">0.00539496</td><td style = \"text-align: right;\">0.0001154</td><td style = \"text-align: right;\">0.00204835</td><td style = \"text-align: right;\">0.0</td><td style = \"text-align: right;\">0.00366395</td><td style = \"text-align: right;\">0.000836651</td><td style = \"text-align: right;\">0.0003462</td><td style = \"text-align: right;\">0.00210605</td><td style = \"text-align: right;\">0.00233685</td><td style = \"text-align: right;\">0.0037505</td><td style = \"text-align: right;\">0.0</td><td style = \"text-align: right;\">0.000663551</td><td style = \"text-align: right;\">0.00447176</td><td style = \"text-align: right;\">0.00129825</td><td style = \"text-align: right;\">0.000432751</td><td style = \"text-align: right;\">0.0002885</td><td style = \"text-align: right;\">0.0012117</td><td style = \"text-align: right;\">0.000577001</td><td style = \"text-align: right;\">0.000894351</td><td style = \"text-align: right;\">0.0126075</td><td style = \"text-align: right;\">0.00020195</td><td style = \"text-align: right;\">0.00245225</td><td style = \"text-align: right;\">5.77001e-5</td><td style = \"text-align: right;\">0.00170215</td><td style = \"text-align: right;\">0.000923201</td><td style = \"text-align: right;\">0.000721251</td><td style = \"text-align: right;\">0.00031735</td><td style = \"text-align: right;\">0.000692401</td><td style = \"text-align: right;\">0.0018464</td><td style = \"text-align: right;\">0.0001731</td><td style = \"text-align: right;\">0.0</td><td style = \"text-align: right;\">0.000634701</td><td style = \"text-align: right;\">0.00643356</td><td style = \"text-align: right;\">0.0001154</td><td style = \"text-align: right;\">0.000750101</td><td style = \"text-align: right;\">0.0</td><td style = \"text-align: right;\">0.0</td><td style = \"text-align: right;\">0.0002308</td><td style = \"text-align: right;\">0.0012117</td><td style = \"text-align: right;\">0.000548151</td><td style = \"text-align: right;\">0.0</td><td style = \"text-align: right;\">0.0</td><td style = \"text-align: right;\">0.000807801</td><td style = \"text-align: right;\">0.000605851</td><td style = \"text-align: right;\">0.00020195</td><td style = \"text-align: right;\">0.000577001</td><td style = \"text-align: right;\">8.65501e-5</td><td style = \"text-align: right;\">0.000865501</td><td style = \"text-align: right;\">0.0</td><td style = \"text-align: right;\">0.000605851</td><td style = \"text-align: right;\">0.0002308</td><td style = \"text-align: right;\">0.0</td><td style = \"text-align: right;\">0.0</td><td style = \"text-align: right;\">0.00020195</td><td style = \"text-align: right;\">0.0</td><td style = \"text-align: right;\">0.0</td><td style = \"text-align: right;\">0.00020195</td><td style = \"text-align: right;\">0.0001731</td><td style = \"text-align: right;\">0.0</td><td style = \"text-align: right;\">0.000490451</td><td style = \"text-align: right;\">0.0</td><td style = \"text-align: right;\">0.0</td><td style = \"text-align: right;\">0.0</td><td style = \"text-align: right;\">0.0</td><td style = \"text-align: right;\">0.0</td><td style = \"text-align: right;\">0.0</td><td style = \"text-align: right;\">&ctdot;</td></tr><tr><td class = \"rowNumber\" style = \"font-weight: bold; text-align: right;\">4</td><td style = \"text-align: right;\">0.0760934</td><td style = \"text-align: right;\">0.15294</td><td style = \"text-align: right;\">0.0100059</td><td style = \"text-align: right;\">0.00607886</td><td style = \"text-align: right;\">0.0140406</td><td style = \"text-align: right;\">0.0639895</td><td style = \"text-align: right;\">0.0287536</td><td style = \"text-align: right;\">0.0242348</td><td style = \"text-align: right;\">0.0228899</td><td style = \"text-align: right;\">0.0358814</td><td style = \"text-align: right;\">0.0414761</td><td style = \"text-align: right;\">0.0107859</td><td style = \"text-align: right;\">0.0109742</td><td style = \"text-align: right;\">0.0878477</td><td style = \"text-align: right;\">0.000753134</td><td style = \"text-align: right;\">0.0213567</td><td style = \"text-align: right;\">0.0536877</td><td style = \"text-align: right;\">0.0195815</td><td style = \"text-align: right;\">0.0361235</td><td style = \"text-align: right;\">0.00252838</td><td style = \"text-align: right;\">0.0022325</td><td style = \"text-align: right;\">0.0109204</td><td style = \"text-align: right;\">0.0</td><td style = \"text-align: right;\">0.00390016</td><td style = \"text-align: right;\">0.0804777</td><td style = \"text-align: right;\">0.00212491</td><td style = \"text-align: right;\">0.000618645</td><td style = \"text-align: right;\">0.0865835</td><td style = \"text-align: right;\">0.000645543</td><td style = \"text-align: right;\">0.00207112</td><td style = \"text-align: right;\">0.00833826</td><td style = \"text-align: right;\">0.0011835</td><td style = \"text-align: right;\">0.00664371</td><td style = \"text-align: right;\">0.000618645</td><td style = \"text-align: right;\">0.00761203</td><td style = \"text-align: right;\">0.0</td><td style = \"text-align: right;\">0.00196353</td><td style = \"text-align: right;\">0.0</td><td style = \"text-align: right;\">0.00373877</td><td style = \"text-align: right;\">0.000941417</td><td style = \"text-align: right;\">0.000591748</td><td style = \"text-align: right;\">0.00182904</td><td style = \"text-align: right;\">0.00207112</td><td style = \"text-align: right;\">0.00234009</td><td style = \"text-align: right;\">0.00056485</td><td style = \"text-align: right;\">0.000995212</td><td style = \"text-align: right;\">0.0056216</td><td style = \"text-align: right;\">0.000833826</td><td style = \"text-align: right;\">0.000403464</td><td style = \"text-align: right;\">0.000295874</td><td style = \"text-align: right;\">0.000995212</td><td style = \"text-align: right;\">0.000511055</td><td style = \"text-align: right;\">0.00121039</td><td style = \"text-align: right;\">0.0111356</td><td style = \"text-align: right;\">0.000484157</td><td style = \"text-align: right;\">0.00193663</td><td style = \"text-align: right;\">0.000753134</td><td style = \"text-align: right;\">0.00209801</td><td style = \"text-align: right;\">0.00145247</td><td style = \"text-align: right;\">0.000295874</td><td style = \"text-align: right;\">0.000161386</td><td style = \"text-align: right;\">0.000134488</td><td style = \"text-align: right;\">0.00303943</td><td style = \"text-align: right;\">0.000242079</td><td style = \"text-align: right;\">0.0</td><td style = \"text-align: right;\">0.000618645</td><td style = \"text-align: right;\">0.0044919</td><td style = \"text-align: right;\">0.0</td><td style = \"text-align: right;\">0.000780031</td><td style = \"text-align: right;\">0.0</td><td style = \"text-align: right;\">0.000806929</td><td style = \"text-align: right;\">0.000295874</td><td style = \"text-align: right;\">0.0011297</td><td style = \"text-align: right;\">0.00131798</td><td style = \"text-align: right;\">0.000591748</td><td style = \"text-align: right;\">0.0</td><td style = \"text-align: right;\">0.00174835</td><td style = \"text-align: right;\">0.000699338</td><td style = \"text-align: right;\">0.0</td><td style = \"text-align: right;\">0.000242079</td><td style = \"text-align: right;\">0.0</td><td style = \"text-align: right;\">0.00145247</td><td style = \"text-align: right;\">0.0</td><td style = \"text-align: right;\">0.000376567</td><td style = \"text-align: right;\">0.000242079</td><td style = \"text-align: right;\">0.0</td><td style = \"text-align: right;\">0.000591748</td><td style = \"text-align: right;\">0.0</td><td style = \"text-align: right;\">0.000322772</td><td style = \"text-align: right;\">0.0</td><td style = \"text-align: right;\">8.06929e-5</td><td style = \"text-align: right;\">0.0</td><td style = \"text-align: right;\">5.37953e-5</td><td style = \"text-align: right;\">0.000672441</td><td style = \"text-align: right;\">0.0</td><td style = \"text-align: right;\">0.000107591</td><td style = \"text-align: right;\">0.000134488</td><td style = \"text-align: right;\">0.0</td><td style = \"text-align: right;\">0.00056485</td><td style = \"text-align: right;\">0.0</td><td style = \"text-align: right;\">&ctdot;</td></tr><tr><td class = \"rowNumber\" style = \"font-weight: bold; text-align: right;\">5</td><td style = \"text-align: right;\">0.0701901</td><td style = \"text-align: right;\">0.150497</td><td style = \"text-align: right;\">0.0121758</td><td style = \"text-align: right;\">0.00701304</td><td style = \"text-align: right;\">0.0140858</td><td style = \"text-align: right;\">0.0642812</td><td style = \"text-align: right;\">0.0293056</td><td style = \"text-align: right;\">0.0258438</td><td style = \"text-align: right;\">0.0230684</td><td style = \"text-align: right;\">0.0383181</td><td style = \"text-align: right;\">0.0402877</td><td style = \"text-align: right;\">0.0126533</td><td style = \"text-align: right;\">0.0115491</td><td style = \"text-align: right;\">0.0849324</td><td style = \"text-align: right;\">0.000387955</td><td style = \"text-align: right;\">0.0223224</td><td style = \"text-align: right;\">0.0485243</td><td style = \"text-align: right;\">0.0176669</td><td style = \"text-align: right;\">0.0373034</td><td style = \"text-align: right;\">0.00376018</td><td style = \"text-align: right;\">0.00334239</td><td style = \"text-align: right;\">0.0109523</td><td style = \"text-align: right;\">0.0</td><td style = \"text-align: right;\">0.00301412</td><td style = \"text-align: right;\">0.083679</td><td style = \"text-align: right;\">0.00256647</td><td style = \"text-align: right;\">0.000596855</td><td style = \"text-align: right;\">0.0890805</td><td style = \"text-align: right;\">0.000746068</td><td style = \"text-align: right;\">0.00188009</td><td style = \"text-align: right;\">0.00865439</td><td style = \"text-align: right;\">0.00190993</td><td style = \"text-align: right;\">0.00683398</td><td style = \"text-align: right;\">0.000716225</td><td style = \"text-align: right;\">0.00581933</td><td style = \"text-align: right;\">0.0</td><td style = \"text-align: right;\">0.00214868</td><td style = \"text-align: right;\">0.0</td><td style = \"text-align: right;\">0.00367066</td><td style = \"text-align: right;\">0.00152198</td><td style = \"text-align: right;\">0.000716225</td><td style = \"text-align: right;\">0.00155182</td><td style = \"text-align: right;\">0.00232773</td><td style = \"text-align: right;\">0.0024471</td><td style = \"text-align: right;\">0.000208899</td><td style = \"text-align: right;\">0.00146229</td><td style = \"text-align: right;\">0.00456594</td><td style = \"text-align: right;\">0.00107434</td><td style = \"text-align: right;\">0.000298427</td><td style = \"text-align: right;\">8.95282e-5</td><td style = \"text-align: right;\">0.000954967</td><td style = \"text-align: right;\">0.000179056</td><td style = \"text-align: right;\">0.000417798</td><td style = \"text-align: right;\">0.0127428</td><td style = \"text-align: right;\">0.0</td><td style = \"text-align: right;\">0.00340207</td><td style = \"text-align: right;\">0.000686383</td><td style = \"text-align: right;\">0.00176072</td><td style = \"text-align: right;\">0.00211883</td><td style = \"text-align: right;\">0.000686383</td><td style = \"text-align: right;\">0.000268585</td><td style = \"text-align: right;\">0.000238742</td><td style = \"text-align: right;\">0.00167119</td><td style = \"text-align: right;\">0.000119371</td><td style = \"text-align: right;\">8.95282e-5</td><td style = \"text-align: right;\">0.000507326</td><td style = \"text-align: right;\">0.00492405</td><td style = \"text-align: right;\">0.0</td><td style = \"text-align: right;\">0.000835596</td><td style = \"text-align: right;\">0.000179056</td><td style = \"text-align: right;\">0.0</td><td style = \"text-align: right;\">0.0</td><td style = \"text-align: right;\">0.00196962</td><td style = \"text-align: right;\">0.000686383</td><td style = \"text-align: right;\">0.000179056</td><td style = \"text-align: right;\">0.0</td><td style = \"text-align: right;\">0.0010445</td><td style = \"text-align: right;\">0.000626697</td><td style = \"text-align: right;\">0.000119371</td><td style = \"text-align: right;\">0.000596855</td><td style = \"text-align: right;\">0.00032827</td><td style = \"text-align: right;\">0.00098481</td><td style = \"text-align: right;\">0.0</td><td style = \"text-align: right;\">0.000417798</td><td style = \"text-align: right;\">0.000119371</td><td style = \"text-align: right;\">0.0</td><td style = \"text-align: right;\">0.00032827</td><td style = \"text-align: right;\">0.000268585</td><td style = \"text-align: right;\">0.0</td><td style = \"text-align: right;\">0.000149214</td><td style = \"text-align: right;\">0.0</td><td style = \"text-align: right;\">0.0</td><td style = \"text-align: right;\">0.0</td><td style = \"text-align: right;\">0.0010445</td><td style = \"text-align: right;\">0.0</td><td style = \"text-align: right;\">0.0</td><td style = \"text-align: right;\">0.000179056</td><td style = \"text-align: right;\">0.0</td><td style = \"text-align: right;\">0.000746068</td><td style = \"text-align: right;\">0.0</td><td style = \"text-align: right;\">&ctdot;</td></tr><tr><td class = \"rowNumber\" style = \"font-weight: bold; text-align: right;\">6</td><td style = \"text-align: right;\">0.105313</td><td style = \"text-align: right;\">0.152852</td><td style = \"text-align: right;\">0.0155296</td><td style = \"text-align: right;\">0.00838922</td><td style = \"text-align: right;\">0.0111856</td><td style = \"text-align: right;\">0.060625</td><td style = \"text-align: right;\">0.0338827</td><td style = \"text-align: right;\">0.0250862</td><td style = \"text-align: right;\">0.0293758</td><td style = \"text-align: right;\">0.0431678</td><td style = \"text-align: right;\">0.0412402</td><td style = \"text-align: right;\">0.0124074</td><td style = \"text-align: right;\">0.00890506</td><td style = \"text-align: right;\">0.0764532</td><td style = \"text-align: right;\">0.000760188</td><td style = \"text-align: right;\">0.0209595</td><td style = \"text-align: right;\">0.0547607</td><td style = \"text-align: right;\">0.0164526</td><td style = \"text-align: right;\">0.0313849</td><td style = \"text-align: right;\">0.00195477</td><td style = \"text-align: right;\">0.0032308</td><td style = \"text-align: right;\">0.0117015</td><td style = \"text-align: right;\">0.0</td><td style = \"text-align: right;\">0.0031765</td><td style = \"text-align: right;\">0.0727608</td><td style = \"text-align: right;\">0.00247061</td><td style = \"text-align: right;\">0.000298645</td><td style = \"text-align: right;\">0.0750686</td><td style = \"text-align: right;\">0.00141178</td><td style = \"text-align: right;\">0.00247061</td><td style = \"text-align: right;\">0.00882361</td><td style = \"text-align: right;\">0.00225341</td><td style = \"text-align: right;\">0.00447968</td><td style = \"text-align: right;\">0.000434393</td><td style = \"text-align: right;\">0.00849781</td><td style = \"text-align: right;\">0.0</td><td style = \"text-align: right;\">0.00314935</td><td style = \"text-align: right;\">0.0</td><td style = \"text-align: right;\">0.0029593</td><td style = \"text-align: right;\">0.000841637</td><td style = \"text-align: right;\">0.000705889</td><td style = \"text-align: right;\">0.00198192</td><td style = \"text-align: right;\">0.00146608</td><td style = \"text-align: right;\">0.00244346</td><td style = \"text-align: right;\">0.000244346</td><td style = \"text-align: right;\">0.000352944</td><td style = \"text-align: right;\">0.00361089</td><td style = \"text-align: right;\">0.00059729</td><td style = \"text-align: right;\">0.00059729</td><td style = \"text-align: right;\">0.000217197</td><td style = \"text-align: right;\">0.000733038</td><td style = \"text-align: right;\">0.000217197</td><td style = \"text-align: right;\">0.00138463</td><td style = \"text-align: right;\">0.0101539</td><td style = \"text-align: right;\">0.0</td><td style = \"text-align: right;\">0.00268781</td><td style = \"text-align: right;\">0.0</td><td style = \"text-align: right;\">0.00135748</td><td style = \"text-align: right;\">0.000950235</td><td style = \"text-align: right;\">0.000515842</td><td style = \"text-align: right;\">0.000217197</td><td style = \"text-align: right;\">0.000515842</td><td style = \"text-align: right;\">0.00217197</td><td style = \"text-align: right;\">0.000244346</td><td style = \"text-align: right;\">0.0</td><td style = \"text-align: right;\">0.0</td><td style = \"text-align: right;\">0.0031222</td><td style = \"text-align: right;\">0.0</td><td style = \"text-align: right;\">0.000787337</td><td style = \"text-align: right;\">0.000298645</td><td style = \"text-align: right;\">0.0</td><td style = \"text-align: right;\">5.42991e-5</td><td style = \"text-align: right;\">0.00105883</td><td style = \"text-align: right;\">0.000678739</td><td style = \"text-align: right;\">0.000461543</td><td style = \"text-align: right;\">0.0</td><td style = \"text-align: right;\">0.000678739</td><td style = \"text-align: right;\">0.000352944</td><td style = \"text-align: right;\">0.0</td><td style = \"text-align: right;\">0.0</td><td style = \"text-align: right;\">0.0</td><td style = \"text-align: right;\">0.000325795</td><td style = \"text-align: right;\">0.0</td><td style = \"text-align: right;\">0.000570141</td><td style = \"text-align: right;\">0.000244346</td><td style = \"text-align: right;\">0.0</td><td style = \"text-align: right;\">0.000325795</td><td style = \"text-align: right;\">0.0</td><td style = \"text-align: right;\">0.000325795</td><td style = \"text-align: right;\">0.000190047</td><td style = \"text-align: right;\">0.0</td><td style = \"text-align: right;\">5.42991e-5</td><td style = \"text-align: right;\">0.0</td><td style = \"text-align: right;\">0.000733038</td><td style = \"text-align: right;\">0.0</td><td style = \"text-align: right;\">0.0</td><td style = \"text-align: right;\">0.0</td><td style = \"text-align: right;\">0.000108598</td><td style = \"text-align: right;\">0.000325795</td><td style = \"text-align: right;\">0.0</td><td style = \"text-align: right;\">&ctdot;</td></tr><tr><td class = \"rowNumber\" style = \"font-weight: bold; text-align: right;\">7</td><td style = \"text-align: right;\">0.0895001</td><td style = \"text-align: right;\">0.150195</td><td style = \"text-align: right;\">0.016238</td><td style = \"text-align: right;\">0.00986515</td><td style = \"text-align: right;\">0.0102985</td><td style = \"text-align: right;\">0.0610518</td><td style = \"text-align: right;\">0.0227638</td><td style = \"text-align: right;\">0.0214892</td><td style = \"text-align: right;\">0.0207245</td><td style = \"text-align: right;\">0.0498611</td><td style = \"text-align: right;\">0.0448903</td><td style = \"text-align: right;\">0.00820821</td><td style = \"text-align: right;\">0.0118535</td><td style = \"text-align: right;\">0.0826175</td><td style = \"text-align: right;\">0.00137653</td><td style = \"text-align: right;\">0.0267914</td><td style = \"text-align: right;\">0.0619695</td><td style = \"text-align: right;\">0.0203166</td><td style = \"text-align: right;\">0.029468</td><td style = \"text-align: right;\">0.00328838</td><td style = \"text-align: right;\">0.00660226</td><td style = \"text-align: right;\">0.0128731</td><td style = \"text-align: right;\">0.0</td><td style = \"text-align: right;\">0.00203931</td><td style = \"text-align: right;\">0.086798</td><td style = \"text-align: right;\">0.00160595</td><td style = \"text-align: right;\">0.000662775</td><td style = \"text-align: right;\">0.0710954</td><td style = \"text-align: right;\">0.000815723</td><td style = \"text-align: right;\">0.00122358</td><td style = \"text-align: right;\">0.00463942</td><td style = \"text-align: right;\">0.00130006</td><td style = \"text-align: right;\">0.00721405</td><td style = \"text-align: right;\">0.000484336</td><td style = \"text-align: right;\">0.00675521</td><td style = \"text-align: right;\">0.0</td><td style = \"text-align: right;\">0.00349231</td><td style = \"text-align: right;\">0.0</td><td style = \"text-align: right;\">0.00277856</td><td style = \"text-align: right;\">0.000917688</td><td style = \"text-align: right;\">0.0</td><td style = \"text-align: right;\">0.00270208</td><td style = \"text-align: right;\">0.00135104</td><td style = \"text-align: right;\">0.00219226</td><td style = \"text-align: right;\">0.000739249</td><td style = \"text-align: right;\">0.000611792</td><td style = \"text-align: right;\">0.00244717</td><td style = \"text-align: right;\">0.000968671</td><td style = \"text-align: right;\">0.000229422</td><td style = \"text-align: right;\">0.000203931</td><td style = \"text-align: right;\">0.00112162</td><td style = \"text-align: right;\">0.000433353</td><td style = \"text-align: right;\">0.000892197</td><td style = \"text-align: right;\">0.00917688</td><td style = \"text-align: right;\">0.0</td><td style = \"text-align: right;\">0.00318642</td><td style = \"text-align: right;\">0.00038237</td><td style = \"text-align: right;\">0.00219226</td><td style = \"text-align: right;\">0.000535318</td><td style = \"text-align: right;\">0.000484336</td><td style = \"text-align: right;\">0.000254913</td><td style = \"text-align: right;\">0.000917688</td><td style = \"text-align: right;\">0.00127457</td><td style = \"text-align: right;\">0.0</td><td style = \"text-align: right;\">0.0</td><td style = \"text-align: right;\">0.0</td><td style = \"text-align: right;\">0.00463942</td><td style = \"text-align: right;\">0.0</td><td style = \"text-align: right;\">0.000305896</td><td style = \"text-align: right;\">0.0</td><td style = \"text-align: right;\">0.000229422</td><td style = \"text-align: right;\">0.000152948</td><td style = \"text-align: right;\">0.00135104</td><td style = \"text-align: right;\">0.000203931</td><td style = \"text-align: right;\">0.0</td><td style = \"text-align: right;\">0.0</td><td style = \"text-align: right;\">0.00119809</td><td style = \"text-align: right;\">7.6474e-5</td><td style = \"text-align: right;\">0.000713758</td><td style = \"text-align: right;\">0.0</td><td style = \"text-align: right;\">0.0</td><td style = \"text-align: right;\">0.00165694</td><td style = \"text-align: right;\">0.0</td><td style = \"text-align: right;\">0.0</td><td style = \"text-align: right;\">0.0</td><td style = \"text-align: right;\">0.0</td><td style = \"text-align: right;\">0.000356879</td><td style = \"text-align: right;\">0.000152948</td><td style = \"text-align: right;\">0.0</td><td style = \"text-align: right;\">0.0</td><td style = \"text-align: right;\">0.0</td><td style = \"text-align: right;\">0.0</td><td style = \"text-align: right;\">0.0</td><td style = \"text-align: right;\">0.000127457</td><td style = \"text-align: right;\">0.0</td><td style = \"text-align: right;\">0.000152948</td><td style = \"text-align: right;\">0.0</td><td style = \"text-align: right;\">0.0</td><td style = \"text-align: right;\">0.000356879</td><td style = \"text-align: right;\">0.0</td><td style = \"text-align: right;\">&ctdot;</td></tr><tr><td class = \"rowNumber\" style = \"font-weight: bold; text-align: right;\">8</td><td style = \"text-align: right;\">0.0908478</td><td style = \"text-align: right;\">0.146333</td><td style = \"text-align: right;\">0.0102397</td><td style = \"text-align: right;\">0.00952532</td><td style = \"text-align: right;\">0.0105969</td><td style = \"text-align: right;\">0.0683839</td><td style = \"text-align: right;\">0.0300841</td><td style = \"text-align: right;\">0.0186934</td><td style = \"text-align: right;\">0.0238133</td><td style = \"text-align: right;\">0.0460391</td><td style = \"text-align: right;\">0.0464359</td><td style = \"text-align: right;\">0.0104779</td><td style = \"text-align: right;\">0.0134148</td><td style = \"text-align: right;\">0.0833069</td><td style = \"text-align: right;\">0.000555644</td><td style = \"text-align: right;\">0.0279013</td><td style = \"text-align: right;\">0.0484601</td><td style = \"text-align: right;\">0.0197254</td><td style = \"text-align: right;\">0.0352437</td><td style = \"text-align: right;\">0.00329417</td><td style = \"text-align: right;\">0.00424671</td><td style = \"text-align: right;\">0.0123432</td><td style = \"text-align: right;\">0.0</td><td style = \"text-align: right;\">0.00381013</td><td style = \"text-align: right;\">0.0961661</td><td style = \"text-align: right;\">0.00138911</td><td style = \"text-align: right;\">0.000238133</td><td style = \"text-align: right;\">0.0663201</td><td style = \"text-align: right;\">0.00123035</td><td style = \"text-align: right;\">0.0010716</td><td style = \"text-align: right;\">0.00642959</td><td style = \"text-align: right;\">0.00138911</td><td style = \"text-align: right;\">0.00678679</td><td style = \"text-align: right;\">0.000396888</td><td style = \"text-align: right;\">0.00575488</td><td style = \"text-align: right;\">7.93777e-5</td><td style = \"text-align: right;\">0.00353231</td><td style = \"text-align: right;\">7.93777e-5</td><td style = \"text-align: right;\">0.00337355</td><td style = \"text-align: right;\">0.000992221</td><td style = \"text-align: right;\">0.000476266</td><td style = \"text-align: right;\">0.0014288</td><td style = \"text-align: right;\">0.00134942</td><td style = \"text-align: right;\">0.00238133</td><td style = \"text-align: right;\">0.0003572</td><td style = \"text-align: right;\">0.00130973</td><td style = \"text-align: right;\">0.0021432</td><td style = \"text-align: right;\">0.00146849</td><td style = \"text-align: right;\">0.000277822</td><td style = \"text-align: right;\">0.000198444</td><td style = \"text-align: right;\">0.00119067</td><td style = \"text-align: right;\">7.93777e-5</td><td style = \"text-align: right;\">0.00111129</td><td style = \"text-align: right;\">0.00857279</td><td style = \"text-align: right;\">0.0</td><td style = \"text-align: right;\">0.00194475</td><td style = \"text-align: right;\">0.000436577</td><td style = \"text-align: right;\">0.000992221</td><td style = \"text-align: right;\">0.00166693</td><td style = \"text-align: right;\">0.000515955</td><td style = \"text-align: right;\">0.0</td><td style = \"text-align: right;\">0.000198444</td><td style = \"text-align: right;\">0.000833466</td><td style = \"text-align: right;\">0.0</td><td style = \"text-align: right;\">0.0</td><td style = \"text-align: right;\">0.0</td><td style = \"text-align: right;\">0.00456422</td><td style = \"text-align: right;\">0.0</td><td style = \"text-align: right;\">0.000277822</td><td style = \"text-align: right;\">7.93777e-5</td><td style = \"text-align: right;\">0.000317511</td><td style = \"text-align: right;\">0.0</td><td style = \"text-align: right;\">0.000476266</td><td style = \"text-align: right;\">0.0003572</td><td style = \"text-align: right;\">0.000158755</td><td style = \"text-align: right;\">0.0</td><td style = \"text-align: right;\">0.000635021</td><td style = \"text-align: right;\">0.000158755</td><td style = \"text-align: right;\">0.000396888</td><td style = \"text-align: right;\">0.0</td><td style = \"text-align: right;\">0.0</td><td style = \"text-align: right;\">0.00115098</td><td style = \"text-align: right;\">0.0</td><td style = \"text-align: right;\">0.000992221</td><td style = \"text-align: right;\">0.000396888</td><td style = \"text-align: right;\">0.0</td><td style = \"text-align: right;\">0.0</td><td style = \"text-align: right;\">0.0</td><td style = \"text-align: right;\">0.0</td><td style = \"text-align: right;\">0.0</td><td style = \"text-align: right;\">0.000158755</td><td style = \"text-align: right;\">0.000198444</td><td style = \"text-align: right;\">0.0</td><td style = \"text-align: right;\">0.0003572</td><td style = \"text-align: right;\">0.0</td><td style = \"text-align: right;\">0.0</td><td style = \"text-align: right;\">0.0</td><td style = \"text-align: right;\">0.0</td><td style = \"text-align: right;\">0.000238133</td><td style = \"text-align: right;\">0.0</td><td style = \"text-align: right;\">&ctdot;</td></tr><tr><td class = \"rowNumber\" style = \"font-weight: bold; text-align: right;\">9</td><td style = \"text-align: right;\">0.0928987</td><td style = \"text-align: right;\">0.143698</td><td style = \"text-align: right;\">0.015996</td><td style = \"text-align: right;\">0.00714313</td><td style = \"text-align: right;\">0.0101068</td><td style = \"text-align: right;\">0.0664919</td><td style = \"text-align: right;\">0.0295984</td><td style = \"text-align: right;\">0.0200616</td><td style = \"text-align: right;\">0.0206315</td><td style = \"text-align: right;\">0.0447965</td><td style = \"text-align: right;\">0.0469243</td><td style = \"text-align: right;\">0.0127284</td><td style = \"text-align: right;\">0.0104867</td><td style = \"text-align: right;\">0.0891371</td><td style = \"text-align: right;\">0.00117786</td><td style = \"text-align: right;\">0.0276606</td><td style = \"text-align: right;\">0.0475702</td><td style = \"text-align: right;\">0.0173639</td><td style = \"text-align: right;\">0.0320301</td><td style = \"text-align: right;\">0.00307762</td><td style = \"text-align: right;\">0.00543334</td><td style = \"text-align: right;\">0.0101448</td><td style = \"text-align: right;\">0.0</td><td style = \"text-align: right;\">0.0040655</td><td style = \"text-align: right;\">0.0912649</td><td style = \"text-align: right;\">0.00193776</td><td style = \"text-align: right;\">0.000683917</td><td style = \"text-align: right;\">0.0791443</td><td style = \"text-align: right;\">0.000835898</td><td style = \"text-align: right;\">0.000645921</td><td style = \"text-align: right;\">0.00444546</td><td style = \"text-align: right;\">0.00125385</td><td style = \"text-align: right;\">0.00478742</td><td style = \"text-align: right;\">0.0</td><td style = \"text-align: right;\">0.00706714</td><td style = \"text-align: right;\">0.0</td><td style = \"text-align: right;\">0.00250769</td><td style = \"text-align: right;\">0.0</td><td style = \"text-align: right;\">0.00277366</td><td style = \"text-align: right;\">0.00136783</td><td style = \"text-align: right;\">0.000645921</td><td style = \"text-align: right;\">0.0016338</td><td style = \"text-align: right;\">0.00129184</td><td style = \"text-align: right;\">0.00159581</td><td style = \"text-align: right;\">0.000531935</td><td style = \"text-align: right;\">0.000873893</td><td style = \"text-align: right;\">0.00250769</td><td style = \"text-align: right;\">0.00113986</td><td style = \"text-align: right;\">0.000151981</td><td style = \"text-align: right;\">0.000189977</td><td style = \"text-align: right;\">0.00129184</td><td style = \"text-align: right;\">0.000113986</td><td style = \"text-align: right;\">0.00121585</td><td style = \"text-align: right;\">0.00915688</td><td style = \"text-align: right;\">0.000265968</td><td style = \"text-align: right;\">0.0016718</td><td style = \"text-align: right;\">0.000911889</td><td style = \"text-align: right;\">0.00132984</td><td style = \"text-align: right;\">0.000797903</td><td style = \"text-align: right;\">0.000645921</td><td style = \"text-align: right;\">0.0</td><td style = \"text-align: right;\">0.000151981</td><td style = \"text-align: right;\">0.00144382</td><td style = \"text-align: right;\">0.000379954</td><td style = \"text-align: right;\">0.0</td><td style = \"text-align: right;\">0.0</td><td style = \"text-align: right;\">0.00345758</td><td style = \"text-align: right;\">0.0</td><td style = \"text-align: right;\">0.000265968</td><td style = \"text-align: right;\">0.0</td><td style = \"text-align: right;\">0.000151981</td><td style = \"text-align: right;\">0.0</td><td style = \"text-align: right;\">0.000417949</td><td style = \"text-align: right;\">0.000683917</td><td style = \"text-align: right;\">0.00049394</td><td style = \"text-align: right;\">0.0</td><td style = \"text-align: right;\">0.000417949</td><td style = \"text-align: right;\">0.000455944</td><td style = \"text-align: right;\">0.0</td><td style = \"text-align: right;\">0.000113986</td><td style = \"text-align: right;\">0.000227972</td><td style = \"text-align: right;\">0.00159581</td><td style = \"text-align: right;\">0.0</td><td style = \"text-align: right;\">0.00056993</td><td style = \"text-align: right;\">0.0</td><td style = \"text-align: right;\">0.0</td><td style = \"text-align: right;\">0.000379954</td><td style = \"text-align: right;\">0.0</td><td style = \"text-align: right;\">0.00049394</td><td style = \"text-align: right;\">0.0</td><td style = \"text-align: right;\">7.59907e-5</td><td style = \"text-align: right;\">0.000227972</td><td style = \"text-align: right;\">0.0</td><td style = \"text-align: right;\">0.000531935</td><td style = \"text-align: right;\">0.0</td><td style = \"text-align: right;\">7.59907e-5</td><td style = \"text-align: right;\">0.0</td><td style = \"text-align: right;\">0.000151981</td><td style = \"text-align: right;\">7.59907e-5</td><td style = \"text-align: right;\">0.0</td><td style = \"text-align: right;\">&ctdot;</td></tr><tr><td class = \"rowNumber\" style = \"font-weight: bold; text-align: right;\">10</td><td style = \"text-align: right;\">0.0644624</td><td style = \"text-align: right;\">0.116379</td><td style = \"text-align: right;\">0.0140322</td><td style = \"text-align: right;\">0.00763548</td><td style = \"text-align: right;\">0.0236272</td><td style = \"text-align: right;\">0.0453624</td><td style = \"text-align: right;\">0.0224334</td><td style = \"text-align: right;\">0.031623</td><td style = \"text-align: right;\">0.0257444</td><td style = \"text-align: right;\">0.0557683</td><td style = \"text-align: right;\">0.0522771</td><td style = \"text-align: right;\">0.0168927</td><td style = \"text-align: right;\">0.0112618</td><td style = \"text-align: right;\">0.0948466</td><td style = \"text-align: right;\">0.000653183</td><td style = \"text-align: right;\">0.030632</td><td style = \"text-align: right;\">0.086085</td><td style = \"text-align: right;\">0.0084238</td><td style = \"text-align: right;\">0.0228839</td><td style = \"text-align: right;\">0.00164422</td><td style = \"text-align: right;\">0.00734267</td><td style = \"text-align: right;\">0.00824361</td><td style = \"text-align: right;\">0.0</td><td style = \"text-align: right;\">0.00180188</td><td style = \"text-align: right;\">0.0625253</td><td style = \"text-align: right;\">0.000833371</td><td style = \"text-align: right;\">4.50471e-5</td><td style = \"text-align: right;\">0.0786972</td><td style = \"text-align: right;\">0.000518041</td><td style = \"text-align: right;\">0.00835623</td><td style = \"text-align: right;\">0.00864904</td><td style = \"text-align: right;\">0.00213974</td><td style = \"text-align: right;\">0.00743277</td><td style = \"text-align: right;\">0.00423442</td><td style = \"text-align: right;\">0.00461733</td><td style = \"text-align: right;\">0.0</td><td style = \"text-align: right;\">0.000743277</td><td style = \"text-align: right;\">0.0</td><td style = \"text-align: right;\">0.00162169</td><td style = \"text-align: right;\">0.00457228</td><td style = \"text-align: right;\">0.00738772</td><td style = \"text-align: right;\">0.000563088</td><td style = \"text-align: right;\">0.00416685</td><td style = \"text-align: right;\">0.00108113</td><td style = \"text-align: right;\">0.000360377</td><td style = \"text-align: right;\">0.000788324</td><td style = \"text-align: right;\">0.00351367</td><td style = \"text-align: right;\">0.000360377</td><td style = \"text-align: right;\">0.000563088</td><td style = \"text-align: right;\">0.000608136</td><td style = \"text-align: right;\">0.000135141</td><td style = \"text-align: right;\">0.0015316</td><td style = \"text-align: right;\">0.000720753</td><td style = \"text-align: right;\">0.0095725</td><td style = \"text-align: right;\">0.00126132</td><td style = \"text-align: right;\">0.00360377</td><td style = \"text-align: right;\">0.0011487</td><td style = \"text-align: right;\">0.00146403</td><td style = \"text-align: right;\">0.00148655</td><td style = \"text-align: right;\">0.000878418</td><td style = \"text-align: right;\">0.000855894</td><td style = \"text-align: right;\">0.00069823</td><td style = \"text-align: right;\">0.0003829</td><td style = \"text-align: right;\">6.75706e-5</td><td style = \"text-align: right;\">0.0</td><td style = \"text-align: right;\">0.000450471</td><td style = \"text-align: right;\">0.00162169</td><td style = \"text-align: right;\">6.75706e-5</td><td style = \"text-align: right;\">0.00157665</td><td style = \"text-align: right;\">4.50471e-5</td><td style = \"text-align: right;\">0.000135141</td><td style = \"text-align: right;\">0.00148655</td><td style = \"text-align: right;\">0.000720753</td><td style = \"text-align: right;\">0.00328844</td><td style = \"text-align: right;\">0.000247759</td><td style = \"text-align: right;\">0.0</td><td style = \"text-align: right;\">0.000923465</td><td style = \"text-align: right;\">0.00159917</td><td style = \"text-align: right;\">0.000112618</td><td style = \"text-align: right;\">0.00202712</td><td style = \"text-align: right;\">0.000833371</td><td style = \"text-align: right;\">0.0</td><td style = \"text-align: right;\">0.000810847</td><td style = \"text-align: right;\">0.00108113</td><td style = \"text-align: right;\">0.000675706</td><td style = \"text-align: right;\">0.0</td><td style = \"text-align: right;\">0.0</td><td style = \"text-align: right;\">0.0</td><td style = \"text-align: right;\">0.00031533</td><td style = \"text-align: right;\">0.0007658</td><td style = \"text-align: right;\">0.0</td><td style = \"text-align: right;\">0.000472994</td><td style = \"text-align: right;\">0.0</td><td style = \"text-align: right;\">0.0003829</td><td style = \"text-align: right;\">0.0</td><td style = \"text-align: right;\">0.0</td><td style = \"text-align: right;\">0.000157665</td><td style = \"text-align: right;\">0.0</td><td style = \"text-align: right;\">0.0003829</td><td style = \"text-align: right;\">0.000135141</td><td style = \"text-align: right;\">&ctdot;</td></tr><tr><td class = \"rowNumber\" style = \"font-weight: bold; text-align: right;\">11</td><td style = \"text-align: right;\">0.0597526</td><td style = \"text-align: right;\">0.097886</td><td style = \"text-align: right;\">0.00979888</td><td style = \"text-align: right;\">0.0131908</td><td style = \"text-align: right;\">0.0177134</td><td style = \"text-align: right;\">0.0575941</td><td style = \"text-align: right;\">0.0220989</td><td style = \"text-align: right;\">0.0194607</td><td style = \"text-align: right;\">0.018193</td><td style = \"text-align: right;\">0.0617741</td><td style = \"text-align: right;\">0.0458423</td><td style = \"text-align: right;\">0.0126769</td><td style = \"text-align: right;\">0.00808579</td><td style = \"text-align: right;\">0.116662</td><td style = \"text-align: right;\">0.000274095</td><td style = \"text-align: right;\">0.0334053</td><td style = \"text-align: right;\">0.086237</td><td style = \"text-align: right;\">0.00647549</td><td style = \"text-align: right;\">0.0256621</td><td style = \"text-align: right;\">0.00106212</td><td style = \"text-align: right;\">0.00798301</td><td style = \"text-align: right;\">0.00531058</td><td style = \"text-align: right;\">0.0</td><td style = \"text-align: right;\">0.00287799</td><td style = \"text-align: right;\">0.0675301</td><td style = \"text-align: right;\">0.00109638</td><td style = \"text-align: right;\">0.0</td><td style = \"text-align: right;\">0.0886011</td><td style = \"text-align: right;\">0.000959331</td><td style = \"text-align: right;\">0.0106212</td><td style = \"text-align: right;\">0.0042142</td><td style = \"text-align: right;\">0.00256964</td><td style = \"text-align: right;\">0.00613287</td><td style = \"text-align: right;\">0.00167883</td><td style = \"text-align: right;\">0.0030493</td><td style = \"text-align: right;\">0.0</td><td style = \"text-align: right;\">0.000548189</td><td style = \"text-align: right;\">0.000137047</td><td style = \"text-align: right;\">0.000822284</td><td style = \"text-align: right;\">0.00239833</td><td style = \"text-align: right;\">0.00613287</td><td style = \"text-align: right;\">0.00150752</td><td style = \"text-align: right;\">0.00342618</td><td style = \"text-align: right;\">0.00198719</td><td style = \"text-align: right;\">0.00037688</td><td style = \"text-align: right;\">0.000959331</td><td style = \"text-align: right;\">0.00435125</td><td style = \"text-align: right;\">0.000616713</td><td style = \"text-align: right;\">0.000274095</td><td style = \"text-align: right;\">0.00459109</td><td style = \"text-align: right;\">0.00037688</td><td style = \"text-align: right;\">0.00185014</td><td style = \"text-align: right;\">0.00106212</td><td style = \"text-align: right;\">0.0114777</td><td style = \"text-align: right;\">0.00212423</td><td style = \"text-align: right;\">0.00424847</td><td style = \"text-align: right;\">0.000925069</td><td style = \"text-align: right;\">0.00208997</td><td style = \"text-align: right;\">0.000582451</td><td style = \"text-align: right;\">0.00339192</td><td style = \"text-align: right;\">0.00167883</td><td style = \"text-align: right;\">0.000308356</td><td style = \"text-align: right;\">0.000890808</td><td style = \"text-align: right;\">0.000308356</td><td style = \"text-align: right;\">0.0</td><td style = \"text-align: right;\">0.000582451</td><td style = \"text-align: right;\">0.000925069</td><td style = \"text-align: right;\">0.0</td><td style = \"text-align: right;\">0.00208997</td><td style = \"text-align: right;\">0.0</td><td style = \"text-align: right;\">0.000411142</td><td style = \"text-align: right;\">0.00270668</td><td style = \"text-align: right;\">0.000719498</td><td style = \"text-align: right;\">0.00287799</td><td style = \"text-align: right;\">0.000102785</td><td style = \"text-align: right;\">0.0</td><td style = \"text-align: right;\">0.000274095</td><td style = \"text-align: right;\">0.00195292</td><td style = \"text-align: right;\">0.000650975</td><td style = \"text-align: right;\">0.00119916</td><td style = \"text-align: right;\">0.000890808</td><td style = \"text-align: right;\">0.000274095</td><td style = \"text-align: right;\">0.000548189</td><td style = \"text-align: right;\">0.000171309</td><td style = \"text-align: right;\">0.00109638</td><td style = \"text-align: right;\">0.0</td><td style = \"text-align: right;\">0.000342618</td><td style = \"text-align: right;\">0.000342618</td><td style = \"text-align: right;\">0.0</td><td style = \"text-align: right;\">0.000342618</td><td style = \"text-align: right;\">0.0</td><td style = \"text-align: right;\">0.000959331</td><td style = \"text-align: right;\">0.0</td><td style = \"text-align: right;\">0.000205571</td><td style = \"text-align: right;\">0.0</td><td style = \"text-align: right;\">0.0</td><td style = \"text-align: right;\">0.000479666</td><td style = \"text-align: right;\">0.000239833</td><td style = \"text-align: right;\">0.00037688</td><td style = \"text-align: right;\">0.000342618</td><td style = \"text-align: right;\">&ctdot;</td></tr><tr><td class = \"rowNumber\" style = \"font-weight: bold; text-align: right;\">12</td><td style = \"text-align: right;\">0.0470077</td><td style = \"text-align: right;\">0.113415</td><td style = \"text-align: right;\">0.00820859</td><td style = \"text-align: right;\">0.00724288</td><td style = \"text-align: right;\">0.0276365</td><td style = \"text-align: right;\">0.0515807</td><td style = \"text-align: right;\">0.024427</td><td style = \"text-align: right;\">0.0368393</td><td style = \"text-align: right;\">0.0265572</td><td style = \"text-align: right;\">0.0522907</td><td style = \"text-align: right;\">0.0531144</td><td style = \"text-align: right;\">0.0192575</td><td style = \"text-align: right;\">0.00914591</td><td style = \"text-align: right;\">0.0900957</td><td style = \"text-align: right;\">0.000596472</td><td style = \"text-align: right;\">0.0323799</td><td style = \"text-align: right;\">0.0797285</td><td style = \"text-align: right;\">0.0111057</td><td style = \"text-align: right;\">0.0256199</td><td style = \"text-align: right;\">0.00278354</td><td style = \"text-align: right;\">0.00604993</td><td style = \"text-align: right;\">0.00732809</td><td style = \"text-align: right;\">0.0</td><td style = \"text-align: right;\">0.00312438</td><td style = \"text-align: right;\">0.0628</td><td style = \"text-align: right;\">0.00195984</td><td style = \"text-align: right;\">0.000454455</td><td style = \"text-align: right;\">0.0921976</td><td style = \"text-align: right;\">0.00099412</td><td style = \"text-align: right;\">0.00653279</td><td style = \"text-align: right;\">0.00798137</td><td style = \"text-align: right;\">0.00252791</td><td style = \"text-align: right;\">0.00761212</td><td style = \"text-align: right;\">0.00230068</td><td style = \"text-align: right;\">0.00340841</td><td style = \"text-align: right;\">0.0</td><td style = \"text-align: right;\">0.000312438</td><td style = \"text-align: right;\">0.0</td><td style = \"text-align: right;\">0.00210185</td><td style = \"text-align: right;\">0.000937314</td><td style = \"text-align: right;\">0.00644758</td><td style = \"text-align: right;\">0.000937314</td><td style = \"text-align: right;\">0.00397648</td><td style = \"text-align: right;\">0.0016758</td><td style = \"text-align: right;\">0.000568069</td><td style = \"text-align: right;\">0.0</td><td style = \"text-align: right;\">0.00457295</td><td style = \"text-align: right;\">0.000454455</td><td style = \"text-align: right;\">0.000340841</td><td style = \"text-align: right;\">0.00144858</td><td style = \"text-align: right;\">0.000340841</td><td style = \"text-align: right;\">0.00156219</td><td style = \"text-align: right;\">0.000681683</td><td style = \"text-align: right;\">0.0122987</td><td style = \"text-align: right;\">0.00176101</td><td style = \"text-align: right;\">0.00335161</td><td style = \"text-align: right;\">0.000766893</td><td style = \"text-align: right;\">0.00320959</td><td style = \"text-align: right;\">0.00127815</td><td style = \"text-align: right;\">0.00113614</td><td style = \"text-align: right;\">0.000766893</td><td style = \"text-align: right;\">0.000795296</td><td style = \"text-align: right;\">0.000681683</td><td style = \"text-align: right;\">0.000710086</td><td style = \"text-align: right;\">0.0</td><td style = \"text-align: right;\">0.000340841</td><td style = \"text-align: right;\">0.00195984</td><td style = \"text-align: right;\">0.0</td><td style = \"text-align: right;\">0.00266992</td><td style = \"text-align: right;\">0.0</td><td style = \"text-align: right;\">0.000284034</td><td style = \"text-align: right;\">0.0016474</td><td style = \"text-align: right;\">0.000653279</td><td style = \"text-align: right;\">0.00295396</td><td style = \"text-align: right;\">0.000568069</td><td style = \"text-align: right;\">0.0</td><td style = \"text-align: right;\">0.00105093</td><td style = \"text-align: right;\">0.000937314</td><td style = \"text-align: right;\">0.000426052</td><td style = \"text-align: right;\">0.00210185</td><td style = \"text-align: right;\">0.000568069</td><td style = \"text-align: right;\">0.0</td><td style = \"text-align: right;\">0.000511262</td><td style = \"text-align: right;\">0.00102252</td><td style = \"text-align: right;\">0.000539665</td><td style = \"text-align: right;\">0.0</td><td style = \"text-align: right;\">0.0</td><td style = \"text-align: right;\">0.000681683</td><td style = \"text-align: right;\">0.000369245</td><td style = \"text-align: right;\">0.0</td><td style = \"text-align: right;\">0.000142017</td><td style = \"text-align: right;\">0.000255631</td><td style = \"text-align: right;\">0.0</td><td style = \"text-align: right;\">0.000312438</td><td style = \"text-align: right;\">0.0</td><td style = \"text-align: right;\">0.0</td><td style = \"text-align: right;\">0.000482859</td><td style = \"text-align: right;\">0.0</td><td style = \"text-align: right;\">0.0</td><td style = \"text-align: right;\">0.000142017</td><td style = \"text-align: right;\">&ctdot;</td></tr><tr><td class = \"rowNumber\" style = \"font-weight: bold; text-align: right;\">13</td><td style = \"text-align: right;\">0.0615352</td><td style = \"text-align: right;\">0.122071</td><td style = \"text-align: right;\">0.0109959</td><td style = \"text-align: right;\">0.0127859</td><td style = \"text-align: right;\">0.016645</td><td style = \"text-align: right;\">0.0534685</td><td style = \"text-align: right;\">0.0181328</td><td style = \"text-align: right;\">0.02069</td><td style = \"text-align: right;\">0.0218988</td><td style = \"text-align: right;\">0.0630463</td><td style = \"text-align: right;\">0.0462154</td><td style = \"text-align: right;\">0.0114144</td><td style = \"text-align: right;\">0.0107634</td><td style = \"text-align: right;\">0.0970569</td><td style = \"text-align: right;\">0.000743909</td><td style = \"text-align: right;\">0.0314999</td><td style = \"text-align: right;\">0.074112</td><td style = \"text-align: right;\">0.00915938</td><td style = \"text-align: right;\">0.0261066</td><td style = \"text-align: right;\">0.0020225</td><td style = \"text-align: right;\">0.0077878</td><td style = \"text-align: right;\">0.00888042</td><td style = \"text-align: right;\">0.0</td><td style = \"text-align: right;\">0.00197601</td><td style = \"text-align: right;\">0.0809931</td><td style = \"text-align: right;\">0.00111586</td><td style = \"text-align: right;\">9.29887e-5</td><td style = \"text-align: right;\">0.0829459</td><td style = \"text-align: right;\">0.000650921</td><td style = \"text-align: right;\">0.00764832</td><td style = \"text-align: right;\">0.00518412</td><td style = \"text-align: right;\">0.00130184</td><td style = \"text-align: right;\">0.00636972</td><td style = \"text-align: right;\">0.0020225</td><td style = \"text-align: right;\">0.00406825</td><td style = \"text-align: right;\">0.0</td><td style = \"text-align: right;\">0.00116236</td><td style = \"text-align: right;\">4.64943e-5</td><td style = \"text-align: right;\">0.00148782</td><td style = \"text-align: right;\">0.00383578</td><td style = \"text-align: right;\">0.00548633</td><td style = \"text-align: right;\">0.00139483</td><td style = \"text-align: right;\">0.00311512</td><td style = \"text-align: right;\">0.00148782</td><td style = \"text-align: right;\">0.000302213</td><td style = \"text-align: right;\">0.000976381</td><td style = \"text-align: right;\">0.00457969</td><td style = \"text-align: right;\">0.000860145</td><td style = \"text-align: right;\">0.000302213</td><td style = \"text-align: right;\">0.00176678</td><td style = \"text-align: right;\">0.000418449</td><td style = \"text-align: right;\">0.00176678</td><td style = \"text-align: right;\">0.000929887</td><td style = \"text-align: right;\">0.0113679</td><td style = \"text-align: right;\">0.00197601</td><td style = \"text-align: right;\">0.00481216</td><td style = \"text-align: right;\">0.000650921</td><td style = \"text-align: right;\">0.00148782</td><td style = \"text-align: right;\">0.00225497</td><td style = \"text-align: right;\">0.00176678</td><td style = \"text-align: right;\">0.0012321</td><td style = \"text-align: right;\">0.000929887</td><td style = \"text-align: right;\">0.00113911</td><td style = \"text-align: right;\">0.000627673</td><td style = \"text-align: right;\">0.0</td><td style = \"text-align: right;\">0.000697415</td><td style = \"text-align: right;\">0.00141808</td><td style = \"text-align: right;\">9.29887e-5</td><td style = \"text-align: right;\">0.000999628</td><td style = \"text-align: right;\">9.29887e-5</td><td style = \"text-align: right;\">0.0</td><td style = \"text-align: right;\">0.00220848</td><td style = \"text-align: right;\">0.000395202</td><td style = \"text-align: right;\">0.00281291</td><td style = \"text-align: right;\">0.000674168</td><td style = \"text-align: right;\">0.0</td><td style = \"text-align: right;\">0.000464943</td><td style = \"text-align: right;\">0.0012321</td><td style = \"text-align: right;\">0.000627673</td><td style = \"text-align: right;\">0.00209224</td><td style = \"text-align: right;\">0.0012321</td><td style = \"text-align: right;\">0.0</td><td style = \"text-align: right;\">0.000209224</td><td style = \"text-align: right;\">0.000906639</td><td style = \"text-align: right;\">0.000674168</td><td style = \"text-align: right;\">0.0</td><td style = \"text-align: right;\">0.000278966</td><td style = \"text-align: right;\">0.0</td><td style = \"text-align: right;\">0.0</td><td style = \"text-align: right;\">0.0</td><td style = \"text-align: right;\">4.64943e-5</td><td style = \"text-align: right;\">0.000232472</td><td style = \"text-align: right;\">0.0</td><td style = \"text-align: right;\">0.000209224</td><td style = \"text-align: right;\">0.0</td><td style = \"text-align: right;\">0.0</td><td style = \"text-align: right;\">0.00016273</td><td style = \"text-align: right;\">0.0</td><td style = \"text-align: right;\">0.000139483</td><td style = \"text-align: right;\">0.000464943</td><td style = \"text-align: right;\">&ctdot;</td></tr><tr><td style = \"text-align: right;\">&vellip;</td><td style = \"text-align: right;\">&vellip;</td><td style = \"text-align: right;\">&vellip;</td><td style = \"text-align: right;\">&vellip;</td><td style = \"text-align: right;\">&vellip;</td><td style = \"text-align: right;\">&vellip;</td><td style = \"text-align: right;\">&vellip;</td><td style = \"text-align: right;\">&vellip;</td><td style = \"text-align: right;\">&vellip;</td><td style = \"text-align: right;\">&vellip;</td><td style = \"text-align: right;\">&vellip;</td><td style = \"text-align: right;\">&vellip;</td><td style = \"text-align: right;\">&vellip;</td><td style = \"text-align: right;\">&vellip;</td><td style = \"text-align: right;\">&vellip;</td><td style = \"text-align: right;\">&vellip;</td><td style = \"text-align: right;\">&vellip;</td><td style = \"text-align: right;\">&vellip;</td><td style = \"text-align: right;\">&vellip;</td><td style = \"text-align: right;\">&vellip;</td><td style = \"text-align: right;\">&vellip;</td><td style = \"text-align: right;\">&vellip;</td><td style = \"text-align: right;\">&vellip;</td><td style = \"text-align: right;\">&vellip;</td><td style = \"text-align: right;\">&vellip;</td><td style = \"text-align: right;\">&vellip;</td><td style = \"text-align: right;\">&vellip;</td><td style = \"text-align: right;\">&vellip;</td><td style = \"text-align: right;\">&vellip;</td><td style = \"text-align: right;\">&vellip;</td><td style = \"text-align: right;\">&vellip;</td><td style = \"text-align: right;\">&vellip;</td><td style = \"text-align: right;\">&vellip;</td><td style = \"text-align: right;\">&vellip;</td><td style = \"text-align: right;\">&vellip;</td><td style = \"text-align: right;\">&vellip;</td><td style = \"text-align: right;\">&vellip;</td><td style = \"text-align: right;\">&vellip;</td><td style = \"text-align: right;\">&vellip;</td><td style = \"text-align: right;\">&vellip;</td><td style = \"text-align: right;\">&vellip;</td><td style = \"text-align: right;\">&vellip;</td><td style = \"text-align: right;\">&vellip;</td><td style = \"text-align: right;\">&vellip;</td><td style = \"text-align: right;\">&vellip;</td><td style = \"text-align: right;\">&vellip;</td><td style = \"text-align: right;\">&vellip;</td><td style = \"text-align: right;\">&vellip;</td><td style = \"text-align: right;\">&vellip;</td><td style = \"text-align: right;\">&vellip;</td><td style = \"text-align: right;\">&vellip;</td><td style = \"text-align: right;\">&vellip;</td><td style = \"text-align: right;\">&vellip;</td><td style = \"text-align: right;\">&vellip;</td><td style = \"text-align: right;\">&vellip;</td><td style = \"text-align: right;\">&vellip;</td><td style = \"text-align: right;\">&vellip;</td><td style = \"text-align: right;\">&vellip;</td><td style = \"text-align: right;\">&vellip;</td><td style = \"text-align: right;\">&vellip;</td><td style = \"text-align: right;\">&vellip;</td><td style = \"text-align: right;\">&vellip;</td><td style = \"text-align: right;\">&vellip;</td><td style = \"text-align: right;\">&vellip;</td><td style = \"text-align: right;\">&vellip;</td><td style = \"text-align: right;\">&vellip;</td><td style = \"text-align: right;\">&vellip;</td><td style = \"text-align: right;\">&vellip;</td><td style = \"text-align: right;\">&vellip;</td><td style = \"text-align: right;\">&vellip;</td><td style = \"text-align: right;\">&vellip;</td><td style = \"text-align: right;\">&vellip;</td><td style = \"text-align: right;\">&vellip;</td><td style = \"text-align: right;\">&vellip;</td><td style = \"text-align: right;\">&vellip;</td><td style = \"text-align: right;\">&vellip;</td><td style = \"text-align: right;\">&vellip;</td><td style = \"text-align: right;\">&vellip;</td><td style = \"text-align: right;\">&vellip;</td><td style = \"text-align: right;\">&vellip;</td><td style = \"text-align: right;\">&vellip;</td><td style = \"text-align: right;\">&vellip;</td><td style = \"text-align: right;\">&vellip;</td><td style = \"text-align: right;\">&vellip;</td><td style = \"text-align: right;\">&vellip;</td><td style = \"text-align: right;\">&vellip;</td><td style = \"text-align: right;\">&vellip;</td><td style = \"text-align: right;\">&vellip;</td><td style = \"text-align: right;\">&vellip;</td><td style = \"text-align: right;\">&vellip;</td><td style = \"text-align: right;\">&vellip;</td><td style = \"text-align: right;\">&vellip;</td><td style = \"text-align: right;\">&vellip;</td><td style = \"text-align: right;\">&vellip;</td><td style = \"text-align: right;\">&vellip;</td><td style = \"text-align: right;\">&vellip;</td><td style = \"text-align: right;\">&vellip;</td><td style = \"text-align: right;\">&vellip;</td><td style = \"text-align: right;\">&vellip;</td><td style = \"text-align: right;\">&vellip;</td><td style = \"text-align: right;\">&vellip;</td><td style = \"text-align: right;\">&dtdot;</td></tr><tr><td class = \"rowNumber\" style = \"font-weight: bold; text-align: right;\">788</td><td style = \"text-align: right;\">0.159954</td><td style = \"text-align: right;\">0.106401</td><td style = \"text-align: right;\">0.212369</td><td style = \"text-align: right;\">0.00396841</td><td style = \"text-align: right;\">0.0464422</td><td style = \"text-align: right;\">0.0166595</td><td style = \"text-align: right;\">0.000157165</td><td style = \"text-align: right;\">0.0275431</td><td style = \"text-align: right;\">0.017681</td><td style = \"text-align: right;\">0.046953</td><td style = \"text-align: right;\">0.00958705</td><td style = \"text-align: right;\">0.00208243</td><td style = \"text-align: right;\">0.00392912</td><td style = \"text-align: right;\">0.0737888</td><td style = \"text-align: right;\">0.0198028</td><td style = \"text-align: right;\">0.000235747</td><td style = \"text-align: right;\">0.139366</td><td style = \"text-align: right;\">0.0</td><td style = \"text-align: right;\">0.0249106</td><td style = \"text-align: right;\">0.00231818</td><td style = \"text-align: right;\">0.00616872</td><td style = \"text-align: right;\">0.00322188</td><td style = \"text-align: right;\">0.00149307</td><td style = \"text-align: right;\">0.00271109</td><td style = \"text-align: right;\">0.0274645</td><td style = \"text-align: right;\">0.000707241</td><td style = \"text-align: right;\">0.000510785</td><td style = \"text-align: right;\">0.0044792</td><td style = \"text-align: right;\">0.000432203</td><td style = \"text-align: right;\">0.00235747</td><td style = \"text-align: right;\">0.000864406</td><td style = \"text-align: right;\">0.0</td><td style = \"text-align: right;\">0.00247534</td><td style = \"text-align: right;\">0.000196456</td><td style = \"text-align: right;\">0.00459707</td><td style = \"text-align: right;\">0.000275038</td><td style = \"text-align: right;\">0.000196456</td><td style = \"text-align: right;\">0.00106086</td><td style = \"text-align: right;\">0.0</td><td style = \"text-align: right;\">0.00353621</td><td style = \"text-align: right;\">0.0</td><td style = \"text-align: right;\">0.000157165</td><td style = \"text-align: right;\">0.000196456</td><td style = \"text-align: right;\">0.00110015</td><td style = \"text-align: right;\">7.85824e-5</td><td style = \"text-align: right;\">0.00137519</td><td style = \"text-align: right;\">0.0</td><td style = \"text-align: right;\">0.0</td><td style = \"text-align: right;\">0.00153236</td><td style = \"text-align: right;\">0.0</td><td style = \"text-align: right;\">0.0</td><td style = \"text-align: right;\">0.0</td><td style = \"text-align: right;\">0.0</td><td style = \"text-align: right;\">0.00970492</td><td style = \"text-align: right;\">0.0</td><td style = \"text-align: right;\">0.000903697</td><td style = \"text-align: right;\">0.0</td><td style = \"text-align: right;\">0.00066795</td><td style = \"text-align: right;\">0.0035755</td><td style = \"text-align: right;\">0.0</td><td style = \"text-align: right;\">0.0</td><td style = \"text-align: right;\">0.00125732</td><td style = \"text-align: right;\">0.000117874</td><td style = \"text-align: right;\">0.0</td><td style = \"text-align: right;\">0.0</td><td style = \"text-align: right;\">0.0</td><td style = \"text-align: right;\">0.0</td><td style = \"text-align: right;\">0.0</td><td style = \"text-align: right;\">0.0</td><td style = \"text-align: right;\">0.0</td><td style = \"text-align: right;\">0.00066795</td><td style = \"text-align: right;\">0.0</td><td style = \"text-align: right;\">0.000196456</td><td style = \"text-align: right;\">0.0</td><td style = \"text-align: right;\">0.000235747</td><td style = \"text-align: right;\">0.0</td><td style = \"text-align: right;\">0.0</td><td style = \"text-align: right;\">0.0</td><td style = \"text-align: right;\">0.000275038</td><td style = \"text-align: right;\">0.000196456</td><td style = \"text-align: right;\">0.0</td><td style = \"text-align: right;\">0.000117874</td><td style = \"text-align: right;\">0.0</td><td style = \"text-align: right;\">0.0</td><td style = \"text-align: right;\">0.0</td><td style = \"text-align: right;\">0.0</td><td style = \"text-align: right;\">0.0</td><td style = \"text-align: right;\">0.0</td><td style = \"text-align: right;\">0.0</td><td style = \"text-align: right;\">0.0</td><td style = \"text-align: right;\">0.0</td><td style = \"text-align: right;\">0.0</td><td style = \"text-align: right;\">0.0</td><td style = \"text-align: right;\">0.000353621</td><td style = \"text-align: right;\">0.0</td><td style = \"text-align: right;\">0.0</td><td style = \"text-align: right;\">0.0</td><td style = \"text-align: right;\">0.0</td><td style = \"text-align: right;\">0.0</td><td style = \"text-align: right;\">0.0</td><td style = \"text-align: right;\">&ctdot;</td></tr><tr><td class = \"rowNumber\" style = \"font-weight: bold; text-align: right;\">789</td><td style = \"text-align: right;\">0.127332</td><td style = \"text-align: right;\">0.221422</td><td style = \"text-align: right;\">0.0</td><td style = \"text-align: right;\">0.00246782</td><td style = \"text-align: right;\">0.0551023</td><td style = \"text-align: right;\">0.0190243</td><td style = \"text-align: right;\">0.0</td><td style = \"text-align: right;\">0.0621558</td><td style = \"text-align: right;\">0.0241993</td><td style = \"text-align: right;\">0.0617691</td><td style = \"text-align: right;\">0.0209028</td><td style = \"text-align: right;\">0.0</td><td style = \"text-align: right;\">0.00156541</td><td style = \"text-align: right;\">0.114017</td><td style = \"text-align: right;\">0.0593013</td><td style = \"text-align: right;\">0.0</td><td style = \"text-align: right;\">0.0391352</td><td style = \"text-align: right;\">0.0211054</td><td style = \"text-align: right;\">0.0258937</td><td style = \"text-align: right;\">0.00850844</td><td style = \"text-align: right;\">0.00401481</td><td style = \"text-align: right;\">0.00497247</td><td style = \"text-align: right;\">0.032008</td><td style = \"text-align: right;\">0.00900569</td><td style = \"text-align: right;\">0.0208659</td><td style = \"text-align: right;\">0.00329656</td><td style = \"text-align: right;\">0.0</td><td style = \"text-align: right;\">0.00318606</td><td style = \"text-align: right;\">5.52496e-5</td><td style = \"text-align: right;\">0.0</td><td style = \"text-align: right;\">0.000497247</td><td style = \"text-align: right;\">0.0</td><td style = \"text-align: right;\">0.00337023</td><td style = \"text-align: right;\">0.0</td><td style = \"text-align: right;\">0.016667</td><td style = \"text-align: right;\">0.000441997</td><td style = \"text-align: right;\">0.0118603</td><td style = \"text-align: right;\">0.00209949</td><td style = \"text-align: right;\">0.0</td><td style = \"text-align: right;\">0.000110499</td><td style = \"text-align: right;\">0.0</td><td style = \"text-align: right;\">0.000184165</td><td style = \"text-align: right;\">0.0</td><td style = \"text-align: right;\">0.00145491</td><td style = \"text-align: right;\">0.000718245</td><td style = \"text-align: right;\">0.000736662</td><td style = \"text-align: right;\">5.52496e-5</td><td style = \"text-align: right;\">0.0</td><td style = \"text-align: right;\">0.00276248</td><td style = \"text-align: right;\">0.0</td><td style = \"text-align: right;\">0.0</td><td style = \"text-align: right;\">0.0</td><td style = \"text-align: right;\">0.0</td><td style = \"text-align: right;\">0.00379381</td><td style = \"text-align: right;\">0.0</td><td style = \"text-align: right;\">0.00241257</td><td style = \"text-align: right;\">0.0</td><td style = \"text-align: right;\">0.00128916</td><td style = \"text-align: right;\">0.00213632</td><td style = \"text-align: right;\">0.0</td><td style = \"text-align: right;\">0.0</td><td style = \"text-align: right;\">0.000718245</td><td style = \"text-align: right;\">0.000202582</td><td style = \"text-align: right;\">0.0</td><td style = \"text-align: right;\">0.0</td><td style = \"text-align: right;\">0.0</td><td style = \"text-align: right;\">0.000313081</td><td style = \"text-align: right;\">0.000294665</td><td style = \"text-align: right;\">0.000460414</td><td style = \"text-align: right;\">0.000257832</td><td style = \"text-align: right;\">0.00116024</td><td style = \"text-align: right;\">0.0</td><td style = \"text-align: right;\">0.0</td><td style = \"text-align: right;\">0.0</td><td style = \"text-align: right;\">0.00204424</td><td style = \"text-align: right;\">0.00053408</td><td style = \"text-align: right;\">0.0</td><td style = \"text-align: right;\">0.0</td><td style = \"text-align: right;\">0.0</td><td style = \"text-align: right;\">0.0</td><td style = \"text-align: right;\">0.0</td><td style = \"text-align: right;\">0.0</td><td style = \"text-align: right;\">0.0</td><td style = \"text-align: right;\">0.0</td><td style = \"text-align: right;\">0.0</td><td style = \"text-align: right;\">0.0</td><td style = \"text-align: right;\">0.0</td><td style = \"text-align: right;\">0.0</td><td style = \"text-align: right;\">9.20827e-5</td><td style = \"text-align: right;\">0.0</td><td style = \"text-align: right;\">0.0</td><td style = \"text-align: right;\">3.68331e-5</td><td style = \"text-align: right;\">0.0</td><td style = \"text-align: right;\">0.000976077</td><td style = \"text-align: right;\">0.0</td><td style = \"text-align: right;\">0.0</td><td style = \"text-align: right;\">0.0</td><td style = \"text-align: right;\">0.0</td><td style = \"text-align: right;\">0.000570913</td><td style = \"text-align: right;\">0.0</td><td style = \"text-align: right;\">&ctdot;</td></tr><tr><td class = \"rowNumber\" style = \"font-weight: bold; text-align: right;\">790</td><td style = \"text-align: right;\">0.103654</td><td style = \"text-align: right;\">0.102366</td><td style = \"text-align: right;\">0.028703</td><td style = \"text-align: right;\">0.00279628</td><td style = \"text-align: right;\">0.0593799</td><td style = \"text-align: right;\">0.0294706</td><td style = \"text-align: right;\">0.0131316</td><td style = \"text-align: right;\">0.0433698</td><td style = \"text-align: right;\">0.0323217</td><td style = \"text-align: right;\">0.0583655</td><td style = \"text-align: right;\">0.0440277</td><td style = \"text-align: right;\">0.00529101</td><td style = \"text-align: right;\">0.020369</td><td style = \"text-align: right;\">0.0825726</td><td style = \"text-align: right;\">0.0247827</td><td style = \"text-align: right;\">0.00466047</td><td style = \"text-align: right;\">0.0584204</td><td style = \"text-align: right;\">0.0860268</td><td style = \"text-align: right;\">0.0224251</td><td style = \"text-align: right;\">0.00975957</td><td style = \"text-align: right;\">0.0102256</td><td style = \"text-align: right;\">0.0286208</td><td style = \"text-align: right;\">0.00115141</td><td style = \"text-align: right;\">0.00529101</td><td style = \"text-align: right;\">0.0409299</td><td style = \"text-align: right;\">0.00224799</td><td style = \"text-align: right;\">0.00367355</td><td style = \"text-align: right;\">0.0176824</td><td style = \"text-align: right;\">0.00030156</td><td style = \"text-align: right;\">0.0129122</td><td style = \"text-align: right;\">0.000383803</td><td style = \"text-align: right;\">0.001124</td><td style = \"text-align: right;\">0.00531842</td><td style = \"text-align: right;\">0.000795022</td><td style = \"text-align: right;\">0.00605861</td><td style = \"text-align: right;\">0.000274145</td><td style = \"text-align: right;\">0.00318009</td><td style = \"text-align: right;\">0.000246731</td><td style = \"text-align: right;\">0.000274145</td><td style = \"text-align: right;\">0.000383803</td><td style = \"text-align: right;\">0.0</td><td style = \"text-align: right;\">0.0</td><td style = \"text-align: right;\">0.0</td><td style = \"text-align: right;\">0.00254955</td><td style = \"text-align: right;\">0.00115141</td><td style = \"text-align: right;\">0.000932094</td><td style = \"text-align: right;\">0.00060312</td><td style = \"text-align: right;\">0.0</td><td style = \"text-align: right;\">0.00191902</td><td style = \"text-align: right;\">0.0</td><td style = \"text-align: right;\">0.0</td><td style = \"text-align: right;\">0.0</td><td style = \"text-align: right;\">0.0</td><td style = \"text-align: right;\">0.00331716</td><td style = \"text-align: right;\">0.0</td><td style = \"text-align: right;\">0.00202868</td><td style = \"text-align: right;\">0.00134331</td><td style = \"text-align: right;\">0.00126107</td><td style = \"text-align: right;\">0.00422184</td><td style = \"text-align: right;\">0.0</td><td style = \"text-align: right;\">0.000191902</td><td style = \"text-align: right;\">0.00120624</td><td style = \"text-align: right;\">0.0</td><td style = \"text-align: right;\">0.000246731</td><td style = \"text-align: right;\">0.0</td><td style = \"text-align: right;\">0.000328974</td><td style = \"text-align: right;\">0.000548291</td><td style = \"text-align: right;\">0.0</td><td style = \"text-align: right;\">0.000109658</td><td style = \"text-align: right;\">0.000520876</td><td style = \"text-align: right;\">0.000959509</td><td style = \"text-align: right;\">0.0</td><td style = \"text-align: right;\">0.000383803</td><td style = \"text-align: right;\">0.0</td><td style = \"text-align: right;\">0.000164487</td><td style = \"text-align: right;\">0.000109658</td><td style = \"text-align: right;\">0.000383803</td><td style = \"text-align: right;\">0.0</td><td style = \"text-align: right;\">0.000191902</td><td style = \"text-align: right;\">0.0</td><td style = \"text-align: right;\">0.0</td><td style = \"text-align: right;\">0.00090468</td><td style = \"text-align: right;\">0.0</td><td style = \"text-align: right;\">0.000109658</td><td style = \"text-align: right;\">0.0</td><td style = \"text-align: right;\">0.0</td><td style = \"text-align: right;\">0.000164487</td><td style = \"text-align: right;\">0.0</td><td style = \"text-align: right;\">0.000109658</td><td style = \"text-align: right;\">0.0</td><td style = \"text-align: right;\">8.22436e-5</td><td style = \"text-align: right;\">0.0</td><td style = \"text-align: right;\">0.0</td><td style = \"text-align: right;\">0.000493462</td><td style = \"text-align: right;\">0.0</td><td style = \"text-align: right;\">0.0</td><td style = \"text-align: right;\">0.0</td><td style = \"text-align: right;\">5.48291e-5</td><td style = \"text-align: right;\">0.000383803</td><td style = \"text-align: right;\">0.0</td><td style = \"text-align: right;\">&ctdot;</td></tr><tr><td class = \"rowNumber\" style = \"font-weight: bold; text-align: right;\">791</td><td style = \"text-align: right;\">0.123098</td><td style = \"text-align: right;\">0.183496</td><td style = \"text-align: right;\">0.0175771</td><td style = \"text-align: right;\">0.00545094</td><td style = \"text-align: right;\">0.147205</td><td style = \"text-align: right;\">0.0199091</td><td style = \"text-align: right;\">0.0</td><td style = \"text-align: right;\">0.0275754</td><td style = \"text-align: right;\">0.0393517</td><td style = \"text-align: right;\">0.045648</td><td style = \"text-align: right;\">0.0205212</td><td style = \"text-align: right;\">0.0</td><td style = \"text-align: right;\">0.00215706</td><td style = \"text-align: right;\">0.119367</td><td style = \"text-align: right;\">0.0540139</td><td style = \"text-align: right;\">0.000116598</td><td style = \"text-align: right;\">0.0409258</td><td style = \"text-align: right;\">0.0183641</td><td style = \"text-align: right;\">0.0182184</td><td style = \"text-align: right;\">0.00722906</td><td style = \"text-align: right;\">0.00798694</td><td style = \"text-align: right;\">0.010727</td><td style = \"text-align: right;\">0.0108727</td><td style = \"text-align: right;\">0.00390602</td><td style = \"text-align: right;\">0.0146913</td><td style = \"text-align: right;\">0.00209876</td><td style = \"text-align: right;\">0.0</td><td style = \"text-align: right;\">0.0099108</td><td style = \"text-align: right;\">0.0</td><td style = \"text-align: right;\">0.0</td><td style = \"text-align: right;\">0.00110768</td><td style = \"text-align: right;\">0.0</td><td style = \"text-align: right;\">0.00685011</td><td style = \"text-align: right;\">0.000466391</td><td style = \"text-align: right;\">0.0103189</td><td style = \"text-align: right;\">0.000291494</td><td style = \"text-align: right;\">0.00577159</td><td style = \"text-align: right;\">0.00227365</td><td style = \"text-align: right;\">0.000145747</td><td style = \"text-align: right;\">0.00052469</td><td style = \"text-align: right;\">0.0</td><td style = \"text-align: right;\">0.0</td><td style = \"text-align: right;\">0.0</td><td style = \"text-align: right;\">0.00198216</td><td style = \"text-align: right;\">0.000874483</td><td style = \"text-align: right;\">0.000291494</td><td style = \"text-align: right;\">0.000320644</td><td style = \"text-align: right;\">0.0</td><td style = \"text-align: right;\">0.00171982</td><td style = \"text-align: right;\">0.0</td><td style = \"text-align: right;\">0.0</td><td style = \"text-align: right;\">0.0</td><td style = \"text-align: right;\">0.000174897</td><td style = \"text-align: right;\">0.00381857</td><td style = \"text-align: right;\">0.0</td><td style = \"text-align: right;\">0.00332303</td><td style = \"text-align: right;\">0.0</td><td style = \"text-align: right;\">0.000816184</td><td style = \"text-align: right;\">0.00250685</td><td style = \"text-align: right;\">0.0</td><td style = \"text-align: right;\">0.0</td><td style = \"text-align: right;\">0.00125343</td><td style = \"text-align: right;\">0.0</td><td style = \"text-align: right;\">0.0</td><td style = \"text-align: right;\">0.0</td><td style = \"text-align: right;\">0.0</td><td style = \"text-align: right;\">0.000320644</td><td style = \"text-align: right;\">0.0</td><td style = \"text-align: right;\">0.000320644</td><td style = \"text-align: right;\">0.000378942</td><td style = \"text-align: right;\">0.000349793</td><td style = \"text-align: right;\">0.0</td><td style = \"text-align: right;\">0.000553839</td><td style = \"text-align: right;\">0.0</td><td style = \"text-align: right;\">0.000699586</td><td style = \"text-align: right;\">0.0</td><td style = \"text-align: right;\">0.0</td><td style = \"text-align: right;\">0.0</td><td style = \"text-align: right;\">0.000233195</td><td style = \"text-align: right;\">0.0</td><td style = \"text-align: right;\">0.0</td><td style = \"text-align: right;\">0.000349793</td><td style = \"text-align: right;\">0.0</td><td style = \"text-align: right;\">0.0</td><td style = \"text-align: right;\">0.0</td><td style = \"text-align: right;\">0.0</td><td style = \"text-align: right;\">0.0</td><td style = \"text-align: right;\">0.0</td><td style = \"text-align: right;\">0.0</td><td style = \"text-align: right;\">0.0</td><td style = \"text-align: right;\">0.0</td><td style = \"text-align: right;\">0.0</td><td style = \"text-align: right;\">0.0</td><td style = \"text-align: right;\">0.00102023</td><td style = \"text-align: right;\">0.0</td><td style = \"text-align: right;\">0.0</td><td style = \"text-align: right;\">0.0</td><td style = \"text-align: right;\">0.0</td><td style = \"text-align: right;\">0.0</td><td style = \"text-align: right;\">0.0</td><td style = \"text-align: right;\">&ctdot;</td></tr><tr><td class = \"rowNumber\" style = \"font-weight: bold; text-align: right;\">792</td><td style = \"text-align: right;\">0.0843244</td><td style = \"text-align: right;\">0.524376</td><td style = \"text-align: right;\">0.0721633</td><td style = \"text-align: right;\">0.0248045</td><td style = \"text-align: right;\">0.0</td><td style = \"text-align: right;\">0.0</td><td style = \"text-align: right;\">0.00166077</td><td style = \"text-align: right;\">0.014947</td><td style = \"text-align: right;\">0.0357334</td><td style = \"text-align: right;\">0.012429</td><td style = \"text-align: right;\">0.00267867</td><td style = \"text-align: right;\">0.000535733</td><td style = \"text-align: right;\">0.00503589</td><td style = \"text-align: right;\">0.102057</td><td style = \"text-align: right;\">0.0762884</td><td style = \"text-align: right;\">0.000857173</td><td style = \"text-align: right;\">0.0</td><td style = \"text-align: right;\">0.0</td><td style = \"text-align: right;\">0.0</td><td style = \"text-align: right;\">0.000107147</td><td style = \"text-align: right;\">0.0</td><td style = \"text-align: right;\">0.00144648</td><td style = \"text-align: right;\">0.0368585</td><td style = \"text-align: right;\">0.0</td><td style = \"text-align: right;\">0.0</td><td style = \"text-align: right;\">0.0</td><td style = \"text-align: right;\">0.0</td><td style = \"text-align: right;\">0.00171435</td><td style = \"text-align: right;\">0.0</td><td style = \"text-align: right;\">0.0</td><td style = \"text-align: right;\">0.0</td><td style = \"text-align: right;\">0.00016072</td><td style = \"text-align: right;\">0.0</td><td style = \"text-align: right;\">0.0</td><td style = \"text-align: right;\">0.0</td><td style = \"text-align: right;\">0.0</td><td style = \"text-align: right;\">0.0</td><td style = \"text-align: right;\">0.0</td><td style = \"text-align: right;\">0.0</td><td style = \"text-align: right;\">0.0</td><td style = \"text-align: right;\">0.0</td><td style = \"text-align: right;\">0.000375013</td><td style = \"text-align: right;\">0.0</td><td style = \"text-align: right;\">0.0</td><td style = \"text-align: right;\">0.00032144</td><td style = \"text-align: right;\">0.0</td><td style = \"text-align: right;\">0.0</td><td style = \"text-align: right;\">0.0</td><td style = \"text-align: right;\">0.0</td><td style = \"text-align: right;\">0.0</td><td style = \"text-align: right;\">0.0</td><td style = \"text-align: right;\">0.0</td><td style = \"text-align: right;\">0.0</td><td style = \"text-align: right;\">0.000214293</td><td style = \"text-align: right;\">0.0</td><td style = \"text-align: right;\">0.000535733</td><td style = \"text-align: right;\">0.0</td><td style = \"text-align: right;\">0.0</td><td style = \"text-align: right;\">0.00016072</td><td style = \"text-align: right;\">0.0</td><td style = \"text-align: right;\">0.0</td><td style = \"text-align: right;\">0.0</td><td style = \"text-align: right;\">0.0</td><td style = \"text-align: right;\">0.0</td><td style = \"text-align: right;\">0.0</td><td style = \"text-align: right;\">0.0</td><td style = \"text-align: right;\">0.0</td><td style = \"text-align: right;\">0.0</td><td style = \"text-align: right;\">0.0</td><td style = \"text-align: right;\">0.0</td><td style = \"text-align: right;\">0.0</td><td style = \"text-align: right;\">0.0</td><td style = \"text-align: right;\">0.0</td><td style = \"text-align: right;\">0.0</td><td style = \"text-align: right;\">0.0</td><td style = \"text-align: right;\">0.0</td><td style = \"text-align: right;\">0.0</td><td style = \"text-align: right;\">0.0</td><td style = \"text-align: right;\">0.0</td><td style = \"text-align: right;\">0.0</td><td style = \"text-align: right;\">0.0</td><td style = \"text-align: right;\">0.0</td><td style = \"text-align: right;\">0.0</td><td style = \"text-align: right;\">0.0</td><td style = \"text-align: right;\">0.0</td><td style = \"text-align: right;\">0.0</td><td style = \"text-align: right;\">0.0</td><td style = \"text-align: right;\">0.0</td><td style = \"text-align: right;\">0.0</td><td style = \"text-align: right;\">0.0</td><td style = \"text-align: right;\">0.0</td><td style = \"text-align: right;\">0.0</td><td style = \"text-align: right;\">0.0</td><td style = \"text-align: right;\">0.0</td><td style = \"text-align: right;\">0.0</td><td style = \"text-align: right;\">0.000214293</td><td style = \"text-align: right;\">0.0</td><td style = \"text-align: right;\">0.0</td><td style = \"text-align: right;\">0.0</td><td style = \"text-align: right;\">0.0</td><td style = \"text-align: right;\">&ctdot;</td></tr><tr><td class = \"rowNumber\" style = \"font-weight: bold; text-align: right;\">793</td><td style = \"text-align: right;\">0.0833333</td><td style = \"text-align: right;\">0.0127119</td><td style = \"text-align: right;\">0.298365</td><td style = \"text-align: right;\">0.00676254</td><td style = \"text-align: right;\">0.0314159</td><td style = \"text-align: right;\">0.00269646</td><td style = \"text-align: right;\">0.00226845</td><td style = \"text-align: right;\">0.0</td><td style = \"text-align: right;\">0.0574816</td><td style = \"text-align: right;\">0.181433</td><td style = \"text-align: right;\">0.0170776</td><td style = \"text-align: right;\">0.00393768</td><td style = \"text-align: right;\">0.00248245</td><td style = \"text-align: right;\">0.0672402</td><td style = \"text-align: right;\">0.0112566</td><td style = \"text-align: right;\">0.00261085</td><td style = \"text-align: right;\">0.138076</td><td style = \"text-align: right;\">0.0</td><td style = \"text-align: right;\">0.00569252</td><td style = \"text-align: right;\">0.00128403</td><td style = \"text-align: right;\">0.0141671</td><td style = \"text-align: right;\">0.0192604</td><td style = \"text-align: right;\">0.0</td><td style = \"text-align: right;\">0.0</td><td style = \"text-align: right;\">0.0158363</td><td style = \"text-align: right;\">0.000214004</td><td style = \"text-align: right;\">0.00098442</td><td style = \"text-align: right;\">0.00141243</td><td style = \"text-align: right;\">0.0</td><td style = \"text-align: right;\">0.000813217</td><td style = \"text-align: right;\">0.0</td><td style = \"text-align: right;\">0.0</td><td style = \"text-align: right;\">0.00265366</td><td style = \"text-align: right;\">0.0</td><td style = \"text-align: right;\">0.00633453</td><td style = \"text-align: right;\">0.0</td><td style = \"text-align: right;\">0.000684814</td><td style = \"text-align: right;\">0.000171204</td><td style = \"text-align: right;\">0.000128403</td><td style = \"text-align: right;\">8.56018e-5</td><td style = \"text-align: right;\">0.0</td><td style = \"text-align: right;\">0.000214004</td><td style = \"text-align: right;\">0.0</td><td style = \"text-align: right;\">0.0</td><td style = \"text-align: right;\">0.000556412</td><td style = \"text-align: right;\">0.0</td><td style = \"text-align: right;\">0.0</td><td style = \"text-align: right;\">0.0</td><td style = \"text-align: right;\">0.0</td><td style = \"text-align: right;\">0.0</td><td style = \"text-align: right;\">0.0</td><td style = \"text-align: right;\">0.0</td><td style = \"text-align: right;\">0.00047081</td><td style = \"text-align: right;\">0.0</td><td style = \"text-align: right;\">0.0</td><td style = \"text-align: right;\">0.00226845</td><td style = \"text-align: right;\">0.0</td><td style = \"text-align: right;\">0.000256805</td><td style = \"text-align: right;\">0.00385208</td><td style = \"text-align: right;\">0.0</td><td style = \"text-align: right;\">0.0</td><td style = \"text-align: right;\">0.000214004</td><td style = \"text-align: right;\">0.0</td><td style = \"text-align: right;\">0.0</td><td style = \"text-align: right;\">0.0</td><td style = \"text-align: right;\">0.0</td><td style = \"text-align: right;\">0.000556412</td><td style = \"text-align: right;\">0.0</td><td style = \"text-align: right;\">0.0</td><td style = \"text-align: right;\">0.0</td><td style = \"text-align: right;\">0.0</td><td style = \"text-align: right;\">0.0</td><td style = \"text-align: right;\">0.0</td><td style = \"text-align: right;\">0.0</td><td style = \"text-align: right;\">0.000171204</td><td style = \"text-align: right;\">0.0</td><td style = \"text-align: right;\">0.000256805</td><td style = \"text-align: right;\">0.0</td><td style = \"text-align: right;\">0.0</td><td style = \"text-align: right;\">0.0</td><td style = \"text-align: right;\">0.0</td><td style = \"text-align: right;\">0.00154083</td><td style = \"text-align: right;\">0.0</td><td style = \"text-align: right;\">0.0</td><td style = \"text-align: right;\">0.0</td><td style = \"text-align: right;\">0.0</td><td style = \"text-align: right;\">0.0</td><td style = \"text-align: right;\">0.0</td><td style = \"text-align: right;\">8.56018e-5</td><td style = \"text-align: right;\">0.0</td><td style = \"text-align: right;\">0.000556412</td><td style = \"text-align: right;\">0.0</td><td style = \"text-align: right;\">0.0</td><td style = \"text-align: right;\">0.000128403</td><td style = \"text-align: right;\">0.0</td><td style = \"text-align: right;\">0.0</td><td style = \"text-align: right;\">0.0</td><td style = \"text-align: right;\">0.0</td><td style = \"text-align: right;\">0.0</td><td style = \"text-align: right;\">0.0</td><td style = \"text-align: right;\">&ctdot;</td></tr><tr><td class = \"rowNumber\" style = \"font-weight: bold; text-align: right;\">794</td><td style = \"text-align: right;\">0.136262</td><td style = \"text-align: right;\">0.0</td><td style = \"text-align: right;\">0.190514</td><td style = \"text-align: right;\">0.00223794</td><td style = \"text-align: right;\">0.109407</td><td style = \"text-align: right;\">0.0244008</td><td style = \"text-align: right;\">0.0141135</td><td style = \"text-align: right;\">0.0669217</td><td style = \"text-align: right;\">0.0447228</td><td style = \"text-align: right;\">0.0253754</td><td style = \"text-align: right;\">0.0381172</td><td style = \"text-align: right;\">0.00815767</td><td style = \"text-align: right;\">0.0213327</td><td style = \"text-align: right;\">0.0460222</td><td style = \"text-align: right;\">0.0130306</td><td style = \"text-align: right;\">0.00747185</td><td style = \"text-align: right;\">0.0360237</td><td style = \"text-align: right;\">0.0263861</td><td style = \"text-align: right;\">0.0184089</td><td style = \"text-align: right;\">0.00566705</td><td style = \"text-align: right;\">0.00887958</td><td style = \"text-align: right;\">0.0267109</td><td style = \"text-align: right;\">0.00169651</td><td style = \"text-align: right;\">0.00151603</td><td style = \"text-align: right;\">0.0533136</td><td style = \"text-align: right;\">0.000902397</td><td style = \"text-align: right;\">0.00310424</td><td style = \"text-align: right;\">0.0235706</td><td style = \"text-align: right;\">0.00194918</td><td style = \"text-align: right;\">0.000360959</td><td style = \"text-align: right;\">0.00162431</td><td style = \"text-align: right;\">0.00209356</td><td style = \"text-align: right;\">0.00342911</td><td style = \"text-align: right;\">0.00111897</td><td style = \"text-align: right;\">0.0043676</td><td style = \"text-align: right;\">0.0</td><td style = \"text-align: right;\">0.000685822</td><td style = \"text-align: right;\">0.000938493</td><td style = \"text-align: right;\">0.000685822</td><td style = \"text-align: right;\">0.00151603</td><td style = \"text-align: right;\">0.0</td><td style = \"text-align: right;\">0.0</td><td style = \"text-align: right;\">0.0</td><td style = \"text-align: right;\">0.00220185</td><td style = \"text-align: right;\">0.000469246</td><td style = \"text-align: right;\">0.00133555</td><td style = \"text-align: right;\">0.000902397</td><td style = \"text-align: right;\">0.0</td><td style = \"text-align: right;\">0.00043315</td><td style = \"text-align: right;\">0.0</td><td style = \"text-align: right;\">0.0</td><td style = \"text-align: right;\">0.0</td><td style = \"text-align: right;\">0.0</td><td style = \"text-align: right;\">0.0061363</td><td style = \"text-align: right;\">0.0</td><td style = \"text-align: right;\">0.00187699</td><td style = \"text-align: right;\">0.00198527</td><td style = \"text-align: right;\">0.000685822</td><td style = \"text-align: right;\">0.000794109</td><td style = \"text-align: right;\">0.0</td><td style = \"text-align: right;\">0.000144383</td><td style = \"text-align: right;\">0.00147993</td><td style = \"text-align: right;\">0.000288767</td><td style = \"text-align: right;\">0.000721917</td><td style = \"text-align: right;\">0.0</td><td style = \"text-align: right;\">0.000902397</td><td style = \"text-align: right;\">0.00169651</td><td style = \"text-align: right;\">0.0</td><td style = \"text-align: right;\">0.000541438</td><td style = \"text-align: right;\">0.000397055</td><td style = \"text-align: right;\">0.0</td><td style = \"text-align: right;\">0.0</td><td style = \"text-align: right;\">0.0</td><td style = \"text-align: right;\">0.0</td><td style = \"text-align: right;\">0.000252671</td><td style = \"text-align: right;\">0.0</td><td style = \"text-align: right;\">0.000144383</td><td style = \"text-align: right;\">0.0</td><td style = \"text-align: right;\">0.00043315</td><td style = \"text-align: right;\">0.0</td><td style = \"text-align: right;\">0.0</td><td style = \"text-align: right;\">0.000505342</td><td style = \"text-align: right;\">0.0</td><td style = \"text-align: right;\">0.000902397</td><td style = \"text-align: right;\">0.0</td><td style = \"text-align: right;\">0.0</td><td style = \"text-align: right;\">0.000360959</td><td style = \"text-align: right;\">0.0</td><td style = \"text-align: right;\">0.0</td><td style = \"text-align: right;\">0.0</td><td style = \"text-align: right;\">0.0</td><td style = \"text-align: right;\">0.0</td><td style = \"text-align: right;\">7.21917e-5</td><td style = \"text-align: right;\">0.000397055</td><td style = \"text-align: right;\">0.0</td><td style = \"text-align: right;\">0.0</td><td style = \"text-align: right;\">0.0</td><td style = \"text-align: right;\">0.0</td><td style = \"text-align: right;\">0.0</td><td style = \"text-align: right;\">0.0</td><td style = \"text-align: right;\">&ctdot;</td></tr><tr><td class = \"rowNumber\" style = \"font-weight: bold; text-align: right;\">795</td><td style = \"text-align: right;\">0.106573</td><td style = \"text-align: right;\">0.157907</td><td style = \"text-align: right;\">0.0222393</td><td style = \"text-align: right;\">0.00937932</td><td style = \"text-align: right;\">0.0955202</td><td style = \"text-align: right;\">0.0226645</td><td style = \"text-align: right;\">0.00690828</td><td style = \"text-align: right;\">0.0339834</td><td style = \"text-align: right;\">0.0485439</td><td style = \"text-align: right;\">0.0447178</td><td style = \"text-align: right;\">0.0279254</td><td style = \"text-align: right;\">0.00531406</td><td style = \"text-align: right;\">0.00688171</td><td style = \"text-align: right;\">0.115661</td><td style = \"text-align: right;\">0.0257201</td><td style = \"text-align: right;\">0.00231162</td><td style = \"text-align: right;\">0.0592252</td><td style = \"text-align: right;\">0.0195292</td><td style = \"text-align: right;\">0.0156499</td><td style = \"text-align: right;\">0.00677543</td><td style = \"text-align: right;\">0.00417154</td><td style = \"text-align: right;\">0.0183335</td><td style = \"text-align: right;\">0.0124083</td><td style = \"text-align: right;\">0.00324158</td><td style = \"text-align: right;\">0.0274737</td><td style = \"text-align: right;\">0.00159422</td><td style = \"text-align: right;\">0.0</td><td style = \"text-align: right;\">0.0218142</td><td style = \"text-align: right;\">0.000478265</td><td style = \"text-align: right;\">0.0</td><td style = \"text-align: right;\">0.00154108</td><td style = \"text-align: right;\">0.000664258</td><td style = \"text-align: right;\">0.00645658</td><td style = \"text-align: right;\">0.0014348</td><td style = \"text-align: right;\">0.0146402</td><td style = \"text-align: right;\">0.000451695</td><td style = \"text-align: right;\">0.00499522</td><td style = \"text-align: right;\">0.0017005</td><td style = \"text-align: right;\">0.0</td><td style = \"text-align: right;\">0.000478265</td><td style = \"text-align: right;\">0.0</td><td style = \"text-align: right;\">5.31406e-5</td><td style = \"text-align: right;\">0.000531406</td><td style = \"text-align: right;\">0.00935275</td><td style = \"text-align: right;\">0.000451695</td><td style = \"text-align: right;\">0.00132852</td><td style = \"text-align: right;\">0.0</td><td style = \"text-align: right;\">0.0</td><td style = \"text-align: right;\">0.00342757</td><td style = \"text-align: right;\">0.0</td><td style = \"text-align: right;\">0.0</td><td style = \"text-align: right;\">0.0</td><td style = \"text-align: right;\">0.000371984</td><td style = \"text-align: right;\">0.0112127</td><td style = \"text-align: right;\">0.0</td><td style = \"text-align: right;\">0.00215219</td><td style = \"text-align: right;\">0.000371984</td><td style = \"text-align: right;\">0.00276331</td><td style = \"text-align: right;\">0.00207248</td><td style = \"text-align: right;\">0.0</td><td style = \"text-align: right;\">0.0</td><td style = \"text-align: right;\">0.00103624</td><td style = \"text-align: right;\">0.000239133</td><td style = \"text-align: right;\">0.0</td><td style = \"text-align: right;\">7.97109e-5</td><td style = \"text-align: right;\">0.0</td><td style = \"text-align: right;\">0.00116909</td><td style = \"text-align: right;\">0.0</td><td style = \"text-align: right;\">0.000956531</td><td style = \"text-align: right;\">0.000185992</td><td style = \"text-align: right;\">0.000557976</td><td style = \"text-align: right;\">0.0</td><td style = \"text-align: right;\">0.000504836</td><td style = \"text-align: right;\">0.0</td><td style = \"text-align: right;\">0.00111595</td><td style = \"text-align: right;\">0.000185992</td><td style = \"text-align: right;\">0.000797109</td><td style = \"text-align: right;\">0.0</td><td style = \"text-align: right;\">0.000159422</td><td style = \"text-align: right;\">0.0</td><td style = \"text-align: right;\">0.0</td><td style = \"text-align: right;\">0.0</td><td style = \"text-align: right;\">0.0</td><td style = \"text-align: right;\">0.0</td><td style = \"text-align: right;\">0.0</td><td style = \"text-align: right;\">0.0</td><td style = \"text-align: right;\">0.0</td><td style = \"text-align: right;\">0.0</td><td style = \"text-align: right;\">0.0</td><td style = \"text-align: right;\">0.0</td><td style = \"text-align: right;\">5.31406e-5</td><td style = \"text-align: right;\">0.000265703</td><td style = \"text-align: right;\">0.000212562</td><td style = \"text-align: right;\">0.00119566</td><td style = \"text-align: right;\">5.31406e-5</td><td style = \"text-align: right;\">0.0</td><td style = \"text-align: right;\">0.0</td><td style = \"text-align: right;\">0.0</td><td style = \"text-align: right;\">0.000637687</td><td style = \"text-align: right;\">0.0</td><td style = \"text-align: right;\">&ctdot;</td></tr><tr><td class = \"rowNumber\" style = \"font-weight: bold; text-align: right;\">796</td><td style = \"text-align: right;\">0.0455488</td><td style = \"text-align: right;\">0.174794</td><td style = \"text-align: right;\">0.0148373</td><td style = \"text-align: right;\">0.00883089</td><td style = \"text-align: right;\">0.0</td><td style = \"text-align: right;\">0.0359671</td><td style = \"text-align: right;\">0.0260636</td><td style = \"text-align: right;\">0.0565606</td><td style = \"text-align: right;\">0.0376832</td><td style = \"text-align: right;\">0.0338935</td><td style = \"text-align: right;\">0.0523418</td><td style = \"text-align: right;\">0.0158742</td><td style = \"text-align: right;\">0.0120129</td><td style = \"text-align: right;\">0.103647</td><td style = \"text-align: right;\">0.00643547</td><td style = \"text-align: right;\">0.0272077</td><td style = \"text-align: right;\">0.0739364</td><td style = \"text-align: right;\">0.0104755</td><td style = \"text-align: right;\">0.0275652</td><td style = \"text-align: right;\">0.00107258</td><td style = \"text-align: right;\">0.00661423</td><td style = \"text-align: right;\">0.00568466</td><td style = \"text-align: right;\">0.0</td><td style = \"text-align: right;\">0.00364676</td><td style = \"text-align: right;\">0.0733286</td><td style = \"text-align: right;\">0.00243118</td><td style = \"text-align: right;\">0.000536289</td><td style = \"text-align: right;\">0.0539864</td><td style = \"text-align: right;\">0.000607794</td><td style = \"text-align: right;\">0.00489811</td><td style = \"text-align: right;\">0.00743654</td><td style = \"text-align: right;\">0.00260994</td><td style = \"text-align: right;\">0.0068645</td><td style = \"text-align: right;\">0.00207365</td><td style = \"text-align: right;\">0.00418305</td><td style = \"text-align: right;\">0.0</td><td style = \"text-align: right;\">0.00178763</td><td style = \"text-align: right;\">0.0</td><td style = \"text-align: right;\">0.00207365</td><td style = \"text-align: right;\">0.00289596</td><td style = \"text-align: right;\">0.00325349</td><td style = \"text-align: right;\">0.0020379</td><td style = \"text-align: right;\">0.00446907</td><td style = \"text-align: right;\">0.000643547</td><td style = \"text-align: right;\">0.000178763</td><td style = \"text-align: right;\">0.000750804</td><td style = \"text-align: right;\">0.00361101</td><td style = \"text-align: right;\">0.0</td><td style = \"text-align: right;\">0.000286021</td><td style = \"text-align: right;\">0.00289596</td><td style = \"text-align: right;\">0.000321773</td><td style = \"text-align: right;\">0.00125134</td><td style = \"text-align: right;\">0.00157311</td><td style = \"text-align: right;\">0.00682875</td><td style = \"text-align: right;\">0.00100107</td><td style = \"text-align: right;\">0.00189489</td><td style = \"text-align: right;\">0.0</td><td style = \"text-align: right;\">0.00160887</td><td style = \"text-align: right;\">0.000536289</td><td style = \"text-align: right;\">0.00100107</td><td style = \"text-align: right;\">0.000250268</td><td style = \"text-align: right;\">0.000250268</td><td style = \"text-align: right;\">0.00082231</td><td style = \"text-align: right;\">0.000357526</td><td style = \"text-align: right;\">0.0</td><td style = \"text-align: right;\">0.000786557</td><td style = \"text-align: right;\">0.00325349</td><td style = \"text-align: right;\">0.0</td><td style = \"text-align: right;\">0.000679299</td><td style = \"text-align: right;\">0.000214516</td><td style = \"text-align: right;\">7.15052e-5</td><td style = \"text-align: right;\">0.000536289</td><td style = \"text-align: right;\">0.00110833</td><td style = \"text-align: right;\">0.00239542</td><td style = \"text-align: right;\">0.000464784</td><td style = \"text-align: right;\">0.0</td><td style = \"text-align: right;\">0.000679299</td><td style = \"text-align: right;\">0.00103683</td><td style = \"text-align: right;\">0.000679299</td><td style = \"text-align: right;\">0.00117984</td><td style = \"text-align: right;\">0.000500536</td><td style = \"text-align: right;\">0.000357526</td><td style = \"text-align: right;\">0.000250268</td><td style = \"text-align: right;\">0.000464784</td><td style = \"text-align: right;\">0.000250268</td><td style = \"text-align: right;\">0.0</td><td style = \"text-align: right;\">0.000286021</td><td style = \"text-align: right;\">0.0</td><td style = \"text-align: right;\">0.0</td><td style = \"text-align: right;\">0.0</td><td style = \"text-align: right;\">0.000107258</td><td style = \"text-align: right;\">0.0</td><td style = \"text-align: right;\">0.0</td><td style = \"text-align: right;\">0.000214516</td><td style = \"text-align: right;\">0.0</td><td style = \"text-align: right;\">0.0</td><td style = \"text-align: right;\">0.0</td><td style = \"text-align: right;\">0.000357526</td><td style = \"text-align: right;\">0.0</td><td style = \"text-align: right;\">0.00014301</td><td style = \"text-align: right;\">&ctdot;</td></tr><tr><td class = \"rowNumber\" style = \"font-weight: bold; text-align: right;\">797</td><td style = \"text-align: right;\">0.180272</td><td style = \"text-align: right;\">0.0279302</td><td style = \"text-align: right;\">0.298254</td><td style = \"text-align: right;\">0.00160709</td><td style = \"text-align: right;\">0.0826268</td><td style = \"text-align: right;\">0.0145193</td><td style = \"text-align: right;\">0.00958714</td><td style = \"text-align: right;\">0.0503741</td><td style = \"text-align: right;\">0.0315323</td><td style = \"text-align: right;\">0.0660571</td><td style = \"text-align: right;\">0.0218897</td><td style = \"text-align: right;\">0.00371294</td><td style = \"text-align: right;\">0.00725963</td><td style = \"text-align: right;\">0.0425603</td><td style = \"text-align: right;\">0.031366</td><td style = \"text-align: right;\">0.00232751</td><td style = \"text-align: right;\">0.000498753</td><td style = \"text-align: right;\">0.00559712</td><td style = \"text-align: right;\">0.0216681</td><td style = \"text-align: right;\">0.00642837</td><td style = \"text-align: right;\">0.00543087</td><td style = \"text-align: right;\">0.0137434</td><td style = \"text-align: right;\">0.00315877</td><td style = \"text-align: right;\">0.00399002</td><td style = \"text-align: right;\">0.0309227</td><td style = \"text-align: right;\">0.00105292</td><td style = \"text-align: right;\">0.000720421</td><td style = \"text-align: right;\">0.0117484</td><td style = \"text-align: right;\">0.0</td><td style = \"text-align: right;\">0.000886672</td><td style = \"text-align: right;\">0.000775838</td><td style = \"text-align: right;\">0.000665004</td><td style = \"text-align: right;\">0.00304794</td><td style = \"text-align: right;\">0.000720421</td><td style = \"text-align: right;\">0.00105292</td><td style = \"text-align: right;\">0.0</td><td style = \"text-align: right;\">0.00426711</td><td style = \"text-align: right;\">0.0019396</td><td style = \"text-align: right;\">0.0</td><td style = \"text-align: right;\">0.0</td><td style = \"text-align: right;\">0.0</td><td style = \"text-align: right;\">0.000498753</td><td style = \"text-align: right;\">0.0</td><td style = \"text-align: right;\">0.00127459</td><td style = \"text-align: right;\">0.0</td><td style = \"text-align: right;\">0.0</td><td style = \"text-align: right;\">0.000221668</td><td style = \"text-align: right;\">0.000166251</td><td style = \"text-align: right;\">0.000166251</td><td style = \"text-align: right;\">0.0</td><td style = \"text-align: right;\">0.0</td><td style = \"text-align: right;\">0.0</td><td style = \"text-align: right;\">0.0</td><td style = \"text-align: right;\">0.00138543</td><td style = \"text-align: right;\">0.0</td><td style = \"text-align: right;\">0.000387919</td><td style = \"text-align: right;\">0.00055417</td><td style = \"text-align: right;\">0.00055417</td><td style = \"text-align: right;\">5.5417e-5</td><td style = \"text-align: right;\">0.0</td><td style = \"text-align: right;\">0.0</td><td style = \"text-align: right;\">0.000609587</td><td style = \"text-align: right;\">0.0</td><td style = \"text-align: right;\">0.0</td><td style = \"text-align: right;\">0.0</td><td style = \"text-align: right;\">0.000498753</td><td style = \"text-align: right;\">5.5417e-5</td><td style = \"text-align: right;\">0.0</td><td style = \"text-align: right;\">0.0</td><td style = \"text-align: right;\">0.000277085</td><td style = \"text-align: right;\">0.000609587</td><td style = \"text-align: right;\">0.0</td><td style = \"text-align: right;\">0.000665004</td><td style = \"text-align: right;\">0.0</td><td style = \"text-align: right;\">0.0</td><td style = \"text-align: right;\">0.0</td><td style = \"text-align: right;\">0.0</td><td style = \"text-align: right;\">0.0</td><td style = \"text-align: right;\">0.0</td><td style = \"text-align: right;\">0.0</td><td style = \"text-align: right;\">0.0</td><td style = \"text-align: right;\">0.0</td><td style = \"text-align: right;\">0.0</td><td style = \"text-align: right;\">0.0</td><td style = \"text-align: right;\">0.0</td><td style = \"text-align: right;\">0.0</td><td style = \"text-align: right;\">0.0</td><td style = \"text-align: right;\">0.0</td><td style = \"text-align: right;\">0.0</td><td style = \"text-align: right;\">0.0</td><td style = \"text-align: right;\">0.0</td><td style = \"text-align: right;\">0.000831255</td><td style = \"text-align: right;\">0.0</td><td style = \"text-align: right;\">0.000886672</td><td style = \"text-align: right;\">0.0</td><td style = \"text-align: right;\">0.0</td><td style = \"text-align: right;\">0.0</td><td style = \"text-align: right;\">0.0</td><td style = \"text-align: right;\">0.0</td><td style = \"text-align: right;\">0.0</td><td style = \"text-align: right;\">&ctdot;</td></tr><tr><td class = \"rowNumber\" style = \"font-weight: bold; text-align: right;\">798</td><td style = \"text-align: right;\">0.0783276</td><td style = \"text-align: right;\">0.373841</td><td style = \"text-align: right;\">0.0462005</td><td style = \"text-align: right;\">7.70436e-5</td><td style = \"text-align: right;\">0.0747066</td><td style = \"text-align: right;\">0.0167698</td><td style = \"text-align: right;\">0.0</td><td style = \"text-align: right;\">0.0351832</td><td style = \"text-align: right;\">0.0161792</td><td style = \"text-align: right;\">0.0470479</td><td style = \"text-align: right;\">0.0170266</td><td style = \"text-align: right;\">0.000564986</td><td style = \"text-align: right;\">0.00305606</td><td style = \"text-align: right;\">0.043093</td><td style = \"text-align: right;\">0.0758109</td><td style = \"text-align: right;\">0.000231131</td><td style = \"text-align: right;\">0.0221372</td><td style = \"text-align: right;\">0.00264516</td><td style = \"text-align: right;\">0.0138678</td><td style = \"text-align: right;\">0.00847479</td><td style = \"text-align: right;\">0.00844911</td><td style = \"text-align: right;\">0.00847479</td><td style = \"text-align: right;\">0.00755027</td><td style = \"text-align: right;\">0.00336424</td><td style = \"text-align: right;\">0.019415</td><td style = \"text-align: right;\">0.000693392</td><td style = \"text-align: right;\">0.0</td><td style = \"text-align: right;\">0.00855184</td><td style = \"text-align: right;\">0.000616349</td><td style = \"text-align: right;\">0.00315879</td><td style = \"text-align: right;\">0.000950204</td><td style = \"text-align: right;\">0.0</td><td style = \"text-align: right;\">0.00855184</td><td style = \"text-align: right;\">0.000462261</td><td style = \"text-align: right;\">0.0129947</td><td style = \"text-align: right;\">0.000590667</td><td style = \"text-align: right;\">0.00482806</td><td style = \"text-align: right;\">0.00138678</td><td style = \"text-align: right;\">0.000102725</td><td style = \"text-align: right;\">0.0012327</td><td style = \"text-align: right;\">0.0</td><td style = \"text-align: right;\">0.00020545</td><td style = \"text-align: right;\">0.0</td><td style = \"text-align: right;\">0.00390354</td><td style = \"text-align: right;\">0.000333856</td><td style = \"text-align: right;\">0.00148951</td><td style = \"text-align: right;\">0.000179768</td><td style = \"text-align: right;\">0.0</td><td style = \"text-align: right;\">0.00213154</td><td style = \"text-align: right;\">0.0</td><td style = \"text-align: right;\">0.0</td><td style = \"text-align: right;\">0.0</td><td style = \"text-align: right;\">0.000154087</td><td style = \"text-align: right;\">0.010632</td><td style = \"text-align: right;\">0.0</td><td style = \"text-align: right;\">0.00151519</td><td style = \"text-align: right;\">0.000282493</td><td style = \"text-align: right;\">0.00107861</td><td style = \"text-align: right;\">0.00105293</td><td style = \"text-align: right;\">0.0</td><td style = \"text-align: right;\">0.0</td><td style = \"text-align: right;\">0.000359537</td><td style = \"text-align: right;\">0.000154087</td><td style = \"text-align: right;\">0.0</td><td style = \"text-align: right;\">0.000231131</td><td style = \"text-align: right;\">0.0</td><td style = \"text-align: right;\">0.00020545</td><td style = \"text-align: right;\">0.000256812</td><td style = \"text-align: right;\">0.000410899</td><td style = \"text-align: right;\">0.000282493</td><td style = \"text-align: right;\">0.00102725</td><td style = \"text-align: right;\">0.0</td><td style = \"text-align: right;\">0.0</td><td style = \"text-align: right;\">0.0</td><td style = \"text-align: right;\">0.00100157</td><td style = \"text-align: right;\">0.000256812</td><td style = \"text-align: right;\">0.0</td><td style = \"text-align: right;\">0.0</td><td style = \"text-align: right;\">0.0</td><td style = \"text-align: right;\">0.0</td><td style = \"text-align: right;\">0.0</td><td style = \"text-align: right;\">0.0</td><td style = \"text-align: right;\">0.0</td><td style = \"text-align: right;\">0.0</td><td style = \"text-align: right;\">0.0</td><td style = \"text-align: right;\">0.0</td><td style = \"text-align: right;\">0.0</td><td style = \"text-align: right;\">0.0</td><td style = \"text-align: right;\">0.0</td><td style = \"text-align: right;\">0.0</td><td style = \"text-align: right;\">7.70436e-5</td><td style = \"text-align: right;\">0.0</td><td style = \"text-align: right;\">0.0</td><td style = \"text-align: right;\">0.00480238</td><td style = \"text-align: right;\">0.0</td><td style = \"text-align: right;\">0.0</td><td style = \"text-align: right;\">0.0</td><td style = \"text-align: right;\">0.0</td><td style = \"text-align: right;\">0.000282493</td><td style = \"text-align: right;\">0.0</td><td style = \"text-align: right;\">&ctdot;</td></tr><tr><td class = \"rowNumber\" style = \"font-weight: bold; text-align: right;\">799</td><td style = \"text-align: right;\">0.0848538</td><td style = \"text-align: right;\">0.022668</td><td style = \"text-align: right;\">0.0</td><td style = \"text-align: right;\">0.00800596</td><td style = \"text-align: right;\">0.0</td><td style = \"text-align: right;\">0.0448241</td><td style = \"text-align: right;\">0.012614</td><td style = \"text-align: right;\">0.0182461</td><td style = \"text-align: right;\">0.0734966</td><td style = \"text-align: right;\">0.194936</td><td style = \"text-align: right;\">0.0533886</td><td style = \"text-align: right;\">0.00609756</td><td style = \"text-align: right;\">0.0128933</td><td style = \"text-align: right;\">0.0819214</td><td style = \"text-align: right;\">0.00916961</td><td style = \"text-align: right;\">0.00851797</td><td style = \"text-align: right;\">0.057345</td><td style = \"text-align: right;\">0.0854589</td><td style = \"text-align: right;\">0.0166636</td><td style = \"text-align: right;\">0.0068423</td><td style = \"text-align: right;\">0.011078</td><td style = \"text-align: right;\">0.0310464</td><td style = \"text-align: right;\">0.00395643</td><td style = \"text-align: right;\">0.00195494</td><td style = \"text-align: right;\">0.0558555</td><td style = \"text-align: right;\">9.30925e-5</td><td style = \"text-align: right;\">0.00237386</td><td style = \"text-align: right;\">0.0220164</td><td style = \"text-align: right;\">0.00153603</td><td style = \"text-align: right;\">0.0222491</td><td style = \"text-align: right;\">0.00116366</td><td style = \"text-align: right;\">0.0012102</td><td style = \"text-align: right;\">0.00721467</td><td style = \"text-align: right;\">0.00134984</td><td style = \"text-align: right;\">0.00642338</td><td style = \"text-align: right;\">0.0</td><td style = \"text-align: right;\">0.00437535</td><td style = \"text-align: right;\">0.000605101</td><td style = \"text-align: right;\">0.00116366</td><td style = \"text-align: right;\">0.00139639</td><td style = \"text-align: right;\">0.0</td><td style = \"text-align: right;\">0.0</td><td style = \"text-align: right;\">0.0</td><td style = \"text-align: right;\">0.0037237</td><td style = \"text-align: right;\">9.30925e-5</td><td style = \"text-align: right;\">0.000651648</td><td style = \"text-align: right;\">0.0</td><td style = \"text-align: right;\">0.0</td><td style = \"text-align: right;\">0.000605101</td><td style = \"text-align: right;\">0.0</td><td style = \"text-align: right;\">0.0</td><td style = \"text-align: right;\">0.0</td><td style = \"text-align: right;\">0.000139639</td><td style = \"text-align: right;\">0.00237386</td><td style = \"text-align: right;\">0.0</td><td style = \"text-align: right;\">0.00307205</td><td style = \"text-align: right;\">0.0012102</td><td style = \"text-align: right;\">0.000512009</td><td style = \"text-align: right;\">0.00316515</td><td style = \"text-align: right;\">0.0</td><td style = \"text-align: right;\">0.0</td><td style = \"text-align: right;\">9.30925e-5</td><td style = \"text-align: right;\">0.0</td><td style = \"text-align: right;\">0.000512009</td><td style = \"text-align: right;\">0.000884379</td><td style = \"text-align: right;\">0.000279278</td><td style = \"text-align: right;\">0.00269968</td><td style = \"text-align: right;\">0.000651648</td><td style = \"text-align: right;\">0.0</td><td style = \"text-align: right;\">0.0</td><td style = \"text-align: right;\">0.00134984</td><td style = \"text-align: right;\">0.0</td><td style = \"text-align: right;\">0.000139639</td><td style = \"text-align: right;\">0.0</td><td style = \"text-align: right;\">0.000977472</td><td style = \"text-align: right;\">0.0</td><td style = \"text-align: right;\">0.000465463</td><td style = \"text-align: right;\">0.0</td><td style = \"text-align: right;\">0.0</td><td style = \"text-align: right;\">0.0</td><td style = \"text-align: right;\">0.0</td><td style = \"text-align: right;\">0.0</td><td style = \"text-align: right;\">0.0</td><td style = \"text-align: right;\">0.0</td><td style = \"text-align: right;\">9.30925e-5</td><td style = \"text-align: right;\">0.0</td><td style = \"text-align: right;\">0.0</td><td style = \"text-align: right;\">0.0</td><td style = \"text-align: right;\">0.0</td><td style = \"text-align: right;\">0.0</td><td style = \"text-align: right;\">0.0</td><td style = \"text-align: right;\">0.000139639</td><td style = \"text-align: right;\">0.0</td><td style = \"text-align: right;\">0.000605101</td><td style = \"text-align: right;\">9.30925e-5</td><td style = \"text-align: right;\">0.0</td><td style = \"text-align: right;\">0.0</td><td style = \"text-align: right;\">9.30925e-5</td><td style = \"text-align: right;\">0.0</td><td style = \"text-align: right;\">0.0</td><td style = \"text-align: right;\">&ctdot;</td></tr></tbody></table></div>"
      ],
      "text/latex": [
       "\\begin{tabular}{r|ccccc}\n",
       "\t& 0.0794251824817518 & 0.145802919708029 & 0.0135948905109489 & 0.00752737226277372 & \\\\\n",
       "\t\\hline\n",
       "\t& Float64 & Float64 & Float64 & Float64 & \\\\\n",
       "\t\\hline\n",
       "\t1 & 0.075356 & 0.157415 & 0.0116101 & 0.00762322 & $\\dots$ \\\\\n",
       "\t2 & 0.093655 & 0.152657 & 0.0118227 & 0.00659699 & $\\dots$ \\\\\n",
       "\t3 & 0.0701344 & 0.150972 & 0.0119439 & 0.00859731 & $\\dots$ \\\\\n",
       "\t4 & 0.0760934 & 0.15294 & 0.0100059 & 0.00607886 & $\\dots$ \\\\\n",
       "\t5 & 0.0701901 & 0.150497 & 0.0121758 & 0.00701304 & $\\dots$ \\\\\n",
       "\t6 & 0.105313 & 0.152852 & 0.0155296 & 0.00838922 & $\\dots$ \\\\\n",
       "\t7 & 0.0895001 & 0.150195 & 0.016238 & 0.00986515 & $\\dots$ \\\\\n",
       "\t8 & 0.0908478 & 0.146333 & 0.0102397 & 0.00952532 & $\\dots$ \\\\\n",
       "\t9 & 0.0928987 & 0.143698 & 0.015996 & 0.00714313 & $\\dots$ \\\\\n",
       "\t10 & 0.0644624 & 0.116379 & 0.0140322 & 0.00763548 & $\\dots$ \\\\\n",
       "\t11 & 0.0597526 & 0.097886 & 0.00979888 & 0.0131908 & $\\dots$ \\\\\n",
       "\t12 & 0.0470077 & 0.113415 & 0.00820859 & 0.00724288 & $\\dots$ \\\\\n",
       "\t13 & 0.0615352 & 0.122071 & 0.0109959 & 0.0127859 & $\\dots$ \\\\\n",
       "\t14 & 0.116758 & 0.120875 & 0.00797684 & 0.00958508 & $\\dots$ \\\\\n",
       "\t15 & 0.189964 & 0.0974541 & 0.000490952 & 0.00035068 & $\\dots$ \\\\\n",
       "\t16 & 0.13602 & 0.015953 & 0.0 & 0.00251889 & $\\dots$ \\\\\n",
       "\t17 & 0.137679 & 0.149969 & 0.0449524 & 0.00636029 & $\\dots$ \\\\\n",
       "\t18 & 0.155448 & 0.144313 & 0.0607331 & 0.00614561 & $\\dots$ \\\\\n",
       "\t19 & 0.13633 & 0.156227 & 0.0644805 & 0.018423 & $\\dots$ \\\\\n",
       "\t20 & 0.169916 & 0.134411 & 0.0247266 & 0.00142653 & $\\dots$ \\\\\n",
       "\t21 & 0.183796 & 0.152646 & 0.0191138 & 0.0037037 & $\\dots$ \\\\\n",
       "\t22 & 0.175964 & 0.145069 & 0.022502 & 0.00289415 & $\\dots$ \\\\\n",
       "\t23 & 0.0587651 & 0.139035 & 0.0163351 & 0.012117 & $\\dots$ \\\\\n",
       "\t24 & 0.0675909 & 0.141772 & 0.0145841 & 0.00936262 & $\\dots$ \\\\\n",
       "\t25 & 0.0695888 & 0.134159 & 0.0186962 & 0.00852651 & $\\dots$ \\\\\n",
       "\t26 & 0.144658 & 0.17013 & 0.0279058 & 0.0101713 & $\\dots$ \\\\\n",
       "\t27 & 0.103886 & 0.227205 & 0.0261584 & 0.0044843 & $\\dots$ \\\\\n",
       "\t28 & 0.153992 & 0.165359 & 0.0276049 & 0.0159675 & $\\dots$ \\\\\n",
       "\t29 & 0.142705 & 0.11616 & 0.0276109 & 0.00930052 & $\\dots$ \\\\\n",
       "\t30 & 0.165512 & 0.129557 & 0.0299287 & 0.00873757 & $\\dots$ \\\\\n",
       "\t$\\dots$ & $\\dots$ & $\\dots$ & $\\dots$ & $\\dots$ &  \\\\\n",
       "\\end{tabular}\n"
      ],
      "text/plain": [
       "\u001b[1m799×113 DataFrame\u001b[0m\n",
       "\u001b[1m Row \u001b[0m│\u001b[1m 0.0794251824817518 \u001b[0m\u001b[1m 0.145802919708029 \u001b[0m\u001b[1m 0.0135948905109489 \u001b[0m\u001b[1m 0.0075273722\u001b[0m ⋯\n",
       "     │\u001b[90m Float64            \u001b[0m\u001b[90m Float64           \u001b[0m\u001b[90m Float64            \u001b[0m\u001b[90m Float64     \u001b[0m ⋯\n",
       "─────┼──────────────────────────────────────────────────────────────────────────\n",
       "   1 │          0.075356           0.157415           0.0116101            0.0 ⋯\n",
       "   2 │          0.093655           0.152657           0.0118227            0.0\n",
       "   3 │          0.0701344          0.150972           0.0119439            0.0\n",
       "   4 │          0.0760934          0.15294            0.0100059            0.0\n",
       "   5 │          0.0701901          0.150497           0.0121758            0.0 ⋯\n",
       "   6 │          0.105313           0.152852           0.0155296            0.0\n",
       "   7 │          0.0895001          0.150195           0.016238             0.0\n",
       "   8 │          0.0908478          0.146333           0.0102397            0.0\n",
       "   9 │          0.0928987          0.143698           0.015996             0.0 ⋯\n",
       "  10 │          0.0644624          0.116379           0.0140322            0.0\n",
       "  11 │          0.0597526          0.097886           0.00979888           0.0\n",
       "  ⋮  │         ⋮                   ⋮                  ⋮                    ⋮   ⋱\n",
       " 790 │          0.103654           0.102366           0.028703             0.0\n",
       " 791 │          0.123098           0.183496           0.0175771            0.0 ⋯\n",
       " 792 │          0.0843244          0.524376           0.0721633            0.0\n",
       " 793 │          0.0833333          0.0127119          0.298365             0.0\n",
       " 794 │          0.136262           0.0                0.190514             0.0\n",
       " 795 │          0.106573           0.157907           0.0222393            0.0 ⋯\n",
       " 796 │          0.0455488          0.174794           0.0148373            0.0\n",
       " 797 │          0.180272           0.0279302          0.298254             0.0\n",
       " 798 │          0.0783276          0.373841           0.0462005            7.7\n",
       " 799 │          0.0848538          0.022668           0.0                  0.0 ⋯\n",
       "\u001b[36m                                                110 columns and 778 rows omitted\u001b[0m"
      ]
     },
     "execution_count": 20,
     "metadata": {},
     "output_type": "execute_result"
    }
   ],
   "source": [
    "otu = CSV.read(\"../processed-data/all_otu_augmented/Class/10_1_train.csv\", DataFrame)\n",
    "\n"
   ]
  }
 ],
 "metadata": {
  "kernelspec": {
   "display_name": "Julia 1.8.2",
   "language": "julia",
   "name": "julia-1.8"
  },
  "language_info": {
   "file_extension": ".jl",
   "mimetype": "application/julia",
   "name": "julia",
   "version": "1.8.2"
  }
 },
 "nbformat": 4,
 "nbformat_minor": 5
}
