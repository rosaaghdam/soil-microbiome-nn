{
 "cells": [
  {
   "cell_type": "code",
   "execution_count": 67,
   "id": "2e05ded9",
   "metadata": {},
   "outputs": [],
   "source": [
    "using CSV\n",
    "using DataFrames\n",
    "using XLSX\n",
    "using Statistics\n",
    "using Random"
   ]
  },
  {
   "cell_type": "code",
   "execution_count": 68,
   "id": "2caccb45",
   "metadata": {},
   "outputs": [],
   "source": [
    "phylum = CSV.read(\"../processed-data/normalized-otu.csv\", DataFrame);"
   ]
  },
  {
   "cell_type": "code",
   "execution_count": 69,
   "id": "10a40ba2",
   "metadata": {},
   "outputs": [],
   "source": [
    "rename!(phylum,:Column1 => :Link_ID);"
   ]
  },
  {
   "cell_type": "code",
   "execution_count": 70,
   "id": "4bcc504a",
   "metadata": {},
   "outputs": [],
   "source": [
    "outcome = CSV.read(\"../raw-data/metadata.csv\", DataFrame)\n",
    "rename!(outcome,:Column1 => :Link_ID)\n",
    "outcome = outcome[:, Not(2:10)]\n",
    "outcome = outcome[:, Not(3:34)]\n",
    "outcome = outcome[:,1:3];"
   ]
  },
  {
   "cell_type": "code",
   "execution_count": 71,
   "id": "077743fd",
   "metadata": {},
   "outputs": [],
   "source": [
    "outcome = filter(row -> !(row.Yield_per_plant == \"NA\"), outcome);"
   ]
  },
  {
   "cell_type": "code",
   "execution_count": 72,
   "id": "be945a23",
   "metadata": {},
   "outputs": [],
   "source": [
    "outcome.Yield_per_plant = parse.(Float64, outcome.Yield_per_plant)\n",
    "outcome = filter(row -> !(row.Yield_per_plant == 0), outcome);"
   ]
  },
  {
   "cell_type": "code",
   "execution_count": 73,
   "id": "b72bcf29",
   "metadata": {},
   "outputs": [],
   "source": [
    "yield_per_plant = innerjoin(phylum, outcome, on = :Link_ID)\n",
    "count_binary = innerjoin(phylum, outcome, on = :Link_ID);"
   ]
  },
  {
   "cell_type": "code",
   "execution_count": 74,
   "id": "2cecd769",
   "metadata": {},
   "outputs": [],
   "source": [
    "sample_size = size(yield_per_plant)[1]\n",
    "label_idx = size(yield_per_plant)[2]\n",
    "var_idx = label_idx - 1;"
   ]
  },
  {
   "cell_type": "code",
   "execution_count": 75,
   "id": "e65de306",
   "metadata": {},
   "outputs": [],
   "source": [
    "red = zeros(0)\n",
    "yellow = zeros(0)\n",
    "russet = zeros(0)\n",
    "white = zeros(0)\n",
    "mixed = zeros(0)\n",
    "red_little = zeros(0)\n",
    "yellow_little = zeros(0);\n",
    "\n",
    "for i in 1:sample_size\n",
    "    if yield_per_plant[i,var_idx] == \"RedLittle\"\n",
    "        append!(red_little, yield_per_plant[i, label_idx])\n",
    "    elseif yield_per_plant[i,var_idx] == \"YellowLittle\"\n",
    "        append!(yellow_little, yield_per_plant[i, label_idx])\n",
    "    elseif yield_per_plant[i,var_idx] == \"Red\"\n",
    "        append!(red, yield_per_plant[i, label_idx]) \n",
    "    elseif yield_per_plant[i,var_idx] == \"Yellow\"\n",
    "        append!(yellow, yield_per_plant[i, label_idx])\n",
    "    elseif yield_per_plant[i,var_idx] == \"Russet\"\n",
    "        append!(russet, yield_per_plant[i, label_idx])\n",
    "    elseif yield_per_plant[i,var_idx] == \"White\"\n",
    "        append!(white, yield_per_plant[i, label_idx])\n",
    "    else\n",
    "        append!(mixed, yield_per_plant[i, label_idx])\n",
    "    end    \n",
    "end"
   ]
  },
  {
   "cell_type": "code",
   "execution_count": 76,
   "id": "368cb59d",
   "metadata": {},
   "outputs": [
    {
     "name": "stdout",
     "output_type": "stream",
     "text": [
      "Percentage of low-yield label: 0.49\n"
     ]
    }
   ],
   "source": [
    "count_1 = 0\n",
    "count_0 = 0\n",
    "# set the label with respect to the variety2\n",
    "for i in 1:sample_size\n",
    "    # threshold: 600\n",
    "    if yield_per_plant[i,var_idx] == \"Red\"\n",
    "        if yield_per_plant[i,label_idx] > median(red)\n",
    "            count_binary[i,label_idx] = 1\n",
    "        else\n",
    "            count_binary[i,label_idx] = 0\n",
    "        end\n",
    "    elseif yield_per_plant[i,var_idx] == \"Russet\"\n",
    "        if yield_per_plant[i,label_idx] > median(russet)\n",
    "            count_binary[i,label_idx] = 1\n",
    "        else\n",
    "            count_binary[i,label_idx] = 0\n",
    "        end\n",
    "    elseif yield_per_plant[i,var_idx] == \"Yellow\"\n",
    "        if yield_per_plant[i,label_idx] > median(yellow)\n",
    "            count_binary[i,label_idx] = 1\n",
    "            count_1 += 1\n",
    "        else\n",
    "            count_binary[i,label_idx] = 0\n",
    "            count_0 += 1\n",
    "        end\n",
    "    elseif yield_per_plant[i,var_idx] == \"White\"\n",
    "        if yield_per_plant[i,label_idx] > median(white)\n",
    "            count_binary[i,label_idx] = 1\n",
    "        else\n",
    "            count_binary[i,label_idx] = 0\n",
    "        end\n",
    "    elseif yield_per_plant[i,var_idx] == \"RedLittle\"\n",
    "        if yield_per_plant[i,label_idx] > median(red_little)\n",
    "            count_binary[i,label_idx] = 1\n",
    "        else\n",
    "            count_binary[i,label_idx] = 0\n",
    "        end\n",
    "    elseif yield_per_plant[i,var_idx] == \"Mixed\"\n",
    "        if yield_per_plant[i,label_idx] > median(mixed)\n",
    "            count_binary[i,label_idx] = 1\n",
    "        else\n",
    "            count_binary[i,label_idx] = 0\n",
    "        end\n",
    "    else \n",
    "        if yield_per_plant[i,label_idx] > median(yellow_little)\n",
    "            count_binary[i,label_idx] = 1\n",
    "        else\n",
    "            count_binary[i,label_idx] = 0\n",
    "        end\n",
    "    end\n",
    "end\n",
    "percentage = [(i, count(==(i), count_binary[:,label_idx])) for i in unique(count_binary[:,label_idx])]\n",
    "println(\"Percentage of low-yield label: \", round(percentage[1][2] / sample_size, digits = 2))"
   ]
  },
  {
   "cell_type": "code",
   "execution_count": null,
   "id": "45d3b7d8",
   "metadata": {},
   "outputs": [],
   "source": []
  },
  {
   "cell_type": "code",
   "execution_count": 78,
   "id": "25d74677",
   "metadata": {},
   "outputs": [
    {
     "data": {
      "text/html": [
       "<div class=\"data-frame\"><p>219 rows × 47 columns (omitted printing of 41 columns)</p><table class=\"data-frame\"><thead><tr><th></th><th>Link_ID</th><th>Actinobacteriota</th><th>Myxococcota</th><th>Firmicutes</th><th>Acidobacteriota</th><th>Chloroflexi</th></tr><tr><th></th><th title=\"String15\">String15</th><th title=\"Float64\">Float64</th><th title=\"Float64\">Float64</th><th title=\"Float64\">Float64</th><th title=\"Float64\">Float64</th><th title=\"Float64\">Float64</th></tr></thead><tbody><tr><th>1</th><td>MN_18_2_Y1</td><td>0.198509</td><td>0.0292494</td><td>0.0663847</td><td>0.122088</td><td>0.109327</td></tr><tr><th>2</th><td>MN_1_3_Y1</td><td>0.199434</td><td>0.039417</td><td>0.0290189</td><td>0.106983</td><td>0.184903</td></tr><tr><th>3</th><td>MN_25_1_Y1</td><td>0.214153</td><td>0.0396555</td><td>0.0352208</td><td>0.183302</td><td>0.147439</td></tr><tr><th>4</th><td>WI_2_3_Y1</td><td>0.184209</td><td>0.0224645</td><td>0.077393</td><td>0.158567</td><td>0.136376</td></tr><tr><th>5</th><td>MN_36_3_Y1</td><td>0.19925</td><td>0.0360383</td><td>0.0873866</td><td>0.128749</td><td>0.107453</td></tr><tr><th>6</th><td>WI_14_1_Y1</td><td>0.179717</td><td>0.0708427</td><td>0.0589113</td><td>0.159955</td><td>0.0298285</td></tr><tr><th>7</th><td>WI_5_3_Y1</td><td>0.23768</td><td>0.0173427</td><td>0.108268</td><td>0.142807</td><td>0.124704</td></tr><tr><th>8</th><td>MN_32_3_Y1</td><td>0.200098</td><td>0.0700415</td><td>0.089403</td><td>0.0922266</td><td>0.0955399</td></tr><tr><th>9</th><td>MN_21_2_Y1</td><td>0.256494</td><td>0.0263676</td><td>0.0381739</td><td>0.125738</td><td>0.136954</td></tr><tr><th>10</th><td>WI_8_1_Y1</td><td>0.2097</td><td>0.0280731</td><td>0.099642</td><td>0.0994267</td><td>0.124539</td></tr><tr><th>11</th><td>WI_62_1_Y1</td><td>0.148981</td><td>0.008824</td><td>0.0817584</td><td>0.146286</td><td>0.154372</td></tr><tr><th>12</th><td>WI_60_3_Y1</td><td>0.176689</td><td>0.027012</td><td>0.050896</td><td>0.150788</td><td>0.15605</td></tr><tr><th>13</th><td>MN_22_3_Y1</td><td>0.198507</td><td>0.043205</td><td>0.0272584</td><td>0.141398</td><td>0.101493</td></tr><tr><th>14</th><td>WI_23_3_Y1</td><td>0.181727</td><td>0.0291909</td><td>0.0289586</td><td>0.158227</td><td>0.130159</td></tr><tr><th>15</th><td>WI_4_3_Y1</td><td>0.210206</td><td>0.014825</td><td>0.0940914</td><td>0.124727</td><td>0.145508</td></tr><tr><th>16</th><td>WI_43_2_Y1</td><td>0.209295</td><td>0.0329504</td><td>0.0363579</td><td>0.14508</td><td>0.141567</td></tr><tr><th>17</th><td>MN_9_1_Y1</td><td>0.206557</td><td>0.0347926</td><td>0.0221277</td><td>0.114318</td><td>0.1948</td></tr><tr><th>18</th><td>WI_60_2_Y1</td><td>0.152939</td><td>0.018838</td><td>0.0464844</td><td>0.145975</td><td>0.153484</td></tr><tr><th>19</th><td>MN_6_3_Y1</td><td>0.215861</td><td>0.0418565</td><td>0.0237028</td><td>0.104292</td><td>0.182456</td></tr><tr><th>20</th><td>MN_35_1_Y1</td><td>0.222881</td><td>0.0395949</td><td>0.0940151</td><td>0.124578</td><td>0.0993979</td></tr><tr><th>21</th><td>WI_19_3_Y1</td><td>0.180595</td><td>0.0325962</td><td>0.0485548</td><td>0.134629</td><td>0.15462</td></tr><tr><th>22</th><td>MN_7_1_Y1</td><td>0.220666</td><td>0.0410944</td><td>0.0131394</td><td>0.11328</td><td>0.183789</td></tr><tr><th>23</th><td>MN_8_2_Y1</td><td>0.204113</td><td>0.0349617</td><td>0.0152878</td><td>0.103646</td><td>0.182564</td></tr><tr><th>24</th><td>MN_10_3_Y1</td><td>0.209268</td><td>0.0343086</td><td>0.0184263</td><td>0.12266</td><td>0.208795</td></tr><tr><th>25</th><td>MN_8_1_Y1</td><td>0.199814</td><td>0.0448662</td><td>0.0150285</td><td>0.104953</td><td>0.175378</td></tr><tr><th>26</th><td>WI_28_3_Y1</td><td>0.166221</td><td>0.0189974</td><td>0.0432644</td><td>0.160897</td><td>0.134847</td></tr><tr><th>27</th><td>MN_31_2_Y1</td><td>0.201378</td><td>0.040465</td><td>0.0819949</td><td>0.130801</td><td>0.115952</td></tr><tr><th>28</th><td>MN_31_1_Y1</td><td>0.201161</td><td>0.0384677</td><td>0.0885816</td><td>0.136546</td><td>0.119446</td></tr><tr><th>29</th><td>MN_13_2_Y1</td><td>0.229529</td><td>0.0389217</td><td>0.0209369</td><td>0.128379</td><td>0.175886</td></tr><tr><th>30</th><td>MN_15_3_Y1</td><td>0.20747</td><td>0.0349833</td><td>0.0225934</td><td>0.117188</td><td>0.175159</td></tr><tr><th>&vellip;</th><td>&vellip;</td><td>&vellip;</td><td>&vellip;</td><td>&vellip;</td><td>&vellip;</td><td>&vellip;</td></tr></tbody></table></div>"
      ],
      "text/latex": [
       "\\begin{tabular}{r|ccccccc}\n",
       "\t& Link\\_ID & Actinobacteriota & Myxococcota & Firmicutes & Acidobacteriota & Chloroflexi & \\\\\n",
       "\t\\hline\n",
       "\t& String15 & Float64 & Float64 & Float64 & Float64 & Float64 & \\\\\n",
       "\t\\hline\n",
       "\t1 & MN\\_18\\_2\\_Y1 & 0.198509 & 0.0292494 & 0.0663847 & 0.122088 & 0.109327 & $\\dots$ \\\\\n",
       "\t2 & MN\\_1\\_3\\_Y1 & 0.199434 & 0.039417 & 0.0290189 & 0.106983 & 0.184903 & $\\dots$ \\\\\n",
       "\t3 & MN\\_25\\_1\\_Y1 & 0.214153 & 0.0396555 & 0.0352208 & 0.183302 & 0.147439 & $\\dots$ \\\\\n",
       "\t4 & WI\\_2\\_3\\_Y1 & 0.184209 & 0.0224645 & 0.077393 & 0.158567 & 0.136376 & $\\dots$ \\\\\n",
       "\t5 & MN\\_36\\_3\\_Y1 & 0.19925 & 0.0360383 & 0.0873866 & 0.128749 & 0.107453 & $\\dots$ \\\\\n",
       "\t6 & WI\\_14\\_1\\_Y1 & 0.179717 & 0.0708427 & 0.0589113 & 0.159955 & 0.0298285 & $\\dots$ \\\\\n",
       "\t7 & WI\\_5\\_3\\_Y1 & 0.23768 & 0.0173427 & 0.108268 & 0.142807 & 0.124704 & $\\dots$ \\\\\n",
       "\t8 & MN\\_32\\_3\\_Y1 & 0.200098 & 0.0700415 & 0.089403 & 0.0922266 & 0.0955399 & $\\dots$ \\\\\n",
       "\t9 & MN\\_21\\_2\\_Y1 & 0.256494 & 0.0263676 & 0.0381739 & 0.125738 & 0.136954 & $\\dots$ \\\\\n",
       "\t10 & WI\\_8\\_1\\_Y1 & 0.2097 & 0.0280731 & 0.099642 & 0.0994267 & 0.124539 & $\\dots$ \\\\\n",
       "\t11 & WI\\_62\\_1\\_Y1 & 0.148981 & 0.008824 & 0.0817584 & 0.146286 & 0.154372 & $\\dots$ \\\\\n",
       "\t12 & WI\\_60\\_3\\_Y1 & 0.176689 & 0.027012 & 0.050896 & 0.150788 & 0.15605 & $\\dots$ \\\\\n",
       "\t13 & MN\\_22\\_3\\_Y1 & 0.198507 & 0.043205 & 0.0272584 & 0.141398 & 0.101493 & $\\dots$ \\\\\n",
       "\t14 & WI\\_23\\_3\\_Y1 & 0.181727 & 0.0291909 & 0.0289586 & 0.158227 & 0.130159 & $\\dots$ \\\\\n",
       "\t15 & WI\\_4\\_3\\_Y1 & 0.210206 & 0.014825 & 0.0940914 & 0.124727 & 0.145508 & $\\dots$ \\\\\n",
       "\t16 & WI\\_43\\_2\\_Y1 & 0.209295 & 0.0329504 & 0.0363579 & 0.14508 & 0.141567 & $\\dots$ \\\\\n",
       "\t17 & MN\\_9\\_1\\_Y1 & 0.206557 & 0.0347926 & 0.0221277 & 0.114318 & 0.1948 & $\\dots$ \\\\\n",
       "\t18 & WI\\_60\\_2\\_Y1 & 0.152939 & 0.018838 & 0.0464844 & 0.145975 & 0.153484 & $\\dots$ \\\\\n",
       "\t19 & MN\\_6\\_3\\_Y1 & 0.215861 & 0.0418565 & 0.0237028 & 0.104292 & 0.182456 & $\\dots$ \\\\\n",
       "\t20 & MN\\_35\\_1\\_Y1 & 0.222881 & 0.0395949 & 0.0940151 & 0.124578 & 0.0993979 & $\\dots$ \\\\\n",
       "\t21 & WI\\_19\\_3\\_Y1 & 0.180595 & 0.0325962 & 0.0485548 & 0.134629 & 0.15462 & $\\dots$ \\\\\n",
       "\t22 & MN\\_7\\_1\\_Y1 & 0.220666 & 0.0410944 & 0.0131394 & 0.11328 & 0.183789 & $\\dots$ \\\\\n",
       "\t23 & MN\\_8\\_2\\_Y1 & 0.204113 & 0.0349617 & 0.0152878 & 0.103646 & 0.182564 & $\\dots$ \\\\\n",
       "\t24 & MN\\_10\\_3\\_Y1 & 0.209268 & 0.0343086 & 0.0184263 & 0.12266 & 0.208795 & $\\dots$ \\\\\n",
       "\t25 & MN\\_8\\_1\\_Y1 & 0.199814 & 0.0448662 & 0.0150285 & 0.104953 & 0.175378 & $\\dots$ \\\\\n",
       "\t26 & WI\\_28\\_3\\_Y1 & 0.166221 & 0.0189974 & 0.0432644 & 0.160897 & 0.134847 & $\\dots$ \\\\\n",
       "\t27 & MN\\_31\\_2\\_Y1 & 0.201378 & 0.040465 & 0.0819949 & 0.130801 & 0.115952 & $\\dots$ \\\\\n",
       "\t28 & MN\\_31\\_1\\_Y1 & 0.201161 & 0.0384677 & 0.0885816 & 0.136546 & 0.119446 & $\\dots$ \\\\\n",
       "\t29 & MN\\_13\\_2\\_Y1 & 0.229529 & 0.0389217 & 0.0209369 & 0.128379 & 0.175886 & $\\dots$ \\\\\n",
       "\t30 & MN\\_15\\_3\\_Y1 & 0.20747 & 0.0349833 & 0.0225934 & 0.117188 & 0.175159 & $\\dots$ \\\\\n",
       "\t$\\dots$ & $\\dots$ & $\\dots$ & $\\dots$ & $\\dots$ & $\\dots$ & $\\dots$ &  \\\\\n",
       "\\end{tabular}\n"
      ],
      "text/plain": [
       "\u001b[1m219×47 DataFrame\u001b[0m\n",
       "\u001b[1m Row \u001b[0m│\u001b[1m Link_ID    \u001b[0m\u001b[1m Actinobacteriota \u001b[0m\u001b[1m Myxococcota \u001b[0m\u001b[1m Firmicutes \u001b[0m\u001b[1m Acidobacteriota \u001b[0m\u001b[1m\u001b[0m ⋯\n",
       "\u001b[1m     \u001b[0m│\u001b[90m String15   \u001b[0m\u001b[90m Float64          \u001b[0m\u001b[90m Float64     \u001b[0m\u001b[90m Float64    \u001b[0m\u001b[90m Float64         \u001b[0m\u001b[90m\u001b[0m ⋯\n",
       "─────┼──────────────────────────────────────────────────────────────────────────\n",
       "   1 │ MN_18_2_Y1          0.198509    0.0292494  0.0663847         0.122088   ⋯\n",
       "   2 │ MN_1_3_Y1           0.199434    0.039417   0.0290189         0.106983\n",
       "   3 │ MN_25_1_Y1          0.214153    0.0396555  0.0352208         0.183302\n",
       "   4 │ WI_2_3_Y1           0.184209    0.0224645  0.077393          0.158567\n",
       "   5 │ MN_36_3_Y1          0.19925     0.0360383  0.0873866         0.128749   ⋯\n",
       "   6 │ WI_14_1_Y1          0.179717    0.0708427  0.0589113         0.159955\n",
       "   7 │ WI_5_3_Y1           0.23768     0.0173427  0.108268          0.142807\n",
       "   8 │ MN_32_3_Y1          0.200098    0.0700415  0.089403          0.0922266\n",
       "   9 │ MN_21_2_Y1          0.256494    0.0263676  0.0381739         0.125738   ⋯\n",
       "  10 │ WI_8_1_Y1           0.2097      0.0280731  0.099642          0.0994267\n",
       "  11 │ WI_62_1_Y1          0.148981    0.008824   0.0817584         0.146286\n",
       "  ⋮  │     ⋮              ⋮               ⋮           ⋮              ⋮         ⋱\n",
       " 210 │ WI_8_2_Y1           0.256054    0.0319564  0.179629          0.103691\n",
       " 211 │ MN_16_3_Y1          0.234274    0.0283635  0.00501931        0.126285   ⋯\n",
       " 212 │ WI_52_1_Y1          0.147904    0.033386   0.0501149         0.153827\n",
       " 213 │ MN_32_1_Y1          0.186569    0.0393965  0.122769          0.120103\n",
       " 214 │ WI_5_2_Y1           0.349782    0.0192361  0.0843407         0.0967599\n",
       " 215 │ WI_14_3_Y1          0.189428    0.0356724  0.0461138         0.136857   ⋯\n",
       " 216 │ MN_22_2_Y1          0.217125    0.0346151  0.0558917         0.129807\n",
       " 217 │ WI_6_2_Y1           0.213278    0.0189192  0.0760854         0.0868296\n",
       " 218 │ MN_4_1_Y1           0.166422    0.0319804  0.0177669         0.104037\n",
       " 219 │ MN_6_2_Y1           0.204808    0.0355735  0.0341764         0.102708   ⋯\n",
       "\u001b[36m                                                 42 columns and 198 rows omitted\u001b[0m"
      ]
     },
     "execution_count": 78,
     "metadata": {},
     "output_type": "execute_result"
    }
   ],
   "source": [
    "count_binary = count_binary[shuffle(1:size(count_binary)[1]), :]"
   ]
  },
  {
   "cell_type": "code",
   "execution_count": 50,
   "id": "b4d4f4d9",
   "metadata": {},
   "outputs": [],
   "source": [
    "count_binary = count_binary[:,Not(46)];"
   ]
  },
  {
   "cell_type": "code",
   "execution_count": 51,
   "id": "619806f9",
   "metadata": {},
   "outputs": [
    {
     "data": {
      "text/plain": [
       "\"../processed-data/binary-data.csv\""
      ]
     },
     "execution_count": 51,
     "metadata": {},
     "output_type": "execute_result"
    }
   ],
   "source": [
    "CSV.write(\"../processed-data/binary-data.csv\", count_binary)"
   ]
  },
  {
   "cell_type": "code",
   "execution_count": null,
   "id": "82558982",
   "metadata": {},
   "outputs": [],
   "source": []
  }
 ],
 "metadata": {
  "kernelspec": {
   "display_name": "Julia 1.7.3",
   "language": "julia",
   "name": "julia-1.7"
  },
  "language_info": {
   "file_extension": ".jl",
   "mimetype": "application/julia",
   "name": "julia",
   "version": "1.7.3"
  }
 },
 "nbformat": 4,
 "nbformat_minor": 5
}
