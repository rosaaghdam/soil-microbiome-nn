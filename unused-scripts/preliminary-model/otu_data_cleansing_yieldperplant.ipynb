{
 "cells": [
  {
   "cell_type": "code",
   "execution_count": 56,
   "id": "e61986d9",
   "metadata": {},
   "outputs": [],
   "source": [
    "using CSV\n",
    "using DataFrames\n",
    "using XLSX\n",
    "using Statistics"
   ]
  },
  {
   "cell_type": "code",
   "execution_count": 57,
   "id": "2b1f5cca",
   "metadata": {},
   "outputs": [
    {
     "name": "stderr",
     "output_type": "stream",
     "text": [
      "┌ Info: Finish loading OTU data...\n",
      "└ @ Main In[57]:17\n"
     ]
    }
   ],
   "source": [
    "# load all five CSVs with OTU data\n",
    "class = CSV.read(\"./raw-data/SCMP_Y1_class.csv\", DataFrame)\n",
    "family = CSV.read(\"./raw-data/SCMP_Y1_family.csv\", DataFrame)\n",
    "order = CSV.read(\"./raw-data/SCMP_Y1_order.csv\", DataFrame)\n",
    "phylum = CSV.read(\"./raw-data/SCMP_Y1_phylum.csv\", DataFrame)\n",
    "genus = CSV.read(\"./raw-data/SCMP_Y1_genus.csv\", DataFrame)\n",
    "\n",
    "# remove all diversity values\n",
    "class = class[:, Not(2:6)]\n",
    "family = family[:, Not(2:6)]\n",
    "order = order[:, Not(2:6)]\n",
    "phylum = phylum[:, Not(2:6)]\n",
    "genus = genus[:, Not(2:6)]\n",
    "\n",
    "# Join all otu data by their link_ID\n",
    "otu = innerjoin(class, family, order, phylum, genus, on = :Link_ID)\n",
    "@info(\"Finish loading OTU data...\")"
   ]
  },
  {
   "cell_type": "code",
   "execution_count": 58,
   "id": "6b94f5fc",
   "metadata": {},
   "outputs": [
    {
     "name": "stderr",
     "output_type": "stream",
     "text": [
      "┌ Info: Finish loading outcome data for yield_per_plant\n",
      "└ @ Main In[58]:7\n"
     ]
    }
   ],
   "source": [
    "# Load the outcomes from the XLSX files\n",
    "outcome = DataFrame(XLSX.readtable(\"./raw-data/SCMP_Y1.xlsx\", \"SCMP_Y1\")...)\n",
    "# keep the ID, variety2, and Yield_per_plant columns\n",
    "outcome = outcome[:, Not(2:10)]\n",
    "outcome = outcome[:, Not(3:20)]\n",
    "outcome = outcome[:,1:3]\n",
    "@info(\"Finish loading outcome data for yield_per_plant\")"
   ]
  },
  {
   "cell_type": "code",
   "execution_count": 59,
   "id": "166c0c1e",
   "metadata": {},
   "outputs": [
    {
     "name": "stderr",
     "output_type": "stream",
     "text": [
      "┌ Info: Finish cleansing the missing data...\n",
      "└ @ Main In[59]:8\n"
     ]
    }
   ],
   "source": [
    "# Concatnate outcomes and OTUs by ID\n",
    "yield_per_plant = innerjoin(otu, outcome, on = :Link_ID)\n",
    "# remove all rows with otu = \"NA\" (OTU data do not have parital N/A for a row)\n",
    "yield_per_plant = filter(row -> !(row.Alphaproteobacteria == \"NA\"), yield_per_plant)\n",
    "# remove all N/A rows with NA in yield_per_meter\n",
    "yield_per_plant = dropmissing(yield_per_plant)\n",
    "yield_per_plant = filter(row -> !(row.Yield_per_plant == \"NA\"), yield_per_plant)\n",
    "@info(\"Finish cleansing the missing data...\")"
   ]
  },
  {
   "cell_type": "code",
   "execution_count": 60,
   "id": "9c8d34c2",
   "metadata": {},
   "outputs": [],
   "source": [
    "# find the median of red_little and yellow_little\n",
    "sample_size = size(yield_per_plant)[1]\n",
    "red_little = zeros(0)\n",
    "yellow_little = zeros(0)\n",
    "for i in 1:sample_size\n",
    "    if yield_per_plant[i,2396] == \"RedLittle\"\n",
    "        append!(red_little, yield_per_plant[i, 2397])\n",
    "    end\n",
    "    if yield_per_plant[i,2396] == \"YellowLittle\"\n",
    "        append!(yellow_little, yield_per_plant[i, 2397])\n",
    "    end \n",
    "end\n",
    "\n",
    "# set the label with respect to the variety2\n",
    "for i in 1:sample_size\n",
    "    # threshold: 600\n",
    "    if yield_per_plant[i,2396] == \"Red\" || yield_per_plant[i,2396] == \"White\" || yield_per_plant[i,2396] == \"Yellow\"\n",
    "        if yield_per_plant[i,2397] >= 600\n",
    "            yield_per_plant[i,2397] = 1\n",
    "        else\n",
    "            yield_per_plant[i,2397] = 0\n",
    "        end\n",
    "    elseif yield_per_plant[i,2396] == \"Russet\"\n",
    "        if yield_per_plant[i,2397] >= 900\n",
    "            yield_per_plant[i,2397] = 1\n",
    "        else\n",
    "            yield_per_plant[i,2397] = 0\n",
    "        end\n",
    "    elseif yield_per_plant[i,2396] == \"RedLittle\"\n",
    "        if yield_per_plant[i,2397] >= median(red_little)\n",
    "            yield_per_plant[i,2397] = 1\n",
    "        else\n",
    "            yield_per_plant[i,2397] = 0\n",
    "        end\n",
    "    else \n",
    "        if yield_per_plant[i,2397] >= median(yellow_little)\n",
    "            yield_per_plant[i,2397] = 1\n",
    "        else\n",
    "            yield_per_plant[i,2397] = 0\n",
    "        end\n",
    "    end\n",
    "end"
   ]
  },
  {
   "cell_type": "code",
   "execution_count": 61,
   "id": "60cc3378",
   "metadata": {},
   "outputs": [
    {
     "data": {
      "text/plain": [
       "\"./processed-data/otu-yield-per-plant.csv\""
      ]
     },
     "execution_count": 61,
     "metadata": {},
     "output_type": "execute_result"
    }
   ],
   "source": [
    "# remove variety2 column\n",
    "yield_per_plant = yield_per_plant[:, Not(2396)]\n",
    "# Write to CSV\n",
    "CSV.write(\"./processed-data/otu-yield-per-plant.csv\", yield_per_plant)"
   ]
  }
 ],
 "metadata": {
  "kernelspec": {
   "display_name": "Julia 1.4.1",
   "language": "julia",
   "name": "julia-1.4"
  },
  "language_info": {
   "file_extension": ".jl",
   "mimetype": "application/julia",
   "name": "julia",
   "version": "1.4.1"
  }
 },
 "nbformat": 4,
 "nbformat_minor": 5
}
