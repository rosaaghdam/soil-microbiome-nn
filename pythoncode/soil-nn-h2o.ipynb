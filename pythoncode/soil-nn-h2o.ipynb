{
 "cells": [
  {
   "cell_type": "code",
   "execution_count": 10,
   "id": "2bb16249",
   "metadata": {},
   "outputs": [
    {
     "name": "stdout",
     "output_type": "stream",
     "text": [
      "Checking whether there is an H2O instance running at http://localhost:54321 . connected.\n"
     ]
    },
    {
     "data": {
      "text/html": [
       "<div style=\"overflow:auto\"><table style=\"width:50%\"><tr><td>H2O_cluster_uptime:</td>\n",
       "<td>21 mins 30 secs</td></tr>\n",
       "<tr><td>H2O_cluster_timezone:</td>\n",
       "<td>America/Chicago</td></tr>\n",
       "<tr><td>H2O_data_parsing_timezone:</td>\n",
       "<td>UTC</td></tr>\n",
       "<tr><td>H2O_cluster_version:</td>\n",
       "<td>3.36.1.4</td></tr>\n",
       "<tr><td>H2O_cluster_version_age:</td>\n",
       "<td>23 days </td></tr>\n",
       "<tr><td>H2O_cluster_name:</td>\n",
       "<td>H2O_from_python_rosa_ijmsvh</td></tr>\n",
       "<tr><td>H2O_cluster_total_nodes:</td>\n",
       "<td>1</td></tr>\n",
       "<tr><td>H2O_cluster_free_memory:</td>\n",
       "<td>3.947 Gb</td></tr>\n",
       "<tr><td>H2O_cluster_total_cores:</td>\n",
       "<td>10</td></tr>\n",
       "<tr><td>H2O_cluster_allowed_cores:</td>\n",
       "<td>10</td></tr>\n",
       "<tr><td>H2O_cluster_status:</td>\n",
       "<td>locked, healthy</td></tr>\n",
       "<tr><td>H2O_connection_url:</td>\n",
       "<td>http://localhost:54321</td></tr>\n",
       "<tr><td>H2O_connection_proxy:</td>\n",
       "<td>{\"http\": null, \"https\": null}</td></tr>\n",
       "<tr><td>H2O_internal_security:</td>\n",
       "<td>False</td></tr>\n",
       "<tr><td>Python_version:</td>\n",
       "<td>3.10.4 final</td></tr></table></div>"
      ],
      "text/plain": [
       "--------------------------  -----------------------------\n",
       "H2O_cluster_uptime:         21 mins 30 secs\n",
       "H2O_cluster_timezone:       America/Chicago\n",
       "H2O_data_parsing_timezone:  UTC\n",
       "H2O_cluster_version:        3.36.1.4\n",
       "H2O_cluster_version_age:    23 days\n",
       "H2O_cluster_name:           H2O_from_python_rosa_ijmsvh\n",
       "H2O_cluster_total_nodes:    1\n",
       "H2O_cluster_free_memory:    3.947 Gb\n",
       "H2O_cluster_total_cores:    10\n",
       "H2O_cluster_allowed_cores:  10\n",
       "H2O_cluster_status:         locked, healthy\n",
       "H2O_connection_url:         http://localhost:54321\n",
       "H2O_connection_proxy:       {\"http\": null, \"https\": null}\n",
       "H2O_internal_security:      False\n",
       "Python_version:             3.10.4 final\n",
       "--------------------------  -----------------------------"
      ]
     },
     "metadata": {},
     "output_type": "display_data"
    }
   ],
   "source": [
    "#pip install -f http://h2o-release.s3.amazonaws.com/h2o/latest_stable_Py.html h2o\n",
    "import h2o\n",
    "from h2o.automl import H2OAutoML\n",
    "import os\n",
    "import pandas as pd\n",
    "import xlsxwriter\n",
    "from sklearn.model_selection import train_test_split\n",
    "from sklearn.metrics import confusion_matrix, classification_report\n",
    "h2o.init()\n",
    "#h2o.init(ip=\"127.0.0.1\",max_mem_size_GB = 4)"
   ]
  },
  {
   "cell_type": "code",
   "execution_count": 3,
   "id": "2619d99b",
   "metadata": {},
   "outputs": [],
   "source": [
    "#https://docs.h2o.ai/h2o/latest-stable/h2o-docs/automl.html"
   ]
  },
  {
   "cell_type": "code",
   "execution_count": 4,
   "id": "309edc16",
   "metadata": {},
   "outputs": [],
   "source": [
    "# # Import a sample binary outcome train/test set into H2O\n",
    "# train = h2o.import_file(\"https://s3.amazonaws.com/erin-data/higgs/higgs_train_10k.csv\")\n",
    "# test = h2o.import_file(\"https://s3.amazonaws.com/erin-data/higgs/higgs_test_5k.csv\")\n",
    "# train.shape\n",
    "# # Identify predictors and response\n",
    "# x = train.columns\n",
    "# y = \"response\"\n",
    "# x.remove(y)\n",
    "# # For binary classification, response should be a factor\n",
    "# train[y] = train[y].asfactor()\n",
    "# test[y] = test[y].asfactor()\n",
    "# # Run AutoML for 20 base models\n",
    "# aml = H2OAutoML(max_models=3, seed=1)\n",
    "# aml.train(x=x, y=y, training_frame=train)\n",
    "# # View the AutoML Leaderboard\n",
    "# lb = aml.leaderboard\n",
    "# lb.head(rows=lb.nrows)  # Print all rows instead of default (10 rows)\n",
    "\n",
    "# # To generate predictions on a test set, you can make predictions\n",
    "# # directly on the `H2OAutoML` object or on the leader model\n",
    "# # object directly\n",
    "# preds = aml.predict(test)\n",
    "\n",
    "# # or:\n",
    "# preds = aml.leader.predict(test)"
   ]
  },
  {
   "cell_type": "code",
   "execution_count": 5,
   "id": "2a616be9",
   "metadata": {},
   "outputs": [],
   "source": [
    "# path_response='/Users/rosa/Desktop/ALLWork/Madison/Project/Soil-nn/Code/pythoncode/Main Data Files/response/'\n",
    "# for file in os.listdir(path_response):\n",
    "#     response = h2o.import_file(path_response+file)\n",
    "#     respnse=response.set_names(['C1', 'Variety2','y_c','y_b'])\n",
    "#     #respnse_col = response.columns\n",
    "#     #respnse_col.remove(respnse_col[1])\n",
    "#     #respnse_col.remove(respnse_col[1])\n",
    "    \n",
    "#     path_x = '/Users/rosa/Desktop/ALLWork/Madison/Project/Soil-nn/Code/pythoncode/Main Data Files/normalized_data/'\n",
    "#     for file_folder in os.listdir(path_x):\n",
    "#         if (file_folder[-4:] != '.csv') & (file_folder != '.DS_Store'):\n",
    "#             path = path_x+file_folder\n",
    "#             os.chdir(path)\n",
    "#             file_list = []\n",
    "#             for file in os.listdir(path):\n",
    "#                 if (file[0] != 'R') & (file[-4:] == '.csv'):\n",
    "#                     file_list.append(file) \n",
    "#                     data_temp = h2o.import_file(file) \n",
    "#                     data.merge(response)"
   ]
  },
  {
   "cell_type": "code",
   "execution_count": 23,
   "id": "8e204759",
   "metadata": {
    "scrolled": true
   },
   "outputs": [
    {
     "name": "stdout",
     "output_type": "stream",
     "text": [
      "no_tuber_silver_scurf\n",
      " 1 _ 1 .csv\n",
      "Parse progress: |████████████████████████████████████████████████████████████████| (done) 100%\n",
      "Parse progress: |████████████████████████████████████████████████████████████████| (done) 100%\n",
      "AutoML progress: |██\n",
      "19:03:22.87: _min_rows param, The dataset size is too small to split for min_rows=100.0: must have at least 200.0 (weighted) rows, but have only 171.0.\n",
      "\n",
      "█████████████████████████████ (cancelled)\n"
     ]
    },
    {
     "ename": "H2OJobCancelled",
     "evalue": "Job<$03017f00000132d4ffffffff$_ac39f7ea3e4fdff39a8dfc6f8db34790> was cancelled by the user.",
     "output_type": "error",
     "traceback": [
      "\u001b[0;31m---------------------------------------------------------------------------\u001b[0m",
      "\u001b[0;31mH2OJobCancelled\u001b[0m                           Traceback (most recent call last)",
      "Input \u001b[0;32mIn [23]\u001b[0m, in \u001b[0;36m<cell line: 2>\u001b[0;34m()\u001b[0m\n\u001b[1;32m     43\u001b[0m \u001b[38;5;66;03m# Run AutoML for 20 base models\u001b[39;00m\n\u001b[1;32m     44\u001b[0m aml \u001b[38;5;241m=\u001b[39m H2OAutoML(max_runtime_secs \u001b[38;5;241m=\u001b[39m \u001b[38;5;241m70\u001b[39m, seed\u001b[38;5;241m=\u001b[39m\u001b[38;5;241m1\u001b[39m)\u001b[38;5;66;03m#max_runtime_secs = 3600)#max_models=20\u001b[39;00m\n\u001b[0;32m---> 45\u001b[0m \u001b[43maml\u001b[49m\u001b[38;5;241;43m.\u001b[39;49m\u001b[43mtrain\u001b[49m\u001b[43m(\u001b[49m\u001b[43mx\u001b[49m\u001b[38;5;241;43m=\u001b[39;49m\u001b[43mx\u001b[49m\u001b[43m,\u001b[49m\u001b[43m \u001b[49m\u001b[43my\u001b[49m\u001b[38;5;241;43m=\u001b[39;49m\u001b[43my\u001b[49m\u001b[43m,\u001b[49m\u001b[43m \u001b[49m\u001b[43mtraining_frame\u001b[49m\u001b[38;5;241;43m=\u001b[39;49m\u001b[43mtrain\u001b[49m\u001b[43m)\u001b[49m\n\u001b[1;32m     46\u001b[0m \u001b[38;5;66;03m# View the AutoML Leaderboard\u001b[39;00m\n\u001b[1;32m     47\u001b[0m lb \u001b[38;5;241m=\u001b[39m aml\u001b[38;5;241m.\u001b[39mleaderboard\n",
      "File \u001b[0;32m~/opt/anaconda3/envs/soil_env2/lib/python3.10/site-packages/h2o/automl/_estimator.py:679\u001b[0m, in \u001b[0;36mH2OAutoML.train\u001b[0;34m(self, x, y, training_frame, fold_column, weights_column, validation_frame, leaderboard_frame, blending_frame)\u001b[0m\n\u001b[1;32m    677\u001b[0m poll_updates \u001b[38;5;241m=\u001b[39m ft\u001b[38;5;241m.\u001b[39mpartial(\u001b[38;5;28mself\u001b[39m\u001b[38;5;241m.\u001b[39m_poll_training_updates, verbosity\u001b[38;5;241m=\u001b[39m\u001b[38;5;28mself\u001b[39m\u001b[38;5;241m.\u001b[39m_verbosity, state\u001b[38;5;241m=\u001b[39m{})\n\u001b[1;32m    678\u001b[0m \u001b[38;5;28;01mtry\u001b[39;00m:\n\u001b[0;32m--> 679\u001b[0m     \u001b[38;5;28;43mself\u001b[39;49m\u001b[38;5;241;43m.\u001b[39;49m\u001b[43m_job\u001b[49m\u001b[38;5;241;43m.\u001b[39;49m\u001b[43mpoll\u001b[49m\u001b[43m(\u001b[49m\u001b[43mpoll_updates\u001b[49m\u001b[38;5;241;43m=\u001b[39;49m\u001b[43mpoll_updates\u001b[49m\u001b[43m)\u001b[49m\n\u001b[1;32m    680\u001b[0m \u001b[38;5;28;01mfinally\u001b[39;00m:\n\u001b[1;32m    681\u001b[0m     poll_updates(\u001b[38;5;28mself\u001b[39m\u001b[38;5;241m.\u001b[39m_job, \u001b[38;5;241m1\u001b[39m)\n",
      "File \u001b[0;32m~/opt/anaconda3/envs/soil_env2/lib/python3.10/site-packages/h2o/job.py:87\u001b[0m, in \u001b[0;36mH2OJob.poll\u001b[0;34m(self, poll_updates)\u001b[0m\n\u001b[1;32m     85\u001b[0m \u001b[38;5;66;03m# check if failed... and politely print relevant message\u001b[39;00m\n\u001b[1;32m     86\u001b[0m \u001b[38;5;28;01mif\u001b[39;00m \u001b[38;5;28mself\u001b[39m\u001b[38;5;241m.\u001b[39mstatus \u001b[38;5;241m==\u001b[39m \u001b[38;5;124m\"\u001b[39m\u001b[38;5;124mCANCELLED\u001b[39m\u001b[38;5;124m\"\u001b[39m:\n\u001b[0;32m---> 87\u001b[0m     \u001b[38;5;28;01mraise\u001b[39;00m H2OJobCancelled(\u001b[38;5;124m\"\u001b[39m\u001b[38;5;124mJob<\u001b[39m\u001b[38;5;132;01m%s\u001b[39;00m\u001b[38;5;124m> was cancelled by the user.\u001b[39m\u001b[38;5;124m\"\u001b[39m \u001b[38;5;241m%\u001b[39m \u001b[38;5;28mself\u001b[39m\u001b[38;5;241m.\u001b[39mjob_key)\n\u001b[1;32m     88\u001b[0m \u001b[38;5;28;01mif\u001b[39;00m \u001b[38;5;28mself\u001b[39m\u001b[38;5;241m.\u001b[39mstatus \u001b[38;5;241m==\u001b[39m \u001b[38;5;124m\"\u001b[39m\u001b[38;5;124mFAILED\u001b[39m\u001b[38;5;124m\"\u001b[39m:\n\u001b[1;32m     89\u001b[0m     \u001b[38;5;28;01mif\u001b[39;00m (\u001b[38;5;28misinstance\u001b[39m(\u001b[38;5;28mself\u001b[39m\u001b[38;5;241m.\u001b[39mjob, \u001b[38;5;28mdict\u001b[39m)) \u001b[38;5;129;01mand\u001b[39;00m (\u001b[38;5;124m\"\u001b[39m\u001b[38;5;124mstacktrace\u001b[39m\u001b[38;5;124m\"\u001b[39m \u001b[38;5;129;01min\u001b[39;00m \u001b[38;5;28mlist\u001b[39m(\u001b[38;5;28mself\u001b[39m\u001b[38;5;241m.\u001b[39mjob)):\n",
      "\u001b[0;31mH2OJobCancelled\u001b[0m: Job<$03017f00000132d4ffffffff$_ac39f7ea3e4fdff39a8dfc6f8db34790> was cancelled by the user."
     ]
    }
   ],
   "source": [
    "path_response='/Users/rosa/Desktop/ALLWork/Madison/Project/Soil-nn/Code/python code local/Main Data Files/response/'\n",
    "for file_response in os.listdir(path_response):\n",
    "    if (file_response != '.DS_Store')& (file_response != 'Icon\\r'):\n",
    "        print(file_response)\n",
    "        path_r= path_response+file_response\n",
    "        os.chdir(path_r)\n",
    "        for re in os.listdir(path_r):\n",
    "            if re[0:8] == 'response':\n",
    "                response = pd.read_csv(path_response+file_response+'/'+re)\n",
    "                response.rename(columns={'Column1':'Link_ID','x1':'y_b'}, inplace=True)\n",
    "                response.drop(columns=response.columns[2], inplace=True)\n",
    "                response=response.drop(columns='Variety2')\n",
    "                path_x = '/Users/rosa/Desktop/ALLWork/Madison/Project/Soil-nn/Code/python code local/Main Data Files/OTUData-1-1/'\n",
    "                writer= pd.ExcelWriter(path_r+'/'+'classification_H2o'+'.xlsx', engine='xlsxwriter')\n",
    "                for file_folder in os.listdir(path_x):\n",
    "                    if (file_folder[-4:] != '.csv') & (file_folder != '.DS_Store')& (file_response != 'Icon\\r'):\n",
    "                        \n",
    "                        path = path_x+file_folder\n",
    "                        os.chdir(path)\n",
    "                        file_list = []\n",
    "                        classification=pd.DataFrame()\n",
    "                        writer_feature = pd.ExcelWriter(path_r+'/'+'feature_important_H20'+'_'+file_folder+'.xlsx', engine='xlsxwriter')\n",
    "                        for file in os.listdir(path):\n",
    "                            if (file[0] != 't') & (file[-4:] == '.csv') & (file != '.DS_Store')& (file_response != 'Icon\\r'):\n",
    "                                print(file)\n",
    "                                file_list.append(file)\n",
    "                                data_temp = pd.read_csv(file)\n",
    "                                data_temp.rename(columns={'Unnamed: 0':'Link_ID'}, inplace=True)\n",
    "                                data=pd.merge(response,data_temp,on='Link_ID')\n",
    "                                data.drop(columns=\"Link_ID\",inplace=True)\n",
    "                                train_pd,test_pd=train_test_split(data,train_size=0.8, random_state=42)\n",
    "                                train_pd.to_csv('train.csv',index=False)\n",
    "                                test_pd.to_csv('test.csv',index=False)\n",
    "                                train= h2o.import_file('train.csv')\n",
    "                                test= h2o.import_file('test.csv')\n",
    "                                # Identify predictors and response\n",
    "                                x = train.columns\n",
    "                                y = \"y_b\"\n",
    "                                x.remove(y)\n",
    "                                # For binary classification, response should be a factor\n",
    "                                train[y] = train[y].asfactor()\n",
    "                                test[y] = test[y].asfactor()\n",
    "                                # Run AutoML for 20 base models\n",
    "                                aml = H2OAutoML(max_runtime_secs = 70, seed=1)#max_runtime_secs = 3600)#max_models=20\n",
    "                                aml.train(x=x, y=y, training_frame=train)\n",
    "                                # View the AutoML Leaderboard\n",
    "                                lb = aml.leaderboard\n",
    "                                m = aml.get_best_model(criterion=\"logloss\")\n",
    "                                print(m.params.keys())\n",
    "                                # Get leaderboard with all possible columns\n",
    "                                lb = h2o.automl.get_leaderboard(aml, extra_columns = \"ALL\")\n",
    "                                print(lb)\n",
    "                                #test=test.drop(\"y_b\",axis=1)\n",
    "                                if m is not None:\n",
    "                                    preds = m.predict(test)    \n",
    "                                    y_valid = preds['predict']\n",
    "                                    report_RF = classification_report(test_pd['y_b'].values, y_valid.as_data_frame(),output_dict=True)\n",
    "                                    dRF = pd.DataFrame(report_RF).transpose()\n",
    "                                    classification=pd.concat([classification,dRF['f1-score']],axis=1)\n",
    "                                    if m.varimp(use_pandas=True) is not None:\n",
    "                                        m.varimp(use_pandas=True).to_excel(writer_feature, sheet_name=file, index=True)\n",
    "                        writer_feature.save()   \n",
    "                        classification.index=dRF.index\n",
    "                        classification.to_excel(writer, sheet_name=file_folder, index=True)\n",
    "                writer.save() \n",
    "                    \n",
    "                       "
   ]
  },
  {
   "cell_type": "code",
   "execution_count": 24,
   "id": "786a648e",
   "metadata": {},
   "outputs": [],
   "source": [
    "xgb = aml.get_best_model(algorithm=\"xgboost\")"
   ]
  },
  {
   "cell_type": "code",
   "execution_count": 25,
   "id": "cd595a65",
   "metadata": {},
   "outputs": [
    {
     "data": {
      "text/plain": [
       "dict_keys(['model_id', 'training_frame', 'validation_frame', 'nfolds', 'keep_cross_validation_models', 'keep_cross_validation_predictions', 'keep_cross_validation_fold_assignment', 'score_each_iteration', 'fold_assignment', 'fold_column', 'response_column', 'ignored_columns', 'ignore_const_cols', 'offset_column', 'weights_column', 'stopping_rounds', 'stopping_metric', 'stopping_tolerance', 'max_runtime_secs', 'seed', 'distribution', 'tweedie_power', 'categorical_encoding', 'quiet_mode', 'checkpoint', 'export_checkpoints_dir', 'ntrees', 'max_depth', 'min_rows', 'min_child_weight', 'learn_rate', 'eta', 'sample_rate', 'subsample', 'col_sample_rate', 'colsample_bylevel', 'col_sample_rate_per_tree', 'colsample_bytree', 'colsample_bynode', 'max_abs_leafnode_pred', 'max_delta_step', 'monotone_constraints', 'interaction_constraints', 'score_tree_interval', 'min_split_improvement', 'gamma', 'nthread', 'save_matrix_directory', 'build_tree_one_node', 'calibrate_model', 'calibration_frame', 'max_bins', 'max_leaves', 'sample_type', 'normalize_type', 'rate_drop', 'one_drop', 'skip_drop', 'tree_method', 'grow_policy', 'booster', 'reg_lambda', 'reg_alpha', 'dmatrix_type', 'backend', 'gpu_id', 'gainslift_bins', 'auc_type', 'scale_pos_weight'])"
      ]
     },
     "execution_count": 25,
     "metadata": {},
     "output_type": "execute_result"
    }
   ],
   "source": [
    "xgb.params.keys()"
   ]
  },
  {
   "cell_type": "code",
   "execution_count": 26,
   "id": "7a4146c3",
   "metadata": {},
   "outputs": [
    {
     "data": {
      "text/plain": [
       "{'default': 50, 'actual': 39, 'input': 10000}"
      ]
     },
     "execution_count": 26,
     "metadata": {},
     "output_type": "execute_result"
    }
   ],
   "source": [
    "# Inspect individual parameter values\n",
    "xgb.params['ntrees']"
   ]
  },
  {
   "cell_type": "code",
   "execution_count": 12,
   "id": "78b5cde8",
   "metadata": {},
   "outputs": [],
   "source": [
    "lb = h2o.automl.get_leaderboard(aml, extra_columns = \"ALL\")"
   ]
  },
  {
   "cell_type": "code",
   "execution_count": 15,
   "id": "46480440",
   "metadata": {},
   "outputs": [
    {
     "data": {
      "text/plain": [
       "{'model_id': {'default': None,\n",
       "  'actual': {'__meta': {'schema_version': 3,\n",
       "    'schema_name': 'ModelKeyV3',\n",
       "    'schema_type': 'Key<Model>'},\n",
       "   'name': 'GBM_4_AutoML_5_20220826_184804',\n",
       "   'type': 'Key<Model>',\n",
       "   'URL': '/3/Models/GBM_4_AutoML_5_20220826_184804'},\n",
       "  'input': None},\n",
       " 'training_frame': {'default': None,\n",
       "  'actual': {'__meta': {'schema_version': 3,\n",
       "    'schema_name': 'FrameKeyV3',\n",
       "    'schema_type': 'Key<Frame>'},\n",
       "   'name': 'AutoML_5_20220826_184804_training_py_30_sid_8bd2',\n",
       "   'type': 'Key<Frame>',\n",
       "   'URL': '/3/Frames/AutoML_5_20220826_184804_training_py_30_sid_8bd2'},\n",
       "  'input': {'__meta': {'schema_version': 3,\n",
       "    'schema_name': 'FrameKeyV3',\n",
       "    'schema_type': 'Key<Frame>'},\n",
       "   'name': 'AutoML_5_20220826_184804_training_py_30_sid_8bd2',\n",
       "   'type': 'Key<Frame>',\n",
       "   'URL': '/3/Frames/AutoML_5_20220826_184804_training_py_30_sid_8bd2'}},\n",
       " 'validation_frame': {'default': None, 'actual': None, 'input': None},\n",
       " 'nfolds': {'default': 0, 'actual': 5, 'input': 5},\n",
       " 'keep_cross_validation_models': {'default': True,\n",
       "  'actual': False,\n",
       "  'input': False},\n",
       " 'keep_cross_validation_predictions': {'default': False,\n",
       "  'actual': True,\n",
       "  'input': True},\n",
       " 'keep_cross_validation_fold_assignment': {'default': False,\n",
       "  'actual': False,\n",
       "  'input': False},\n",
       " 'score_each_iteration': {'default': False, 'actual': False, 'input': False},\n",
       " 'score_tree_interval': {'default': 0, 'actual': 5, 'input': 5},\n",
       " 'fold_assignment': {'default': 'AUTO', 'actual': 'Modulo', 'input': 'Modulo'},\n",
       " 'fold_column': {'default': None, 'actual': None, 'input': None},\n",
       " 'response_column': {'default': None,\n",
       "  'actual': {'__meta': {'schema_version': 3,\n",
       "    'schema_name': 'ColSpecifierV3',\n",
       "    'schema_type': 'VecSpecifier'},\n",
       "   'column_name': 'y_b',\n",
       "   'is_member_of_frames': None},\n",
       "  'input': {'__meta': {'schema_version': 3,\n",
       "    'schema_name': 'ColSpecifierV3',\n",
       "    'schema_type': 'VecSpecifier'},\n",
       "   'column_name': 'y_b',\n",
       "   'is_member_of_frames': None}},\n",
       " 'ignored_columns': {'default': None, 'actual': [], 'input': []},\n",
       " 'ignore_const_cols': {'default': True, 'actual': True, 'input': True},\n",
       " 'offset_column': {'default': None, 'actual': None, 'input': None},\n",
       " 'weights_column': {'default': None, 'actual': None, 'input': None},\n",
       " 'balance_classes': {'default': False, 'actual': False, 'input': False},\n",
       " 'class_sampling_factors': {'default': None, 'actual': None, 'input': None},\n",
       " 'max_after_balance_size': {'default': 5.0, 'actual': 5.0, 'input': 5.0},\n",
       " 'max_confusion_matrix_size': {'default': 20, 'actual': 20, 'input': 20},\n",
       " 'ntrees': {'default': 50, 'actual': 95, 'input': 10000},\n",
       " 'max_depth': {'default': 5, 'actual': 10, 'input': 10},\n",
       " 'min_rows': {'default': 10.0, 'actual': 10.0, 'input': 10.0},\n",
       " 'nbins': {'default': 20, 'actual': 20, 'input': 20},\n",
       " 'nbins_top_level': {'default': 1024, 'actual': 1024, 'input': 1024},\n",
       " 'nbins_cats': {'default': 1024, 'actual': 1024, 'input': 1024},\n",
       " 'r2_stopping': {'default': 1.7976931348623157e+308,\n",
       "  'actual': 1.7976931348623157e+308,\n",
       "  'input': 1.7976931348623157e+308},\n",
       " 'stopping_rounds': {'default': 0, 'actual': 0, 'input': 3},\n",
       " 'stopping_metric': {'default': 'AUTO',\n",
       "  'actual': 'logloss',\n",
       "  'input': 'logloss'},\n",
       " 'stopping_tolerance': {'default': 0.001, 'actual': 0.05, 'input': 0.05},\n",
       " 'max_runtime_secs': {'default': 0.0,\n",
       "  'actual': 22.338000488281253,\n",
       "  'input': 17.870400390625},\n",
       " 'seed': {'default': -1, 'actual': 9, 'input': 9},\n",
       " 'build_tree_one_node': {'default': False, 'actual': False, 'input': False},\n",
       " 'learn_rate': {'default': 0.1, 'actual': 0.1, 'input': 0.1},\n",
       " 'learn_rate_annealing': {'default': 1.0, 'actual': 1.0, 'input': 1.0},\n",
       " 'distribution': {'default': 'AUTO',\n",
       "  'actual': 'bernoulli',\n",
       "  'input': 'bernoulli'},\n",
       " 'quantile_alpha': {'default': 0.5, 'actual': 0.5, 'input': 0.5},\n",
       " 'tweedie_power': {'default': 1.5, 'actual': 1.5, 'input': 1.5},\n",
       " 'huber_alpha': {'default': 0.9, 'actual': 0.9, 'input': 0.9},\n",
       " 'checkpoint': {'default': None, 'actual': None, 'input': None},\n",
       " 'sample_rate': {'default': 1.0, 'actual': 0.8, 'input': 0.8},\n",
       " 'sample_rate_per_class': {'default': None, 'actual': None, 'input': None},\n",
       " 'col_sample_rate': {'default': 1.0, 'actual': 0.8, 'input': 0.8},\n",
       " 'col_sample_rate_change_per_level': {'default': 1.0,\n",
       "  'actual': 1.0,\n",
       "  'input': 1.0},\n",
       " 'col_sample_rate_per_tree': {'default': 1.0, 'actual': 0.8, 'input': 0.8},\n",
       " 'min_split_improvement': {'default': 1e-05, 'actual': 1e-05, 'input': 1e-05},\n",
       " 'histogram_type': {'default': 'AUTO',\n",
       "  'actual': 'UniformAdaptive',\n",
       "  'input': 'AUTO'},\n",
       " 'max_abs_leafnode_pred': {'default': 1.7976931348623157e+308,\n",
       "  'actual': 1.7976931348623157e+308,\n",
       "  'input': 1.7976931348623157e+308},\n",
       " 'pred_noise_bandwidth': {'default': 0.0, 'actual': 0.0, 'input': 0.0},\n",
       " 'categorical_encoding': {'default': 'AUTO',\n",
       "  'actual': 'Enum',\n",
       "  'input': 'AUTO'},\n",
       " 'calibrate_model': {'default': False, 'actual': False, 'input': False},\n",
       " 'calibration_frame': {'default': None, 'actual': None, 'input': None},\n",
       " 'custom_metric_func': {'default': None, 'actual': None, 'input': None},\n",
       " 'custom_distribution_func': {'default': None, 'actual': None, 'input': None},\n",
       " 'export_checkpoints_dir': {'default': None, 'actual': None, 'input': None},\n",
       " 'monotone_constraints': {'default': None, 'actual': None, 'input': None},\n",
       " 'check_constant_response': {'default': True, 'actual': True, 'input': True},\n",
       " 'gainslift_bins': {'default': -1, 'actual': -1, 'input': -1},\n",
       " 'auc_type': {'default': 'AUTO', 'actual': 'AUTO', 'input': 'AUTO'},\n",
       " 'interaction_constraints': {'default': None, 'actual': None, 'input': None}}"
      ]
     },
     "execution_count": 15,
     "metadata": {},
     "output_type": "execute_result"
    }
   ],
   "source": [
    "m.params"
   ]
  },
  {
   "cell_type": "code",
   "execution_count": 16,
   "id": "c4c22952",
   "metadata": {},
   "outputs": [
    {
     "data": {
      "text/plain": [
       "{'model_id': None,\n",
       " 'training_frame': None,\n",
       " 'validation_frame': None,\n",
       " 'nfolds': 0,\n",
       " 'keep_cross_validation_models': True,\n",
       " 'keep_cross_validation_predictions': False,\n",
       " 'keep_cross_validation_fold_assignment': False,\n",
       " 'score_each_iteration': False,\n",
       " 'score_tree_interval': 0,\n",
       " 'fold_assignment': 'auto',\n",
       " 'fold_column': None,\n",
       " 'response_column': None,\n",
       " 'ignored_columns': None,\n",
       " 'ignore_const_cols': True,\n",
       " 'offset_column': None,\n",
       " 'weights_column': None,\n",
       " 'balance_classes': False,\n",
       " 'class_sampling_factors': None,\n",
       " 'max_after_balance_size': 5.0,\n",
       " 'max_confusion_matrix_size': 20,\n",
       " 'ntrees': 50,\n",
       " 'max_depth': 5,\n",
       " 'min_rows': 10.0,\n",
       " 'nbins': 20,\n",
       " 'nbins_top_level': 1024,\n",
       " 'nbins_cats': 1024,\n",
       " 'r2_stopping': None,\n",
       " 'stopping_rounds': 0,\n",
       " 'stopping_metric': 'auto',\n",
       " 'stopping_tolerance': 0.001,\n",
       " 'max_runtime_secs': 0.0,\n",
       " 'seed': -1,\n",
       " 'build_tree_one_node': False,\n",
       " 'learn_rate': 0.1,\n",
       " 'learn_rate_annealing': 1.0,\n",
       " 'distribution': 'auto',\n",
       " 'quantile_alpha': 0.5,\n",
       " 'tweedie_power': 1.5,\n",
       " 'huber_alpha': 0.9,\n",
       " 'checkpoint': None,\n",
       " 'sample_rate': 1.0,\n",
       " 'sample_rate_per_class': None,\n",
       " 'col_sample_rate': 1.0,\n",
       " 'col_sample_rate_change_per_level': 1.0,\n",
       " 'col_sample_rate_per_tree': 1.0,\n",
       " 'min_split_improvement': 1e-05,\n",
       " 'histogram_type': 'auto',\n",
       " 'max_abs_leafnode_pred': None,\n",
       " 'pred_noise_bandwidth': 0.0,\n",
       " 'categorical_encoding': 'auto',\n",
       " 'calibrate_model': False,\n",
       " 'calibration_frame': None,\n",
       " 'custom_metric_func': None,\n",
       " 'custom_distribution_func': None,\n",
       " 'export_checkpoints_dir': None,\n",
       " 'monotone_constraints': None,\n",
       " 'check_constant_response': True,\n",
       " 'gainslift_bins': -1,\n",
       " 'auc_type': 'auto',\n",
       " 'interaction_constraints': None}"
      ]
     },
     "execution_count": 16,
     "metadata": {},
     "output_type": "execute_result"
    }
   ],
   "source": [
    "m.get_params()"
   ]
  },
  {
   "cell_type": "code",
   "execution_count": null,
   "id": "50932d76",
   "metadata": {},
   "outputs": [],
   "source": [
    "m."
   ]
  },
  {
   "cell_type": "code",
   "execution_count": null,
   "id": "677c9007",
   "metadata": {},
   "outputs": [],
   "source": []
  },
  {
   "cell_type": "code",
   "execution_count": 7,
   "id": "be0e14ec",
   "metadata": {
    "scrolled": true
   },
   "outputs": [],
   "source": [
    "# from h2o.estimators import H2OGradientBoostingEstimator\n",
    "# valid = test\n",
    "# response_col = \"y_b\"\n",
    "# distribution = \"multinomial\"\n",
    "# gbm = H2OGradientBoostingEstimator(nfolds=3,\n",
    "#                                    distribution=distribution)\n",
    "# gbm.train(x=x,\n",
    "#           y=response_col,\n",
    "#           training_frame=train,\n",
    "#           validation_frame=valid)\n",
    "# confusion_matrix = gbm.confusion_matrix()\n",
    "# confusion_matrix\n",
    "#gbm.predict(test)"
   ]
  },
  {
   "cell_type": "code",
   "execution_count": 8,
   "id": "10479c34",
   "metadata": {},
   "outputs": [
    {
     "name": "stderr",
     "output_type": "stream",
     "text": [
      "/Users/rosa/opt/anaconda3/envs/soil_env2/lib/python3.10/site-packages/xlsxwriter/workbook.py:339: UserWarning: Calling close() on already closed file.\n",
      "  warn(\"Calling close() on already closed file.\")\n"
     ]
    }
   ],
   "source": [
    "writer.save()"
   ]
  },
  {
   "cell_type": "code",
   "execution_count": null,
   "id": "a6e9e95c",
   "metadata": {},
   "outputs": [],
   "source": []
  }
 ],
 "metadata": {
  "kernelspec": {
   "display_name": "Python 3 (ipykernel)",
   "language": "python",
   "name": "python3"
  },
  "language_info": {
   "codemirror_mode": {
    "name": "ipython",
    "version": 3
   },
   "file_extension": ".py",
   "mimetype": "text/x-python",
   "name": "python",
   "nbconvert_exporter": "python",
   "pygments_lexer": "ipython3",
   "version": "3.10.4"
  }
 },
 "nbformat": 4,
 "nbformat_minor": 5
}
