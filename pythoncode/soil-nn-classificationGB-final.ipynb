{
 "cells": [
  {
   "cell_type": "code",
   "execution_count": 1,
   "id": "c3e770d6",
   "metadata": {},
   "outputs": [],
   "source": [
    "import numpy as np\n",
    "import pandas as pd\n",
    "from sklearn.model_selection import train_test_split\n",
    "from sklearn.model_selection import RepeatedKFold\n",
    "from sklearn.pipeline import Pipeline\n",
    "import os\n",
    "from sklearn.ensemble import GradientBoostingClassifier\n",
    "from sklearn.metrics import confusion_matrix, classification_report\n",
    "from sklearn.model_selection import GridSearchCV\n",
    "from pandas import ExcelWriter\n",
    "from sklearn.ensemble import RandomForestClassifier"
   ]
  },
  {
   "cell_type": "code",
   "execution_count": 2,
   "id": "8a7fbaf7",
   "metadata": {},
   "outputs": [],
   "source": [
    "import warnings\n",
    "warnings.filterwarnings('ignore')"
   ]
  },
  {
   "cell_type": "code",
   "execution_count": 3,
   "id": "ab79a226",
   "metadata": {},
   "outputs": [],
   "source": [
    "def process_data(data_train,data_val,cv):  \n",
    "    x_column_list = data_train.drop(columns=['y_b']).columns  \n",
    "    percent_label=[round(100*len(np.where(data_train['y_b']==0)[0])/len(data_train)),round(100*len(np.where(data_val['y_b']==0)[0])/len(data_val))]  \n",
    "    #Classification RF  \n",
    "    pipeRF = Pipeline([('classifier', [GradientBoostingClassifier()])])  \n",
    "    param_grid = [  \n",
    "    {'classifier' : [GradientBoostingClassifier()], \n",
    "    'classifier__n_estimators': [100, 200],\n",
    "    'classifier__min_samples_split': [8, 10, 12],\n",
    "    'classifier__min_samples_leaf': [3, 4, 5],\n",
    "     'classifier__max_depth': [80, 90, 100, 110],\n",
    "    'classifier__learning_rate':[0.01,0.1,1,10,100]}]  \n",
    "    clf = GridSearchCV(pipeRF, param_grid = param_grid, cv = cv, n_jobs=-1, scoring='f1_weighted')  \n",
    "    # Fit on data  \n",
    "    clf.fit(data_train[x_column_list],data_train['y_b'])  \n",
    "    best_clf=clf.best_estimator_  \n",
    "    y_valid=best_clf.predict(data_val[x_column_list])  \n",
    "    report_All = classification_report(data_val['y_b'],y_valid,output_dict=True)  \n",
    "    dAll=pd.DataFrame(report_All).transpose()  \n",
    "    return dAll"
   ]
  },
  {
   "cell_type": "code",
   "execution_count": 4,
   "id": "0fc9ebe4",
   "metadata": {},
   "outputs": [],
   "source": [
    "cv=RepeatedKFold(n_splits=10,n_repeats=3, random_state=100)"
   ]
  },
  {
   "cell_type": "code",
   "execution_count": null,
   "id": "726a0441",
   "metadata": {},
   "outputs": [
    {
     "name": "stdout",
     "output_type": "stream",
     "text": [
      "yield_per_meter\n",
      " 1 _ 3 .csv\n"
     ]
    }
   ],
   "source": [
    "path_response='/Users/rosa/Desktop/ALLWork/Madison/Project/Soil-nn/Code/python code local/Main Data Files/response_sklearn_na/'  \n",
    "for file_response in os.listdir(path_response):  \n",
    "    if (file_response != '.DS_Store') & (file_response != 'Icon\\r'):  \n",
    "        print(file_response)  \n",
    "        path_r= path_response+file_response  \n",
    "        os.chdir(path_r)  \n",
    "        for re in os.listdir(path_r):  \n",
    "            if re[0:8] == 'response':  \n",
    "                response = pd.read_csv(path_response+file_response+'/'+re)  \n",
    "                response.rename(columns={'Column1':'Link_ID','x1':'y_b'}, inplace=True)  \n",
    "                response.drop(columns=response.columns[2], inplace=True)  \n",
    "                response=response.drop(columns='Variety2')  \n",
    "                path_x = '/Users/rosa/Desktop/ALLWork/Madison/Project/Soil-nn/Code/python code local/Main Data Files/normalized_data_sklearn_na/'  \n",
    "                writer= pd.ExcelWriter(path_r+'/'+'classification_GB_NA'+'.xlsx', engine='xlsxwriter')   \n",
    "                for file_folder in os.listdir(path_x):  \n",
    "                    if (file_folder[-4:] != '.csv') & (file_folder != '.DS_Store')& (file_folder != 'Icon\\r'):          \n",
    "                        path = path_x+file_folder  \n",
    "                        os.chdir(path)  \n",
    "                        file_list = []  \n",
    "                        tRF=pd.DataFrame()  \n",
    "                        tcluster=pd.DataFrame()  \n",
    "                        k=0  \n",
    "                        for file in os.listdir(path):  \n",
    "                            if (file[0] != 't') & (file[-4:] == '.csv') & (file != '.DS_Store')& (file_folder != 'Icon\\r'):  \n",
    "                                print(file)  \n",
    "                                file_list.append(file)  \n",
    "                                data_temp = pd.read_csv(file)  \n",
    "                                data_temp.rename(columns={'Unnamed: 0':'Link_ID'}, inplace=True)  \n",
    "                                data=pd.merge(response,data_temp,on='Link_ID')  \n",
    "                                data.drop(columns = 'Link_ID',inplace=True)  \n",
    "                                data_train,data_val = train_test_split(data,train_size=0.8, random_state=42)  \n",
    "                                output = process_data(data_train,data_val,cv)  \n",
    "                                tRF[k]=pd.DataFrame(output['f1-score'].values)         \n",
    "                                k=k+1  \n",
    "                        tRF.to_excel(writer, sheet_name=file_folder, index=True)  \n",
    "                writer.save()                      "
   ]
  },
  {
   "cell_type": "code",
   "execution_count": 22,
   "id": "6d71bb12",
   "metadata": {},
   "outputs": [],
   "source": [
    "writer.save()  "
   ]
  },
  {
   "cell_type": "code",
   "execution_count": null,
   "id": "0449e71f",
   "metadata": {},
   "outputs": [],
   "source": []
  }
 ],
 "metadata": {
  "kernelspec": {
   "display_name": "Python 3 (ipykernel)",
   "language": "python",
   "name": "python3"
  },
  "language_info": {
   "codemirror_mode": {
    "name": "ipython",
    "version": 3
   },
   "file_extension": ".py",
   "mimetype": "text/x-python",
   "name": "python",
   "nbconvert_exporter": "python",
   "pygments_lexer": "ipython3",
   "version": "3.10.4"
  }
 },
 "nbformat": 4,
 "nbformat_minor": 5
}
